{
 "cells": [
  {
   "cell_type": "markdown",
   "id": "8f8d0330-39b9-4131-b38e-c62b84133632",
   "metadata": {
    "papermill": {},
    "tags": []
   },
   "source": [
    "<img width=\"10%\" alt=\"Naas\" src=\"https://landen.imgix.net/jtci2pxwjczr/assets/5ice39g4.png?w=160\"/>"
   ]
  },
  {
   "cell_type": "markdown",
   "id": "fc2ec1bd-580b-43a1-a8f5-a709666c7a58",
   "metadata": {
    "papermill": {},
    "tags": []
   },
   "source": [
    "# Python - Check if string is number\n",
    "<a href=\"https://app.naas.ai/user-redirect/naas/downloader?url=https://raw.githubusercontent.com/jupyter-naas/awesome-notebooks/master/Python/Python_Check_if_string_is_number.ipynb\" target=\"_parent\"><img src=\"https://naasai-public.s3.eu-west-3.amazonaws.com/Open_in_Naas_Lab.svg\"/></a><br><br><a href=\"https://bit.ly/3JyWIk6\">Give Feedback</a> | <a href=\"https://github.com/jupyter-naas/awesome-notebooks/issues/new?assignees=&labels=bug&template=bug_report.md&title=Python+-+Check+if+string+is+number:+Error+short+description\">Bug report</a>"
   ]
  },
  {
   "cell_type": "markdown",
   "id": "11a75e81-a553-405e-995e-9e8ad2d94092",
   "metadata": {
    "papermill": {},
    "tags": []
   },
   "source": [
    "**Tags:** #python #string #number #check #isnumber #function"
   ]
  },
  {
   "cell_type": "markdown",
   "id": "81770f6f-f199-4507-8153-868917967788",
   "metadata": {
    "papermill": {},
    "tags": []
   },
   "source": [
    "**Author:** [Florent Ravenel](https://www.linkedin.com/in/florent-ravenel)"
   ]
  },
  {
   "cell_type": "markdown",
   "id": "42adb265-e0d2-4fe8-82f0-d07662b5abb5",
   "metadata": {
    "papermill": {},
    "tags": []
   },
   "source": [
    "**Last update:** 2023-07-25 (Created: 2023-07-25)"
   ]
  },
  {
   "cell_type": "markdown",
   "id": "8e0011a5-217b-4ca2-964a-e26d422e6c78",
   "metadata": {
    "papermill": {},
    "tags": []
   },
   "source": [
    "**Description:** This notebook will check if a string is a number and how it is useful for organizations. It will help to identify if a string is a number or not."
   ]
  },
  {
   "cell_type": "markdown",
   "id": "5d6893b5-e6d1-42cb-932b-759e2b467ae4",
   "metadata": {
    "papermill": {},
    "tags": []
   },
   "source": [
    "**References:**\n",
    "- [Python isdigit()](https://www.programiz.com/python-programming/methods/string/isdigit)\n",
    "- [Python isdecimal()](https://www.programiz.com/python-programming/methods/string/isdecimal)"
   ]
  },
  {
   "cell_type": "markdown",
   "id": "0f6699ce-ad39-406a-a63e-c8fa83448aa5",
   "metadata": {
    "papermill": {},
    "tags": []
   },
   "source": [
    "## Input"
   ]
  },
  {
   "cell_type": "markdown",
   "id": "721334ca-275e-48fd-93b2-22fff4040ff9",
   "metadata": {
    "papermill": {},
    "tags": []
   },
   "source": [
    "### Import libraries"
   ]
  },
  {
   "cell_type": "code",
   "execution_count": null,
   "id": "06b81e18-75fb-4c06-acaf-babba28d95f9",
   "metadata": {
    "papermill": {},
    "tags": []
   },
   "outputs": [],
   "source": [
    "import string"
   ]
  },
  {
   "cell_type": "markdown",
   "id": "cf71b8f4-6b15-440d-a1ec-27de4141598b",
   "metadata": {
    "papermill": {},
    "tags": []
   },
   "source": [
    "### Setup Variables\n",
    "- `string_to_check`: string to check if it is a number"
   ]
  },
  {
   "cell_type": "code",
   "execution_count": null,
   "id": "2d14331d-4297-4a11-92f7-ccec51280baa",
   "metadata": {
    "papermill": {},
    "tags": []
   },
   "outputs": [],
   "source": [
    "string_to_check = \"1a23\""
   ]
  },
  {
   "cell_type": "markdown",
   "id": "be3bb678-8499-4ed1-aaac-bd0359785d0f",
   "metadata": {
    "papermill": {},
    "tags": []
   },
   "source": [
    "## Model"
   ]
  },
  {
   "cell_type": "markdown",
   "id": "656bfdf4-b85e-4d11-a840-03e32343fcfa",
   "metadata": {
    "papermill": {},
    "tags": []
   },
   "source": [
    "### Check if string is number"
   ]
  },
  {
   "cell_type": "markdown",
   "id": "26798783-83c4-4596-be46-112207cb2549",
   "metadata": {
    "papermill": {},
    "tags": []
   },
   "source": [
    "This function will check if a string is a number or not."
   ]
  },
  {
   "cell_type": "code",
   "execution_count": null,
   "id": "ee859855-0c01-44ba-b473-a906925e15a2",
   "metadata": {
    "papermill": {},
    "tags": []
   },
   "outputs": [],
   "source": [
    "def is_number(string):\n",
    "    # Check if string is a digit\n",
    "    if string.isdigit():\n",
    "        return True\n",
    "    # Check if string is a decimal\n",
    "    elif string.isdecimal():\n",
    "        return True\n",
    "    # If not, return False\n",
    "    else:\n",
    "        return False"
   ]
  },
  {
   "cell_type": "markdown",
   "id": "9679082e-02b4-45e2-a26a-f8ad075b7184",
   "metadata": {
    "papermill": {},
    "tags": []
   },
   "source": [
    "## Output"
   ]
  },
  {
   "cell_type": "markdown",
   "id": "a31b759b-c2ed-4217-bf93-3798c9f45985",
   "metadata": {
    "papermill": {},
    "tags": []
   },
   "source": [
    "### Display result"
   ]
  },
  {
   "cell_type": "code",
   "execution_count": null,
   "id": "160e6020-414d-453c-a6dd-4122e40b847a",
   "metadata": {
    "papermill": {},
    "tags": []
   },
   "outputs": [],
   "source": [
    "print(is_number(string_to_check))"
   ]
  },
  {
   "cell_type": "markdown",
   "id": "7561a8d8-0428-44f9-a228-84ee61f20083",
   "metadata": {
    "papermill": {},
    "tags": []
   },
   "source": [
    " "
   ]
  }
 ],
 "metadata": {
  "kernelspec": {
   "display_name": "Python 3",
   "language": "python",
   "name": "python3"
  },
  "language_info": {
   "codemirror_mode": {
    "name": "ipython",
    "version": 3
   },
   "file_extension": ".py",
   "mimetype": "text/x-python",
   "name": "python",
   "nbconvert_exporter": "python",
   "pygments_lexer": "ipython3",
   "version": "3.9.6"
  },
  "naas": {
   "notebook_id": "1285d5b317f4b36ebfc42542b8f98c906a4c3ea71f825078f09766ea31bc076e",
   "notebook_path": "Python/Python_Check_if_string_is_number.ipynb"
  },
  "papermill": {
   "default_parameters": {},
   "environment_variables": {},
   "parameters": {},
   "version": "2.4.0"
  },
  "widgets": {
   "application/vnd.jupyter.widget-state+json": {
    "state": {},
    "version_major": 2,
    "version_minor": 0
   }
  }
 },
 "nbformat": 4,
 "nbformat_minor": 5
}