{
 "cells": [
  {
   "cell_type": "markdown",
   "id": "3677b35b-93fe-4da7-8775-7595cd12285f",
   "metadata": {
    "papermill": {},
    "tags": []
   },
   "source": [
    "<img width=\"10%\" alt=\"Naas\" src=\"https://landen.imgix.net/jtci2pxwjczr/assets/5ice39g4.png?w=160\"/>"
   ]
  },
  {
   "cell_type": "markdown",
   "id": "03656a56-b1a9-4b96-a348-22efc6caed1e",
   "metadata": {
    "papermill": {},
    "tags": []
   },
   "source": [
    "# Python - Flatten nested dict\n",
    "<a href=\"https://app.naas.ai/user-redirect/naas/downloader?url=https://raw.githubusercontent.com/jupyter-naas/awesome-notebooks/master/Python/Python_Flatten_nested_dict.ipynb\" target=\"_parent\"><img src=\"https://naasai-public.s3.eu-west-3.amazonaws.com/Open_in_Naas_Lab.svg\"/></a><br><br><a href=\"https://bit.ly/3JyWIk6\">Give Feedback</a> | <a href=\"https://github.com/jupyter-naas/awesome-notebooks/issues/new?assignees=&labels=bug&template=bug_report.md&title=Python+-+Flatten+nested+dict:+Error+short+description\">Bug report</a>"
   ]
  },
  {
   "cell_type": "markdown",
   "id": "2634d233-813f-4e30-a433-3cda84d21f53",
   "metadata": {
    "papermill": {},
    "tags": []
   },
   "source": [
    "**Tags:** #python #dict #flatten #nested #data #structure"
   ]
  },
  {
   "cell_type": "markdown",
   "id": "ba0ca29f-b518-4139-98ba-ea3653fa4f84",
   "metadata": {
    "papermill": {},
    "tags": []
   },
   "source": [
    "**Author:** [Florent Ravenel](http://linkedin.com/in/florent-ravenel)"
   ]
  },
  {
   "cell_type": "markdown",
   "id": "ca046072-534a-40e6-aa7f-bf3e979e9ad0",
   "metadata": {
    "papermill": {},
    "tags": []
   },
   "source": [
    "**Last update:** 2023-04-12 (Created: 2023-04-04)"
   ]
  },
  {
   "cell_type": "markdown",
   "id": "8e1143a7-62c5-4b3a-b4f8-b45be9fe5de3",
   "metadata": {
    "papermill": {},
    "tags": []
   },
   "source": [
    "**Description:** This notebook will show how to flatten a nested dict in Python."
   ]
  },
  {
   "cell_type": "markdown",
   "id": "61d8c68e-6088-4200-9ce7-044a3a043d44",
   "metadata": {
    "papermill": {},
    "tags": []
   },
   "source": [
    "**References:**\n",
    "- [Python - Flatten a nested dictionary, preserving keys](https://stackoverflow.com/questions/6027558/flatten-nested-dictionaries-compressing-keys)\n",
    "- [Python - How to flatten a shallow list](https://stackoverflow.com/questions/952914/how-to-make-a-flat-list-out-of-list-of-lists)"
   ]
  },
  {
   "cell_type": "markdown",
   "id": "581db9ea-cea6-4872-9218-1ae316a1c661",
   "metadata": {
    "papermill": {},
    "tags": []
   },
   "source": [
    "## Input"
   ]
  },
  {
   "cell_type": "markdown",
   "id": "11d0371c-c3a1-46a0-b2b5-70b0b31b24df",
   "metadata": {
    "papermill": {},
    "tags": []
   },
   "source": [
    "### Import libraries"
   ]
  },
  {
   "cell_type": "code",
   "execution_count": null,
   "id": "fd49f46c-c032-45c1-8f3d-705d29e6a4f0",
   "metadata": {
    "papermill": {},
    "tags": []
   },
   "outputs": [],
   "source": []
  },
  {
   "cell_type": "markdown",
   "id": "65ae6e5d-6d87-4b0d-87b5-986e1afa7039",
   "metadata": {
    "papermill": {},
    "tags": []
   },
   "source": [
    "### Setup Variables"
   ]
  },
  {
   "cell_type": "code",
   "execution_count": null,
   "id": "b3e88a5d-bafe-4203-b534-4c2a234b1f43",
   "metadata": {
    "papermill": {},
    "tags": []
   },
   "outputs": [],
   "source": [
    "# Setup a nested dict\n",
    "nested_dict = {\"key1\": 1, \"key2\": {\"key3\": 1, \"key4\": {\"key5\": 4}}}"
   ]
  },
  {
   "cell_type": "markdown",
   "id": "57167eb0-3224-4f07-8927-db0af3d45f93",
   "metadata": {
    "papermill": {},
    "tags": []
   },
   "source": [
    "## Model"
   ]
  },
  {
   "cell_type": "markdown",
   "id": "6b733a23-33a8-45bb-b046-a35b3b010ecb",
   "metadata": {
    "papermill": {},
    "tags": []
   },
   "source": [
    "### Flatten nested dict"
   ]
  },
  {
   "cell_type": "code",
   "execution_count": null,
   "id": "082e04bd-1db1-4805-8b3d-cabc8cb97d27",
   "metadata": {
    "papermill": {},
    "tags": []
   },
   "outputs": [],
   "source": [
    "# Flatten the nested dict\n",
    "def flatten_dict(d, parent_key='', sep='_'):\n",
    "    \"\"\"\n",
    "    Flattens a nested dictionary into a single level dictionary.\n",
    "\n",
    "    Args:\n",
    "        d (dict): A nested dictionary.\n",
    "        parent_key (str): Optional string to prefix the keys with.\n",
    "        sep (str): Optional separator to use between parent_key and child_key.\n",
    "\n",
    "    Returns:\n",
    "        dict: A flattened dictionary.\n",
    "    \"\"\"\n",
    "    items = []\n",
    "    for k, v in d.items():\n",
    "        new_key = f\"{parent_key}{sep}{k}\" if parent_key else k\n",
    "        if isinstance(v, dict):\n",
    "            items.extend(flatten_dict(v, new_key, sep=sep).items())\n",
    "        else:\n",
    "            items.append((new_key, v))\n",
    "    return dict(items)\n",
    "\n",
    "\n",
    "flatten_dict = flatten_dict(nested_dict)"
   ]
  },
  {
   "cell_type": "markdown",
   "id": "009ef8fe-6637-430e-bf9f-b8265566be14",
   "metadata": {
    "papermill": {},
    "tags": []
   },
   "source": [
    "## Output"
   ]
  },
  {
   "cell_type": "markdown",
   "id": "a9c3fc4d-3f84-4747-b6b4-e2738c23096f",
   "metadata": {
    "papermill": {},
    "tags": []
   },
   "source": [
    "### Display result"
   ]
  },
  {
   "cell_type": "code",
   "execution_count": null,
   "id": "1462290c-8687-4478-82e5-c2e8b0069d66",
   "metadata": {
    "papermill": {},
    "tags": []
   },
   "outputs": [],
   "source": [
    "# Display the flatten dict\n",
    "flatten_dict"
   ]
  },
  {
   "cell_type": "markdown",
   "id": "cdddc256-a840-4160-955b-2483f69dca7d",
   "metadata": {
    "papermill": {},
    "tags": []
   },
   "source": [
    " "
   ]
  }
 ],
 "metadata": {
  "kernelspec": {
   "display_name": "Python 3",
   "language": "python",
   "name": "python3"
  },
  "language_info": {
   "codemirror_mode": {
    "name": "ipython",
    "version": 3
   },
   "file_extension": ".py",
   "mimetype": "text/x-python",
   "name": "python",
   "nbconvert_exporter": "python",
   "pygments_lexer": "ipython3",
   "version": "3.9.6"
  },
  "naas": {
   "notebook_id": "c481bc8d4efd4aff05e1577eb197f2cfeed1834b5fd496a8438a190c5684c9f8",
   "notebook_path": "Python/Python_Flatten_nested_dict.ipynb"
  },
  "papermill": {
   "default_parameters": {},
   "environment_variables": {},
   "parameters": {},
   "version": "2.4.0"
  },
  "widgets": {
   "application/vnd.jupyter.widget-state+json": {
    "state": {},
    "version_major": 2,
    "version_minor": 0
   }
  }
 },
 "nbformat": 4,
 "nbformat_minor": 5
}