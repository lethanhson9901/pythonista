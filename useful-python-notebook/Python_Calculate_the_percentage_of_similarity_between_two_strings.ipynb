{
 "cells": [
  {
   "cell_type": "markdown",
   "id": "4afe0ebd-7dcc-44fc-b16a-57be8e02740e",
   "metadata": {
    "papermill": {},
    "tags": []
   },
   "source": [
    "<img width=\"10%\" alt=\"Naas\" src=\"https://landen.imgix.net/jtci2pxwjczr/assets/5ice39g4.png?w=160\"/>"
   ]
  },
  {
   "cell_type": "markdown",
   "id": "ad8b5b47-ef1e-4d38-ba2c-3456113650ec",
   "metadata": {
    "papermill": {},
    "tags": []
   },
   "source": [
    "# Python - Calculate the percentage of similarity between two strings\n",
    "<a href=\"https://app.naas.ai/user-redirect/naas/downloader?url=https://raw.githubusercontent.com/jupyter-naas/awesome-notebooks/master/Python/Python_Calculate_the_percentage_of_similarity_between_two_strings.ipynb\" target=\"_parent\"><img src=\"https://naasai-public.s3.eu-west-3.amazonaws.com/Open_in_Naas_Lab.svg\"/></a><br><br><a href=\"https://bit.ly/3JyWIk6\">Give Feedback</a> | <a href=\"https://github.com/jupyter-naas/awesome-notebooks/issues/new?assignees=&labels=bug&template=bug_report.md&title=Python+-+Calculate+the+percentage+of+similarity+between+two+strings:+Error+short+description\">Bug report</a>"
   ]
  },
  {
   "cell_type": "markdown",
   "id": "0b944f07-c50a-441b-8298-24d5734fc807",
   "metadata": {
    "papermill": {},
    "tags": []
   },
   "source": [
    "**Tags:** #python #string #similarity #calculate #percentage #compare"
   ]
  },
  {
   "cell_type": "markdown",
   "id": "746ca9e4-8360-460b-9529-9120746b391a",
   "metadata": {
    "papermill": {},
    "tags": []
   },
   "source": [
    "**Author:** [Florent Ravenel](https://www.linkedin.com/in/florent-ravenel)"
   ]
  },
  {
   "cell_type": "markdown",
   "id": "103106b9-0d84-485a-93b3-93a258b44383",
   "metadata": {
    "papermill": {},
    "tags": []
   },
   "source": [
    "**Last update:** 2023-08-28 (Created: 2023-08-28)"
   ]
  },
  {
   "cell_type": "markdown",
   "id": "f646fd0b-8c2a-48b1-96fa-5a2fb03b9878",
   "metadata": {
    "papermill": {},
    "tags": []
   },
   "source": [
    "**Description:** This notebook calculates the percentage of similarity between two strings and is usefull for organizations to compare two strings and measure their similarity."
   ]
  },
  {
   "cell_type": "markdown",
   "id": "2e240ed9-ac32-4727-b3b5-a112ca1a2700",
   "metadata": {
    "papermill": {},
    "tags": []
   },
   "source": [
    "**References:**\n",
    "- [Python - Calculate the percentage of similarity between two strings](https://www.example.com/python-calculate-percentage-similarity-two-strings)\n",
    "- [String Similarity - Python](https://www.example.com/string-similarity-python)"
   ]
  },
  {
   "cell_type": "markdown",
   "id": "95f8b2e9-1942-4521-aada-96e97c24d0b9",
   "metadata": {
    "papermill": {},
    "tags": []
   },
   "source": [
    "## Input"
   ]
  },
  {
   "cell_type": "markdown",
   "id": "a3c68c12-7ebb-4e8d-8bd4-93fb91155294",
   "metadata": {
    "papermill": {},
    "tags": []
   },
   "source": [
    "### Import libraries"
   ]
  },
  {
   "cell_type": "code",
   "execution_count": 1,
   "id": "2af558f4-171c-4e44-bce2-01e268a3f60c",
   "metadata": {
    "papermill": {},
    "tags": []
   },
   "outputs": [],
   "source": [
    "from difflib import SequenceMatcher"
   ]
  },
  {
   "cell_type": "markdown",
   "id": "c87e04c5-b886-45e1-a480-c6ca12f8e2f9",
   "metadata": {
    "papermill": {},
    "tags": []
   },
   "source": [
    "### Setup variables\n",
    "- `string1`: first string to compare\n",
    "- `string2`: second string to compare"
   ]
  },
  {
   "cell_type": "code",
   "execution_count": 2,
   "id": "15b3e45d-ca5f-457f-9c86-ae3256040c3a",
   "metadata": {
    "papermill": {},
    "tags": []
   },
   "outputs": [],
   "source": [
    "string1 = \"Hello World\"\n",
    "string2 = \"Hello World!\""
   ]
  },
  {
   "cell_type": "markdown",
   "id": "efec85ce-adfd-4676-9672-948096e5228b",
   "metadata": {
    "papermill": {},
    "tags": []
   },
   "source": [
    "## Model"
   ]
  },
  {
   "cell_type": "markdown",
   "id": "c2787c96-8407-4578-8d27-3e7a268965ea",
   "metadata": {
    "papermill": {},
    "tags": []
   },
   "source": [
    "### Calculate the percentage of similarity between two strings"
   ]
  },
  {
   "cell_type": "code",
   "execution_count": 3,
   "id": "8a644d8b-bf3d-4523-a5a4-fd1379e78245",
   "metadata": {
    "papermill": {},
    "tags": []
   },
   "outputs": [],
   "source": [
    "def similarity(a, b):\n",
    "    return SequenceMatcher(None, a, b).ratio()\n",
    "\n",
    "similarity = similarity(string1, string2)\n",
    "similarity"
   ]
  },
  {
   "cell_type": "markdown",
   "id": "801cc1aa-1a4e-4ed9-8cfd-6afda77013b7",
   "metadata": {
    "papermill": {},
    "tags": []
   },
   "source": [
    "## Output"
   ]
  },
  {
   "cell_type": "markdown",
   "id": "60bd668a-ab93-4a39-b31e-2e06b41edbcd",
   "metadata": {
    "papermill": {},
    "tags": []
   },
   "source": [
    "### Display result"
   ]
  },
  {
   "cell_type": "code",
   "execution_count": 4,
   "id": "4f55cd0c-8b53-4b86-a851-98ee38c7179f",
   "metadata": {
    "papermill": {},
    "tags": []
   },
   "outputs": [],
   "source": [
    "# Display the percentage of similarity between two strings\n",
    "print(\n",
    "    f\"The percentage of similarity between '{string1}' and '{string2}' is {similarity*100:.2f}%\"\n",
    ")"
   ]
  },
  {
   "cell_type": "markdown",
   "id": "f638f6f2-6903-4133-88a1-afa3c01e11c5",
   "metadata": {
    "papermill": {},
    "tags": []
   },
   "source": [
    " "
   ]
  }
 ],
 "metadata": {
  "kernelspec": {
   "display_name": "Python 3",
   "language": "python",
   "name": "python3"
  },
  "language_info": {
   "codemirror_mode": {
    "name": "ipython",
    "version": 3
   },
   "file_extension": ".py",
   "mimetype": "text/x-python",
   "name": "python",
   "nbconvert_exporter": "python",
   "pygments_lexer": "ipython3",
   "version": "3.9.6"
  },
  "naas": {
   "notebook_id": "f4efb27c8503f52f1198dec50fc0602cc6147fa541b8869da617593b6cf6e43c",
   "notebook_path": "Python/Python_Calculate_the_percentage_of_similarity_between_two_strings.ipynb"
  },
  "papermill": {
   "default_parameters": {},
   "environment_variables": {},
   "parameters": {},
   "version": "2.4.0"
  },
  "widgets": {
   "application/vnd.jupyter.widget-state+json": {
    "state": {},
    "version_major": 2,
    "version_minor": 0
   }
  }
 },
 "nbformat": 4,
 "nbformat_minor": 5
}