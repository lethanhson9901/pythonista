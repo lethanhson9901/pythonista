{
 "cells": [
  {
   "cell_type": "markdown",
   "id": "a5fbb8e5-d63f-4f63-bee1-2e5280f7262a",
   "metadata": {
    "papermill": {},
    "tags": []
   },
   "source": [
    "<img width=\"10%\" alt=\"Naas\" src=\"https://landen.imgix.net/jtci2pxwjczr/assets/5ice39g4.png?w=160\"/>"
   ]
  },
  {
   "cell_type": "markdown",
   "id": "98fdb274-6466-485f-9a1a-934dee55beb0",
   "metadata": {
    "papermill": {},
    "tags": []
   },
   "source": [
    "# Python - Pseudonym generator\n",
    "<a href=\"https://app.naas.ai/user-redirect/naas/downloader?url=https://raw.githubusercontent.com/jupyter-naas/awesome-notebooks/master/Python/Python_Pseudonym_generator.ipynb\" target=\"_parent\"><img src=\"https://naasai-public.s3.eu-west-3.amazonaws.com/Open_in_Naas_Lab.svg\"/></a><br><br><a href=\"https://bit.ly/3JyWIk6\">Give Feedback</a> | <a href=\"https://github.com/jupyter-naas/awesome-notebooks/issues/new?assignees=&labels=bug&template=bug_report.md&title=Python+-+Pseudonym+generator:+Error+short+description\">Bug report</a>"
   ]
  },
  {
   "cell_type": "markdown",
   "id": "3e1ffc38-bb7f-4dac-9718-fef375e83834",
   "metadata": {
    "papermill": {},
    "tags": []
   },
   "source": [
    "**Tags:** #python #pseudonym #generation #random #snippet #operation"
   ]
  },
  {
   "cell_type": "markdown",
   "id": "a9b57526-e80f-4c25-88a6-802635224690",
   "metadata": {
    "papermill": {},
    "tags": []
   },
   "source": [
    "**Author:** [Benjamin Filly](https://www.linkedin.com/in/benjamin-filly-05427727a/)"
   ]
  },
  {
   "cell_type": "markdown",
   "id": "20b68ee6-75f6-4d77-bd66-dda88b92e74c",
   "metadata": {
    "papermill": {},
    "tags": []
   },
   "source": [
    "**Last update:** 2023-06-19 (Created: 2023-06-15)"
   ]
  },
  {
   "cell_type": "markdown",
   "id": "2e8b31cf-ccc0-4390-86cc-7a43e8afdbc5",
   "metadata": {
    "papermill": {},
    "tags": []
   },
   "source": [
    "**Description:** This notebook demonstrates how to get random pseudonym."
   ]
  },
  {
   "cell_type": "markdown",
   "id": "03650f27-2d09-415f-a998-351daee79942",
   "metadata": {
    "papermill": {},
    "tags": []
   },
   "source": [
    "**References:**\n",
    "- [Python Random](https://docs.python.org/3/library/random.html)"
   ]
  },
  {
   "cell_type": "markdown",
   "id": "cc8126bd-19d6-41fc-9f0b-5460b225217a",
   "metadata": {
    "papermill": {},
    "tags": []
   },
   "source": [
    "## Input"
   ]
  },
  {
   "cell_type": "markdown",
   "id": "5d76b038-0b21-4ee4-8480-55a36215215e",
   "metadata": {
    "papermill": {},
    "tags": []
   },
   "source": [
    "### Import libraries"
   ]
  },
  {
   "cell_type": "code",
   "execution_count": 1,
   "id": "e934ee81-3368-4f08-af2e-9f08d0221e96",
   "metadata": {
    "papermill": {},
    "tags": []
   },
   "outputs": [],
   "source": [
    "import random"
   ]
  },
  {
   "cell_type": "markdown",
   "id": "6f7dc62c-95f2-4ab1-a2a7-903a5fa24940",
   "metadata": {
    "papermill": {},
    "tags": []
   },
   "source": [
    "### Setup Variables\n",
    "- `adjectives`: adjectives you want to use in your pseudonym\n",
    "- `nouns`: nouns you want to use in your pseudonym\n",
    "- `number_of_pseudo`: number of pseudonym you want"
   ]
  },
  {
   "cell_type": "code",
   "execution_count": 2,
   "id": "5128c32b-82bb-49d8-a308-2d618e57383a",
   "metadata": {
    "papermill": {},
    "tags": []
   },
   "outputs": [],
   "source": [
    "adjectives = ['happy', 'brave', 'clever', 'shining', 'mysterious', 'gentle', 'vibrant', 'radiant', 'whimsical', 'serene', 'fierce', 'daring', 'enigmatic', 'charming', 'graceful', 'wild', 'captivating', 'sparkling', 'exquisite', 'magnificent', 'joyful', 'peaceful', 'sunny', 'fantastic', 'glorious', 'adorable', 'awesome', 'breathtaking', 'brilliant', 'delightful', 'fabulous', 'majestic', 'splendid', 'wondrous', 'witty', 'lively', 'dazzling', 'blissful', 'colorful', 'mystical', 'radiant', 'wonderful', 'enchanting', 'charismatic', 'dreamy', 'whispering', 'mellow', 'mystifying', 'vivacious', 'sizzling', 'gleaming', 'harmonious', 'mesmerizing', 'playful', 'spellbinding', 'stellar', 'thrilling', 'unforgettable', 'zealous', 'captivating', 'dynamic', 'electric', 'ethereal', 'fascinating', 'glamorous', 'illustrious', 'intriguing', 'ravishing', 'resplendent', 'tranquil', 'energetic', 'enlightened', 'miraculous', 'passionate', 'rhythmic', 'voluptuous', 'whimsical', 'charismatic', 'radiant', 'enchanting', 'effervescent', 'inspiring', 'reverent', 'unpredictable', 'vibrant', 'alluring', 'bewitching', 'cosmic', 'enlivening', 'fanciful', 'luminous', 'magnetic', 'novel', 'quirky', 'serendipitous', 'timeless', 'unconventional', 'vivid', 'zestful', 'dreamlike', 'fearless', 'heavenly', 'jubilant', 'mellifluous', 'resonant', 'symphonic', 'unearthly', 'whirlwind', 'ambrosial', 'blissful', 'celestial', 'divine', 'ephemeral', 'festive', 'gorgeous', 'illuminating', 'mesmerizing', 'paradisiacal', 'radiating', 'seraphic', 'transcendent', 'whispering']\n",
    "nouns = ['cat', 'moon', 'star', 'river', 'shadow', 'whisper', 'dream', 'ocean', 'breeze', 'silence', 'wanderer', 'echo', 'harmony', 'twilight', 'legend', 'velvet', 'paradise', 'serenity', 'mystic', 'journey', 'phantom', 'cosmos', 'eternity', 'cascade', 'luminary', 'serpent', 'zenith', 'elixir', 'cascade', 'horizon', 'tempest', 'oracle', 'whirlwind', 'sapphire', 'emerald', 'enigma', 'melody', 'labyrinth', 'phoenix', 'triumph', 'sunset', 'stardust', 'symphony', 'whisper', 'muse', 'glimmer', 'epiphany', 'firefly', 'cascade', 'serendipity', 'enchantment', 'paragon', 'quicksilver', 'whirlpool', 'chrysalis', 'myth', 'illusion', 'spark', 'saga', 'spectacle', 'honeydew', 'whim', 'novel', 'radiance', 'halo', 'canvas', 'jubilee', 'blossom', 'treasure', 'rhapsody', 'lullaby', 'twinkle', 'delight', 'solstice', 'beacon', 'crescendo', 'melody', 'serenade', 'cascade', 'elixir', 'whisper', 'gossamer', 'wonder', 'fable', 'glimpse', 'harmony', 'marvel', 'reverie', 'horizon', 'serenade', 'enchantment', 'whisperer', 'celestial', 'sunrise', 'illuminator', 'enchanter', 'stargazer', 'rainbow', 'visionary', 'miracle', 'radiance', 'harmonizer', 'dreamer', 'serenader', 'luminary', 'oasis', 'wanderlust', 'champion', 'voyager', 'mystifier', 'trailblazer', 'cosmic', 'seraph', 'paradigm', 'spellbinder', 'ethereal', 'melodist', 'captivator', 'soothsayer', 'mesmerizer', 'phoenix', 'solace', 'conqueror', 'whim', 'whisperer', 'architect', 'zephyr', 'revelation', 'labyrinth', 'phenomenon', 'radiant', 'luminance', 'mirth', 'synchronicity', 'twilight', 'illuminati', 'luminescence', 'phenomenon', 'prophet', 'oracle', 'effervescence', 'whim', 'magnificence', 'enigma', 'bliss', 'pinnacle', 'whisperer', 'illuminator', 'paragon', 'whirlpool', 'legend', 'journey', 'stellar', 'spectrum', 'euphoria', 'paradise', 'symphony', 'muse', 'glimpse', 'serendipity', 'gossamer', 'wonder', 'dreamweaver', 'celestial', 'serenade', 'cascade', 'whisperer', 'enchantress', 'myth', 'harmony', 'reverie', 'oasis', 'wanderlust', 'champion', 'voyager', 'mystifier', 'trailblazer', 'cosmic', 'seraph', 'paradigm', 'spellbinder', 'ethereal', 'melodist', 'captivator', 'soothsayer', 'mesmerizer', 'phoenix', 'solace', 'conqueror', 'whim', 'whisperer', 'architect', 'zephyr', 'revelation', 'labyrinth', 'phenomenon', 'radiant', 'luminance', 'mirth', 'synchronicity', 'twilight', 'illuminati', 'luminescence', 'phenomenon', 'prophet', 'oracle', 'effervescence', 'whim', 'magnificence', 'enigma', 'bliss', 'pinnacle', 'whisperer', 'illuminator', 'paragon', 'whirlpool', 'legend', 'journey', 'stellar', 'spectrum', 'euphoria', 'paradise', 'symphony', 'muse', 'glimpse', 'serendipity', 'gossamer', 'wonder', 'dreamweaver', 'celestial', 'serenade', 'cascade', 'whisperer', 'enchantress', 'myth', 'harmony', 'reverie', 'oasis', 'wanderlust', 'champion', 'voyager', 'mystifier', 'trailblazer', 'cosmic', 'seraph', 'paradigm', 'spellbinder', 'ethereal', 'melodist', 'captivator', 'soothsayer', 'mesmerizer', 'phoenix', 'solace', 'conqueror', 'whim', 'whisperer', 'architect', 'zephyr', 'revelation', 'labyrinth', 'phenomenon', 'radiant', 'luminance', 'mirth', 'synchronicity', 'twilight', 'illuminati', 'luminescence', 'phenomenon', 'prophet', 'oracle', 'effervescence', 'whim', 'magnificence', 'enigma', 'bliss', 'pinnacle', 'whisperer', 'illuminator', 'paragon', 'whirlpool', 'legend', 'journey', 'stellar', 'spectrum', 'euphoria', 'paradise', 'symphony', 'muse', 'glimpse', 'serendipity', 'gossamer', 'wonder', 'dreamweaver', 'celestial', 'serenade', 'cascade', 'whisperer', 'enchantress', 'myth', 'harmony', 'reverie', 'oasis', 'wanderlust', 'champion', 'voyager', 'mystifier', 'trailblazer', 'cosmic', 'seraph', 'paradigm', 'spellbinder', 'ethereal', 'melodist', 'captivator', 'soothsayer', 'mesmerizer', 'phoenix', 'solace', 'conqueror', 'whim', 'whisperer', 'architect', 'zephyr', 'revelation', 'labyrinth', 'phenomenon', 'radiant', 'luminance', 'mirth', 'synchronicity', 'twilight', 'illuminati', 'luminescence', 'phenomenon', 'prophet', 'oracle', 'effervescence', 'whim', 'magnificence', 'enigma', 'bliss', 'pinnacle', 'whisperer', 'illuminator', 'paragon', 'whirlpool', 'legend', 'journey', 'stellar', 'spectrum', 'euphoria', 'paradise', 'symphony', 'muse', 'glimpse', 'serendipity', 'gossamer', 'wonder', 'dreamweaver', 'celestial', 'serenade', 'cascade', 'whisperer', 'enchantress', 'myth', 'harmony', 'reverie', 'oasis', 'wanderlust', 'champion', 'voyager', 'mystifier', 'trailblazer', 'cosmic', 'seraph', 'paradigm', 'spellbinder', 'ethereal', 'melodist', 'captivator', 'soothsayer', 'mesmerizer', 'phoenix', 'solace', 'conqueror', 'whim', 'whisperer', 'architect', 'zephyr', 'revelation', 'labyrinth', 'phenomenon', 'radiant', 'luminance', 'mirth', 'synchronicity', 'twilight', 'illuminati', 'luminescence', 'phenomenon', 'prophet', 'oracle', 'effervescence', 'whim', 'magnificence', 'enigma', 'bliss', 'pinnacle', 'whisperer', 'illuminator', 'paragon', 'whirlpool', 'legend', 'journey', 'stellar', 'spectrum', 'euphoria', 'paradise', 'symphony', 'muse', 'glimpse', 'serendipity', 'gossamer', 'wonder', 'dreamweaver', 'celestial', 'serenade', 'cascade', 'whisperer', 'enchantress', 'myth', 'harmony', 'reverie', 'oasis', 'wanderlust', 'champion', 'voyager', 'mystifier', 'trailblazer', 'cosmic', 'seraph', 'paradigm', 'spellbinder', 'ethereal', 'melodist', 'captivator', 'soothsayer', 'mesmerizer', 'phoenix', 'solace', 'conqueror', 'whim', 'whisperer', 'architect', 'zephyr', 'revelation', 'labyrinth', 'phenomenon', 'radiant', 'luminance', 'mirth', 'synchronicity', 'twilight', 'illuminati', 'luminescence', 'phenomenon', 'prophet', 'oracle', 'effervescence', 'whim', 'magnificence', 'enigma', 'bliss', 'pinnacle', 'whisperer', 'illuminator', 'paragon', 'whirlpool', 'legend', 'journey', 'stellar', 'spectrum', 'euphoria', 'paradise', 'symphony', 'muse', 'glimpse', 'serendipity', 'gossamer', 'wonder', 'dreamweaver', 'celestial', 'serenade', 'cascade', 'whisperer', 'enchantress', 'myth', 'harmony', 'reverie', 'oasis', 'wanderlust', 'champion', 'voyager', 'mystifier', 'trailblazer', 'cosmic', 'seraph', 'paradigm', 'spellbinder', 'ethereal', 'melodist', 'captivator', 'soothsayer', 'mesmerizer', 'phoenix', 'solace', 'conqueror', 'whim', 'whisperer', 'architect', 'zephyr', 'revelation', 'labyrinth', 'phenomenon', 'radiant', 'luminance', 'mirth', 'synchronicity', 'twilight', 'illuminati', 'luminescence', 'phenomenon', 'prophet', 'oracle', 'effervescence', 'whim', 'magnificence', 'enigma', 'bliss', 'pinnacle', 'whisperer', 'illuminator', 'paragon', 'whirlpool', 'legend', 'journey', 'stellar', 'spectrum', 'euphoria', 'paradise', 'symphony', 'muse', 'glimpse', 'serendipity', 'gossamer', 'wonder', 'dreamweaver', 'celestial', 'serenade', 'cascade', 'whisperer', 'enchantress', 'myth', 'harmony', 'reverie', 'oasis', 'wanderlust', 'champion', 'voyager', 'mystifier', 'trailblazer', 'cosmic', 'seraph', 'paradigm', 'spellbinder', 'ethereal', 'melodist', 'captivator', 'soothsayer', 'mesmerizer', 'phoenix', 'solace', 'conqueror', 'whim', 'whisperer', 'architect', 'zephyr', 'revelation', 'labyrinth', 'phenomenon', 'radiant', 'luminance', 'mirth', 'synchronicity', 'twilight', 'illuminati', 'luminescence', 'phenomenon', 'prophet', 'oracle', 'effervescence', 'whim', 'magnificence', 'enigma', 'bliss', 'pinnacle', 'whisperer', 'illuminator', 'paragon', 'whirlpool', 'legend', 'journey', 'stellar', 'spectrum', 'euphoria', 'paradise', 'symphony', 'muse', 'glimpse', 'serendipity', 'gossamer', 'wonder', 'dreamweaver', 'celestial', 'serenade', 'cascade', 'whisperer', 'enchantress', 'myth', 'harmony', 'reverie', 'oasis', 'wanderlust', 'champion', 'voyager', 'mystifier', 'trailblazer', 'cosmic', 'seraph', 'paradigm', 'spellbinder', 'ethereal', 'melodist', 'captivator', 'soothsayer', 'mesmerizer', 'phoenix', 'solace', 'conqueror', 'whim', 'whisperer', 'architect', 'zephyr', 'revelation', 'labyrinth', 'phenomenon', 'radiant', 'luminance', 'mirth', 'synchronicity', 'twilight', 'illuminati', 'luminescence', 'phenomenon', 'prophet', 'oracle', 'effervescence', 'whim', 'magnificence', 'enigma', 'bliss', 'pinnacle', 'whisperer', 'illuminator', 'paragon', 'whirlpool', 'legend', 'journey', 'stellar', 'spectrum', 'euphoria', 'paradise', 'symphony', 'muse', 'glimpse', 'serendipity', 'gossamer', 'wonder', 'dreamweaver', 'celestial', 'serenade', 'cascade', 'whisperer', 'enchantress', 'myth', 'harmony', 'reverie', 'oasis', 'wanderlust', 'champion', 'voyager', 'mystifier', 'trailblazer', 'cosmic', 'seraph', 'paradigm', 'spellbinder', 'ethereal', 'melodist', 'captivator', 'soothsayer', 'mesmerizer', 'phoenix', 'solace', 'conqueror', 'whim', 'whisperer', 'architect', 'zephyr', 'revelation', 'labyrinth', 'phenomenon', 'radiant', 'luminance', 'mirth', 'synchronicity', 'twilight', 'illuminati', 'luminescence', 'phenomenon', 'prophet', 'oracle', 'effervescence', 'whim', 'magnificence', 'enigma', 'bliss', 'pinnacle', 'whisperer', 'illuminator', 'paragon', 'whirlpool', 'legend', 'journey', 'stellar', 'spectrum', 'euphoria', 'paradise', 'symphony', 'muse', 'glimpse', 'serendipity', 'gossamer', 'wonder', 'dreamweaver', 'celestial', 'serenade', 'cascade', 'whisperer', 'enchantress', 'myth', 'harmony', 'reverie', 'oasis', 'wanderlust', 'champion', 'voyager', 'mystifier', 'trailblazer', 'cosmic', 'seraph', 'paradigm', 'spellbinder', 'ethereal', 'melodist', 'captivator', 'soothsayer', 'mesmerizer', 'phoenix', 'solace', 'conqueror', 'whim', 'whisperer', 'architect', 'zephyr', 'revelation', 'labyrinth', 'phenomenon', 'radiant', 'luminance', 'mirth', 'synchronicity', 'twilight', 'illuminati', 'luminescence', 'phenomenon', 'prophet', 'oracle', 'effervescence', 'whim', 'magnificence', 'enigma', 'bliss', 'pinnacle', 'whisperer', 'illuminator', 'paragon', 'whirlpool', 'legend', 'journey', 'stellar', 'spectrum', 'euphoria', 'paradise', 'symphony', 'muse', 'glimpse', 'serendipity', 'gossamer', 'wonder', 'dreamweaver', 'celestial', 'serenade', 'cascade', 'whisperer', 'enchantress', 'myth', 'harmony', 'reverie', 'oasis', 'wanderlust', 'champion', 'voyager', 'mystifier', 'trailblazer', 'cosmic', 'seraph', 'paradigm', 'spellbinder', 'ethereal', 'melodist', 'captivator', 'soothsayer', 'mesmerizer', 'phoenix', 'solace', 'conqueror', 'whim', 'whisperer', 'architect', 'zephyr', 'revelation', 'labyrinth', 'phenomenon', 'radiant', 'luminance', 'mirth', 'synchronicity', 'twilight', 'illuminati', 'luminescence', 'phenomenon', 'prophet', 'oracle', 'effervescence', 'whim', 'magnificence', 'enigma', 'bliss', 'pinnacle', 'whisperer', 'illuminator', 'paragon', 'whirlpool', 'legend', 'journey', 'stellar', 'spectrum', 'euphoria', 'paradise', 'symphony', 'muse', 'glimpse', 'serendipity', 'gossamer', 'wonder', 'dreamweaver', 'celestial', 'serenade', 'cascade', 'whisperer', 'enchantress', 'myth', 'harmony', 'reverie', 'oasis', 'wanderlust', 'champion', 'voyager', 'mystifier', 'trailblazer', 'cosmic', 'seraph', 'paradigm', 'spellbinder', 'ethereal', 'melodist', 'captivator', 'soothsayer', 'mesmerizer', 'phoenix', 'solace', 'conqueror', 'whim', 'whisperer', 'architect', 'zephyr', 'revelation', 'labyrinth', 'phenomenon', 'radiant', 'luminance', 'mirth', 'synchronicity', 'twilight', 'illuminati', 'luminescence', 'phenomenon', 'prophet', 'oracle', 'effervescence', 'whim', 'magnificence', 'enigma', 'bliss', 'pinnacle', 'whisperer', 'illuminator', 'paragon', 'whirlpool', 'legend', 'journey', 'stellar', 'spectrum', 'euphoria', 'paradise', 'symphony', 'muse', 'glimpse', 'serendipity', 'gossamer', 'wonder', 'dreamweaver', 'celestial', 'serenade', 'cascade', 'whisperer', 'enchantress', 'myth', 'harmony', 'reverie', 'oasis', 'wanderlust', 'champion', 'voyager', 'mystifier', 'trailblazer', 'cosmic', 'seraph', 'paradigm', 'spellbinder', 'ethereal', 'melodist', 'captivator', 'soothsayer', 'mesmerizer', 'phoenix', 'solace', 'conqueror', 'whim', 'whisperer', 'architect', 'zephyr', 'revelation', 'labyrinth', 'phenomenon', 'radiant', 'luminance', 'mirth', 'synchronicity', 'twilight', 'illuminati', 'luminescence', 'phenomenon', 'prophet', 'oracle', 'effervescence', 'whim', 'magnificence', 'enigma', 'bliss', 'pinnacle', 'whisperer', 'illuminator', 'paragon', 'whirlpool', 'legend', 'journey', 'stellar', 'spectrum', 'euphoria', 'paradise', 'symphony', 'muse', 'glimpse', 'serendipity', 'gossamer', 'wonder', 'dreamweaver', 'celestial', 'serenade', 'cascade', 'whisperer', 'enchantress', 'myth', 'harmony', 'reverie', 'oasis', 'wanderlust', 'champion', 'voyager', 'mystifier', 'trailblazer', 'cosmic', 'seraph', 'paradigm', 'spellbinder', 'ethereal', 'melodist', 'captivator', 'soothsayer', 'mesmerizer', 'phoenix', 'solace', 'conqueror', 'whim', 'whisperer', 'architect', 'zephyr', 'revelation', 'labyrinth', 'phenomenon', 'radiant', 'luminance', 'mirth', 'synchronicity', 'twilight', 'illuminati', 'luminescence', 'phenomenon', 'prophet', 'oracle', 'effervescence', 'whim', 'magnificence', 'enigma', 'bliss', 'pinnacle', 'whisperer', 'illuminator', 'paragon', 'whirlpool', 'legend', 'journey', 'stellar', 'spectrum', 'euphoria', 'paradise', 'symphony', 'muse', 'glimpse', 'serendipity', 'gossamer', 'wonder', 'dreamweaver', 'celestial', 'serenade', 'cascade', 'whisperer', 'enchantress', 'myth', 'harmony', 'reverie', 'oasis', 'wanderlust', 'champion', 'voyager', 'mystifier', 'trailblazer', 'cosmic', 'seraph', 'paradigm', 'spellbinder', 'ethereal', 'melodist', 'captivator', 'soothsayer', 'mesmerizer', 'phoenix', 'solace', 'conqueror', 'whim', 'whisperer', 'architect', 'zephyr', 'revelation', 'labyrinth', 'phenomenon', 'radiant', 'luminance', 'mirth', 'synchronicity', 'twilight', 'illuminati', 'luminescence', 'phenomenon', 'prophet', 'oracle', 'effervescence', 'whim', 'magnificence', 'enigma', 'bliss', 'pinnacle', 'whisperer', 'illuminator', 'paragon', 'whirlpool', 'legend', 'journey', 'stellar', 'spectrum', 'euphoria', 'paradise', 'symphony', 'muse', 'glimpse', 'serendipity', 'gossamer', 'wonder', 'dreamweaver', 'celestial', 'serenade', 'cascade', 'whisperer', 'enchantress', 'myth', 'harmony', 'reverie', 'oasis', 'wanderlust', 'champion', 'voyager', 'mystifier', 'trailblazer', 'cosmic', 'seraph', 'paradigm', 'spellbinder', 'ethereal', 'melodist', 'captivator', 'soothsayer', 'mesmerizer', 'phoenix', 'solace', 'conqueror', 'whim', 'whisperer', 'architect', 'zephyr', 'revelation', 'labyrinth', 'phenomenon', 'radiant', 'luminance', 'mirth', 'synchronicity', 'twilight', 'illuminati', 'luminescence', 'phenomenon', 'prophet', 'oracle', 'effervescence', 'whim', 'magnificence', 'enigma', 'bliss', 'pinnacle', 'whisperer', 'illuminator', 'paragon', 'whirlpool', 'legend', 'journey', 'stellar', 'spectrum', 'euphoria', 'paradise', 'symphony', 'muse', 'glimpse', 'serendipity', 'gossamer', 'wonder', 'dreamweaver', 'celestial', 'serenade', 'cascade', 'whisperer', 'enchantress', 'myth', 'harmony', 'reverie', 'oasis', 'wanderlust', 'champion', 'voyager', 'mystifier', 'trailblazer', 'cosmic', 'seraph', 'paradigm', 'spellbinder', 'ethereal', 'melodist', 'captivator', 'soothsayer', 'mesmerizer', 'phoenix', 'solace', 'conqueror', 'whim', 'whisperer', 'architect', 'zephyr', 'revelation', 'labyrinth', 'phenomenon', 'radiant', 'luminance', 'mirth', 'synchronicity', 'twilight', 'illuminati', 'luminescence', 'phenomenon', 'prophet', 'oracle', 'effervescence', 'whim', 'magnificence', 'enigma', 'bliss', 'pinnacle', 'whisperer', 'illuminator', 'paragon', 'whirlpool', 'legend', 'journey', 'stellar', 'spectrum', 'euphoria', 'paradise', 'symphony', 'muse', 'glimpse', 'serendipity', 'gossamer', 'wonder', 'dreamweaver', 'celestial', 'serenade', 'cascade', 'whisperer', 'enchantress', 'myth', 'harmony', 'reverie', 'oasis', 'wanderlust', 'champion', 'voyager', 'mystifier', 'trailblazer', 'cosmic', 'seraph', 'paradigm', 'spellbinder', 'ethereal', 'melodist', 'captivator', 'soothsayer', 'mesmerizer', 'phoenix', 'solace', 'conqueror', 'whim', 'whisperer', 'architect', 'zephyr', 'revelation', 'labyrinth', 'phenomenon', 'radiant', 'luminance', 'mirth', 'synchronicity', 'twilight', 'illuminati', 'luminescence', 'phenomenon', 'prophet', 'oracle', 'effervescence', 'whim', 'magnificence', 'enigma', 'bliss', 'pinnacle', 'whisperer', 'illuminator', 'paragon', 'whirlpool', 'legend', 'journey', 'stellar', 'spectrum', 'euphoria', 'paradise', 'symphony', 'muse', 'glimpse', 'serendipity', 'gossamer', 'wonder', 'dreamweaver', 'celestial', 'serenade', 'cascade', 'whisperer', 'enchantress', 'myth', 'harmony', 'reverie', 'oasis', 'wanderlust', 'champion', 'voyager', 'mystifier', 'trailblazer', 'cosmic', 'seraph', 'paradigm', 'spellbinder', 'ethereal', 'melodist', 'captivator', 'soothsayer', 'mesmerizer', 'phoenix', 'solace', 'conqueror', 'whim', 'whisperer', 'architect', 'zephyr', 'revelation', 'labyrinth', 'phenomenon', 'radiant', 'luminance', 'mirth', 'synchronicity', 'twilight', 'illuminati', 'luminescence', 'phenomenon', 'prophet', 'oracle', 'effervescence', 'whim', 'magnificence', 'enigma', 'bliss', 'pinnacle', 'whisperer', 'illuminator', 'paragon', 'whirlpool', 'legend', 'journey', 'stellar', 'spectrum', 'euphoria', 'paradise', 'symphony', 'muse', 'glimpse', 'serendipity', 'gossamer', 'wonder', 'dreamweaver', 'celestial', 'serenade', 'cascade', 'whisperer', 'enchantress', 'myth', 'harmony', 'reverie', 'oasis', 'wanderlust', 'champion', 'voyager', 'mystifier', 'trailblazer', 'cosmic', 'seraph', 'paradigm', 'spellbinder', 'ethereal', 'melodist', 'captivator', 'soothsayer', 'mesmerizer', 'phoenix', 'solace', 'conqueror', 'whim', 'whisperer', 'architect', 'zephyr', 'revelation', 'labyrinth', 'phenomenon', 'radiant', 'luminance', 'mirth', 'synchronicity', 'twilight', 'illuminati', 'luminescence', 'phenomenon', 'prophet', 'oracle', 'effervescence', 'whim', 'magnificence', 'enigma', 'bliss', 'pinnacle', 'whisperer', 'illuminator', 'paragon', 'whirlpool', 'legend', 'journey', 'stellar', 'spectrum', 'euphoria', 'paradise', 'symphony', 'muse', 'glimpse', 'serendipity', 'gossamer', 'wonder', 'dreamweaver', 'celestial', 'serenade', 'cascade', 'whisperer', 'enchantress', 'myth', 'harmony', 'reverie', 'oasis', 'wanderlust', 'champion', 'voyager', 'mystifier', 'trailblazer', 'cosmic', 'seraph', 'paradigm', 'spellbinder', 'ethereal', 'melodist', 'captivator', 'soothsayer', 'mesmerizer', 'phoenix', 'solace', 'conqueror', 'whim', 'whisperer', 'architect', 'zephyr', 'revelation', 'labyrinth', 'phenomenon', 'radiant', 'luminance', 'mirth', 'synchronicity', 'twilight', 'illuminati', 'luminescence', 'phenomenon', 'prophet', 'oracle', 'effervescence', 'whim', 'magnificence', 'enigma', 'bliss', 'pinnacle', 'whisperer', 'illuminator', 'paragon', 'whirlpool', 'legend', 'journey', 'stellar', 'spectrum', 'euphoria', 'paradise', 'symphony', 'muse', 'glimpse', 'serendipity', 'gossamer', 'wonder', 'dreamweaver', 'celestial', 'serenade', 'cascade', 'whisperer', 'enchantress', 'myth', 'harmony', 'reverie', 'oasis', 'wanderlust', 'champion', 'voyager', 'mystifier', 'trailblazer', 'cosmic', 'seraph', 'paradigm', 'spellbinder', 'ethereal', 'melodist', 'captivator', 'soothsayer', 'mesmerizer', 'phoenix', 'solace', 'conqueror', 'whim', 'whisperer', 'architect', 'zephyr', 'revelation', 'labyrinth', 'phenomenon', 'radiant', 'luminance', 'mirth', 'synchronicity', 'twilight', 'illuminati', 'luminescence', 'phenomenon', 'prophet', 'oracle', 'effervescence', 'whim', 'magnificence', 'enigma', 'bliss', 'pinnacle', 'whisperer', 'illuminator', 'paragon', 'whirlpool', 'legend', 'journey', 'stellar', 'spectrum', 'euphoria', 'paradise', 'symphony', 'muse', 'glimpse', 'serendipity', 'gossamer', 'wonder', 'dreamweaver', 'celestial', 'serenade', 'cascade', 'whisperer', 'enchantress', 'myth', 'harmony', 'reverie', 'oasis', 'wanderlust', 'champion', 'voyager', 'mystifier', 'trailblazer', 'cosmic', 'seraph', 'paradigm', 'spellbinder', 'ethereal', 'melodist', 'captivator', 'soothsayer', 'mesmerizer', 'phoenix', 'solace', 'conqueror', 'whim', 'whisperer', 'architect', 'zephyr', 'revelation', 'labyrinth', 'phenomenon', 'radiant', 'luminance', 'mirth', 'synchronicity', 'twilight', 'illuminati', 'luminescence', 'phenomenon', 'prophet', 'oracle', 'effervescence', 'whim', 'magnificence', 'enigma', 'bliss', 'pinnacle', 'whisperer', 'illuminator', 'paragon', 'whirlpool', 'legend', 'journey', 'stellar', 'spectrum', 'euphoria', 'paradise', 'symphony', 'muse', 'glimpse', 'serendipity', 'gossamer', 'wonder', 'dreamweaver', 'celestial', 'serenade', 'cascade', 'whisperer', 'enchantress', 'myth', 'harmony', 'reverie', 'oasis', 'wanderlust', 'champion', 'voyager', 'mystifier', 'trailblazer', 'cosmic', 'seraph', 'paradigm', 'spellbinder', 'ethereal', 'melodist', 'captivator', 'soothsayer', 'mesmerizer', 'phoenix', 'solace', 'conqueror', 'whim', 'whisperer', 'architect', 'zephyr', 'revelation', 'labyrinth', 'phenomenon', 'radiant', 'luminance', 'mirth', 'synchronicity', 'twilight', 'illuminati', 'luminescence', 'phenomenon', 'prophet', 'oracle', 'effervescence', 'whim', 'magnificence', 'enigma', 'bliss', 'pinnacle', 'whisperer', 'illuminator', 'paragon', 'whirlpool', 'legend', 'journey', 'stellar', 'spectrum', 'euphoria', 'paradise', 'symphony', 'muse', 'glimpse', 'serendipity', 'gossamer', 'wonder', 'dreamweaver', 'celestial', 'serenade', 'cascade', 'whisperer', 'enchantress', 'myth', 'harmony', 'reverie', 'oasis', 'wanderlust', 'champion', 'voyager', 'mystifier', 'trailblazer', 'cosmic', 'seraph', 'paradigm', 'spellbinder', 'ethereal', 'melodist', 'captivator', 'soothsayer', 'mesmerizer', 'phoenix', 'solace', 'conqueror', 'whim', 'whisperer', 'architect', 'zephyr', 'revelation', 'labyrinth', 'phenomenon', 'radiant', 'luminance', 'mirth', 'synchronicity', 'twilight', 'illuminati', 'luminescence', 'phenomenon', 'prophet', 'oracle', 'effervescence', 'whim', 'magnificence', 'enigma', 'bliss', 'pinnacle', 'whisperer', 'illuminator', 'paragon', 'whirlpool', 'legend', 'journey', 'stellar', 'spectrum', 'euphoria', 'paradise', 'symphony', 'muse', 'glimpse', 'serendipity', 'gossamer', 'wonder', 'dreamweaver', 'celestial', 'serenade', 'cascade', 'whisperer', 'enchantress', 'myth', 'harmony', 'reverie', 'oasis', 'wanderlust', 'champion', 'voyager', 'mystifier', 'trailblazer', 'cosmic', 'seraph', 'paradigm', 'spellbinder', 'ethereal', 'melodist', 'captivator', 'soothsayer', 'mesmerizer', 'phoenix', 'solace', 'conqueror', 'whim', 'whisperer', 'architect', 'zephyr', 'revelation', 'labyrinth', 'phenomenon', 'radiant', 'luminance', 'mirth', 'synchronicity', 'twilight', 'illuminati', 'luminescence', 'phenomenon', 'prophet', 'oracle', 'effervescence', 'whim', 'magnificence', 'enigma', 'bliss', 'pinnacle', 'whisperer', 'illuminator', 'paragon', 'whirlpool', 'legend', 'journey', 'stellar', 'spectrum', 'euphoria', 'paradise', 'symphony', 'muse', 'glimpse', 'serendipity', 'gossamer', 'wonder', 'dreamweaver', 'celestial', 'serenade', 'cascade', 'whisperer', 'enchantress', 'myth', 'harmony', 'reverie', 'oasis', 'wanderlust', 'champion', 'voyager', 'mystifier', 'trailblazer', 'cosmic', 'seraph', 'paradigm', 'spellbinder', 'ethereal', 'melodist', 'captivator', 'soothsayer', 'mesmerizer', 'phoenix', 'solace', 'conqueror', 'whim', 'whisperer', 'architect', 'zephyr', 'revelation', 'labyrinth', 'phenomenon', 'radiant', 'luminance', 'mirth', 'synchronicity', 'twilight', 'illuminati', 'luminescence', 'phenomenon', 'prophet', 'oracle', 'effervescence', 'whim', 'magnificence', 'enigma', 'bliss', 'pinnacle', 'whisperer', 'illuminator', 'paragon', 'whirlpool', 'legend', 'journey', 'stellar', 'spectrum', 'euphoria', 'paradise', 'symphony', 'muse', 'glimpse', 'serendipity', 'gossamer', 'wonder', 'dreamweaver', 'celestial', 'serenade', 'cascade', 'whisperer', 'enchantress', 'myth', 'harmony', 'reverie', 'oasis', 'wanderlust', 'champion', 'voyager', 'mystifier', 'trailblazer', 'cosmic', 'seraph', 'paradigm', 'spellbinder', 'ethereal', 'melodist', 'captivator', 'soothsayer', 'mesmerizer', 'phoenix', 'solace', 'conqueror', 'whim', 'whisperer', 'architect', 'zephyr', 'revelation', 'labyrinth', 'phenomenon', 'radiant', 'luminance', 'mirth', 'synchronicity', 'twilight', 'illuminati', 'luminescence', 'phenomenon', 'prophet', 'oracle', 'effervescence', 'whim', 'magnificence', 'enigma', 'bliss', 'pinnacle', 'whisperer', 'illuminator', 'paragon', 'whirlpool', 'legend', 'journey', 'stellar', 'spectrum', 'euphoria', 'paradise', 'symphony', 'muse', 'glimpse', 'serendipity', 'gossamer', 'wonder', 'dreamweaver', 'celestial', 'serenade', 'cascade', 'whisperer', 'enchantress', 'myth', 'harmony', 'reverie', 'oasis', 'wanderlust', 'champion', 'voyager', 'mystifier', 'trailblazer', 'cosmic', 'seraph', 'paradigm', 'spellbinder', 'ethereal', 'melodist', 'captivator', 'soothsayer', 'mesmerizer', 'phoenix', 'solace', 'conqueror', 'whim', 'whisperer', 'architect', 'zephyr', 'revelation', 'labyrinth', 'phenomenon', 'radiant', 'luminance', 'mirth', 'synchronicity', 'twilight', 'illuminati', 'luminescence', 'phenomenon', 'prophet', 'oracle', 'effervescence', 'whim', 'magnificence', 'enigma', 'bliss', 'pinnacle', 'whisperer', 'illuminator', 'paragon', 'whirlpool', 'legend', 'journey', 'stellar', 'spectrum', 'euphoria', 'paradise', 'symphony', 'muse', 'glimpse', 'serendipity', 'gossamer', 'wonder', 'dreamweaver', 'celestial', 'serenade', 'cascade', 'whisperer', 'enchantress', 'myth', 'harmony', 'reverie', 'oasis', 'wanderlust', 'champion', 'voyager', 'mystifier', 'trailblazer', 'cosmic', 'seraph', 'paradigm', 'spellbinder', 'ethereal', 'melodist', 'captivator', 'soothsayer', 'mesmerizer', 'phoenix', 'solace', 'conqueror', 'whim', 'whisperer', 'architect', 'zephyr', 'revelation', 'labyrinth', 'phenomenon', 'radiant', 'luminance', 'mirth', 'synchronicity', 'twilight', 'illuminati', 'luminescence', 'phenomenon', 'prophet', 'oracle', 'effervescence', 'whim', 'magnificence', 'enigma', 'bliss', 'pinnacle', 'whisperer', 'illuminator', 'paragon', 'whirlpool', 'legend', 'journey', 'stellar', 'spectrum', 'euphoria', 'paradise', 'symphony', 'muse', 'glimpse', 'serendipity', 'gossamer', 'wonder', 'dreamweaver', 'celestial', 'serenade', 'cascade', 'whisperer', 'enchantress', 'myth', 'harmony', 'reverie', 'oasis', 'wanderlust', 'champion', 'voyager', 'mystifier', 'trailblazer', 'cosmic', 'seraph', 'paradigm', 'spellbinder', 'ethereal', 'melodist', 'captivator', 'soothsayer', 'mesmerizer', 'phoenix', 'solace', 'conqueror', 'whim', 'whisperer', 'architect', 'zephyr', 'revelation', 'labyrinth', 'phenomenon', 'radiant', 'luminance', 'mirth', 'synchronicity', 'twilight', 'illuminati', 'luminescence', 'phenomenon', 'prophet', 'oracle', 'effervescence', 'whim', 'magnificence', 'enigma', 'bliss', 'pinnacle', 'whisperer', 'illuminator', 'paragon', 'whirlpool', 'legend', 'journey', 'stellar', 'spectrum', 'euphoria', 'paradise', 'symphony', 'muse', 'glimpse', 'serendipity', 'gossamer', 'wonder', 'dreamweaver', 'celestial', 'serenade', 'cascade', 'whisperer', 'enchantress', 'myth', 'harmony', 'reverie', 'oasis', 'wanderlust', 'champion', 'voyager', 'mystifier', 'trailblazer', 'cosmic', 'seraph', 'paradigm', 'spellbinder', 'ethereal', 'melodist', 'captivator', 'soothsayer', 'mesmerizer', 'phoenix', 'solace', 'conqueror', 'whim', 'whisperer', 'architect', 'zephyr', 'revelation', 'labyrinth', 'phenomenon', 'radiant', 'luminance', 'mirth', 'synchronicity', 'twilight', 'illuminati', 'luminescence', 'phenomenon', 'prophet', 'oracle', 'effervescence', 'whim', 'magnificence', 'enigma', 'bliss', 'pinnacle', 'whisperer', 'illuminator', 'paragon', 'whirlpool', 'legend', 'journey', 'stellar', 'spectrum', 'euphoria', 'paradise', 'symphony', 'muse', 'glimpse', 'serendipity', 'gossamer', 'wonder', 'dreamweaver', 'celestial', 'serenade', 'cascade', 'whisperer', 'enchantress', 'myth', 'harmony', 'reverie', 'oasis', 'wanderlust', 'champion', 'voyager', 'mystifier', 'trailblazer', 'cosmic', 'seraph', 'paradigm', 'spellbinder', 'ethereal', 'melodist', 'captivator', 'soothsayer', 'mesmerizer', 'phoenix', 'solace', 'conqueror', 'whim', 'whisperer', 'architect', 'zephyr', 'revelation', 'labyrinth', 'phenomenon', 'radiant', 'luminance', 'mirth', 'synchronicity', 'twilight', 'illuminati', 'luminescence', 'phenomenon', 'prophet', 'oracle', 'effervescence', 'whim', 'magnificence', 'enigma', 'bliss', 'pinnacle', 'whisperer', 'illuminator', 'paragon', 'whirlpool', 'legend', 'journey', 'stellar', 'spectrum', 'euphoria', 'paradise', 'symphony', 'muse', 'glimpse', 'serendipity', 'gossamer', 'wonder', 'dreamweaver', 'celestial', 'serenade', 'cascade', 'whisperer', 'enchantress', 'myth', 'harmony', 'reverie', 'oasis', 'wanderlust', 'champion', 'voyager', 'mystifier', 'trailblazer', 'cosmic', 'seraph', 'paradigm', 'spellbinder', 'ethereal', 'melodist', 'captivator', 'soothsayer', 'mesmerizer', 'phoenix', 'solace', 'conqueror', 'whim', 'whisperer', 'architect', 'zephyr', 'revelation', 'labyrinth', 'phenomenon', 'radiant', 'luminance', 'mirth', 'synchronicity', 'twilight', 'illuminati', 'luminescence', 'phenomenon', 'prophet', 'oracle', 'effervescence', 'whim', 'magnificence', 'enigma', 'bliss', 'pinnacle', 'whisperer', 'illuminator', 'paragon', 'whirlpool', 'legend', 'journey', 'stellar', 'spectrum', 'euphoria', 'paradise', 'symphony', 'muse', 'glimpse', 'serendipity', 'gossamer', 'wonder', 'dreamweaver', 'celestial', 'serenade', 'cascade', 'whisperer', 'enchantress', 'myth', 'harmony', 'reverie', 'oasis', 'wanderlust', 'champion', 'voyager', 'mystifier', 'trailblazer', 'cosmic', 'seraph', 'paradigm', 'spellbinder', 'ethereal', 'melodist', 'captivator', 'soothsayer', 'mesmerizer', 'phoenix', 'solace', 'conqueror', 'whim', 'whisperer', 'architect', 'zephyr', 'revelation', 'labyrinth', 'phenomenon', 'radiant', 'luminance', 'mirth', 'synchronicity', 'twilight', 'illuminati', 'luminescence', 'phenomenon', 'prophet', 'oracle', 'effervescence', 'whim', 'magnificence', 'enigma', 'bliss', 'pinnacle', 'whisperer', 'illuminator', 'paragon', 'whirlpool', 'legend', 'journey', 'stellar', 'spectrum', 'euphoria', 'paradise', 'symphony', 'muse', 'glimpse', 'serendipity', 'gossamer', 'wonder', 'dreamweaver', 'celestial', 'serenade', 'cascade', 'whisperer', 'enchantress', 'myth', 'harmony', 'reverie', 'oasis', 'wanderlust', 'champion', 'voyager', 'mystifier', 'trailblazer', 'cosmic', 'seraph', 'paradigm', 'spellbinder', 'ethereal', 'melodist', 'captivator', 'soothsayer', 'mesmerizer', 'phoenix', 'solace', 'conqueror', 'whim', 'whisperer', 'architect', 'zephyr', 'revelation', 'labyrinth', 'phenomenon', 'radiant', 'luminance', 'mirth', 'synchronicity', 'twilight', 'illuminati', 'luminescence', 'phenomenon', 'prophet', 'oracle', 'effervescence', 'whim', 'magnificence', 'enigma', 'bliss', 'pinnacle', 'whisperer', 'illuminator', 'paragon', 'whirlpool', 'legend', 'journey', 'stellar', 'spectrum', 'euphoria', 'paradise', 'symphony', 'muse', 'glimpse', 'serendipity', 'gossamer', 'wonder', 'dreamweaver', 'celestial', 'serenade', 'cascade', 'whisperer', 'enchantress', 'myth', 'harmony', 'reverie', 'oasis', 'wanderlust', 'champion', 'voyager', 'mystifier', 'trailblazer', 'cosmic', 'seraph', 'paradigm', 'spellbinder', 'ethereal', 'melodist', 'captivator', 'soothsayer', 'mesmerizer', 'phoenix', 'solace', 'conqueror', 'whim', 'whisperer', 'architect', 'zephyr', 'revelation', 'labyrinth', 'phenomenon', 'radiant', 'luminance', 'mirth', 'synchronicity', 'twilight', 'illuminati', 'luminescence', 'phenomenon', 'prophet', 'oracle', 'effervescence', 'whim', 'magnificence', 'enigma', 'bliss', 'pinnacle', 'whisperer', 'illuminator', 'paragon', 'whirlpool', 'legend', 'journey', 'stellar', 'spectrum', 'euphoria', 'paradise', 'symphony', 'muse', 'glimpse', 'serendipity', 'gossamer', 'wonder', 'dreamweaver', 'celestial', 'serenade', 'cascade', 'whisperer', 'enchantress', 'myth', 'harmony', 'reverie', 'oasis', 'wanderlust', 'champion', 'voyager', 'mystifier', 'trailblazer', 'cosmic', 'seraph', 'paradigm', 'spellbinder', 'ethereal', 'melodist', 'captivator', 'soothsayer', 'mesmerizer', 'phoenix', 'solace', 'conqueror', 'whim', 'whisperer', 'architect', 'zephyr', 'revelation', 'labyrinth', 'phenomenon', 'radiant', 'luminance', 'mirth', 'synchronicity', 'twilight', 'illuminati', 'luminescence', 'phenomenon', 'prophet', 'oracle', 'effervescence', 'whim', 'magnificence', 'enigma', 'bliss', 'pinnacle', 'whisperer', 'illuminator', 'paragon', 'whirlpool', 'legend', 'journey', 'stellar', 'spectrum', 'euphoria', 'paradise', 'symphony', 'muse', 'glimpse', 'serendipity', 'gossamer', 'wonder', 'dreamweaver', 'celestial', 'serenade', 'cascade', 'whisperer', 'enchantress', 'myth', 'harmony', 'reverie', 'oasis', 'wanderlust', 'champion', 'voyager', 'mystifier', 'trailblazer', 'cosmic', 'seraph', 'paradigm', 'spellbinder', 'ethereal', 'melodist', 'captivator', 'soothsayer', 'mesmerizer', 'phoenix', 'solace', 'conqueror', 'whim', 'whisperer', 'architect', 'zephyr', 'revelation', 'labyrinth', 'phenomenon', 'radiant', 'luminance', 'mirth', 'synchronicity', 'twilight', 'illuminati', 'luminescence', 'phenomenon', 'prophet', 'oracle', 'effervescence', 'whim', 'magnificence', 'enigma', 'bliss', 'pinnacle', 'whisperer', 'illuminator', 'paragon', 'whirlpool', 'legend', 'journey', 'stellar', 'spectrum', 'euphoria', 'paradise', 'symphony', 'muse', 'glimpse', 'serendipity', 'gossamer', 'wonder', 'dreamweaver', 'celestial', 'serenade', 'cascade', 'whisperer', 'enchantress', 'myth', 'harmony', 'reverie', 'oasis', 'wanderlust', 'champion', 'voyager', 'mystifier', 'trailblazer', 'cosmic', 'seraph', 'paradigm', 'spellbinder', 'ethereal', 'melodist', 'captivator', 'soothsayer', 'mesmerizer', 'phoenix', 'solace', 'conqueror', 'whim', 'whisperer', 'architect', 'zephyr', 'revelation', 'labyrinth', 'phenomenon', 'radiant', 'luminance', 'mirth', 'synchronicity', 'twilight', 'illuminati', 'luminescence', 'phenomenon', 'prophet', 'oracle', 'effervescence', 'whim', 'magnificence', 'enigma', 'bliss', 'pinnacle', 'whisperer', 'illuminator', 'paragon', 'whirlpool', 'legend', 'journey', 'stellar', 'spectrum', 'euphoria', 'paradise', 'symphony', 'muse', 'glimpse', 'serendipity', 'gossamer', 'wonder', 'dreamweaver', 'celestial', 'serenade', 'cascade', 'whisperer', 'enchantress', 'myth', 'harmony', 'reverie', 'oasis', 'wanderlust', 'champion', 'voyager', 'mystifier', 'trailblazer', 'cosmic', 'seraph', 'paradigm', 'spellbinder', 'ethereal', 'melodist', 'captivator', 'soothsayer', 'mesmerizer', 'phoenix', 'solace', 'conqueror', 'whim', 'whisperer', 'architect', 'zephyr', 'revelation', 'labyrinth', 'phenomenon', 'radiant', 'luminance', 'mirth', 'synchronicity', 'twilight', 'illuminati', 'luminescence', 'phenomenon', 'prophet', 'oracle', 'effervescence', 'whim', 'magnificence', 'enigma', 'bliss', 'pinnacle', 'whisperer', 'illuminator', 'paragon', 'whirlpool', 'legend', 'journey', 'stellar', 'spectrum', 'euphoria', 'paradise', 'symphony', 'muse', 'glimpse', 'serendipity', 'gossamer', 'wonder', 'dreamweaver', 'celestial', 'serenade', 'cascade', 'whisperer', 'enchantress', 'myth', 'harmony', 'reverie', 'oasis', 'wanderlust', 'champion', 'voyager', 'mystifier', 'trailblazer', 'cosmic', 'seraph', 'paradigm', 'spellbinder', 'ethereal', 'melodist', 'captivator', 'soothsayer', 'mesmerizer', 'phoenix', 'solace', 'conqueror', 'whim', 'whisperer', 'architect', 'zephyr', 'revelation', 'labyrinth', 'phenomenon', 'radiant', 'luminance', 'mirth', 'synchronicity', 'twilight', 'illuminati', 'luminescence', 'phenomenon', 'prophet', 'oracle', 'effervescence', 'whim', 'magnificence', 'enigma', 'bliss', 'pinnacle', 'whisperer', 'illuminator', 'paragon', 'whirlpool', 'legend', 'journey', 'stellar', 'spectrum', 'euphoria', 'paradise', 'symphony', 'muse', 'glimpse', 'serendipity', 'gossamer', 'wonder', 'dreamweaver', 'celestial', 'serenade', 'cascade', 'whisperer', 'enchantress', 'myth', 'harmony', 'reverie', 'oasis', 'wanderlust', 'champion', 'voyager', 'mystifier', 'trailblazer', 'cosmic', 'seraph', 'paradigm', 'spellbinder', 'ethereal', 'melodist', 'captivator', 'soothsayer', 'mesmerizer', 'phoenix', 'solace', 'conqueror', 'whim', 'whisperer', 'architect', 'zephyr', 'revelation', 'labyrinth', 'phenomenon', 'radiant', 'luminance', 'mirth', 'synchronicity', 'twilight', 'illuminati', 'luminescence', 'phenomenon', 'prophet', 'oracle', 'effervescence', 'whim', 'magnificence', 'enigma', 'bliss', 'pinnacle', 'whisperer', 'illuminator', 'paragon', 'whirlpool', 'legend', 'journey', 'stellar', 'spectrum', 'euphoria', 'paradise', 'symphony', 'muse', 'glimpse', 'serendipity', 'gossamer', 'wonder', 'dreamweaver', 'celestial', 'serenade', 'cascade', 'whisperer', 'enchantress', 'myth', 'harmony', 'reverie', 'oasis', 'wanderlust', 'champion', 'voyager', 'mystifier', 'trailblazer', 'cosmic', 'seraph', 'paradigm', 'spellbinder', 'ethereal', 'melodist', 'captivator', 'soothsayer', 'mesmerizer', 'phoenix', 'solace', 'conqueror', 'whim', 'whisperer', 'architect', 'zephyr', 'revelation', 'labyrinth', 'phenomenon', 'radiant', 'luminance', 'mirth', 'synchronicity', 'twilight', 'illuminati', 'luminescence', 'phenomenon', 'prophet', 'oracle', 'effervescence', 'whim', 'magnificence', 'enigma', 'bliss', 'pinnacle', 'whisperer', 'illuminator', 'paragon', 'whirlpool', 'legend', 'journey', 'stellar', 'spectrum', 'euphoria', 'paradise', 'symphony', 'muse', 'glimpse', 'serendipity', 'gossamer', 'wonder', 'dreamweaver', 'celestial', 'serenade', 'cascade', 'whisperer', 'enchantress', 'myth', 'harmony', 'reverie', 'oasis', 'wanderlust', 'champion', 'voyager', 'mystifier', 'trailblazer', 'cosmic', 'seraph', 'paradigm', 'spellbinder', 'ethereal', 'melodist', 'captivator', 'soothsayer', 'mesmerizer', 'phoenix', 'solace', 'conqueror', 'whim', 'whisperer', 'architect', 'zephyr', 'revelation', 'labyrinth', 'phenomenon', 'radiant', 'luminance', 'mirth', 'synchronicity', 'twilight', 'illuminati', 'luminescence', 'phenomenon', 'prophet', 'oracle', 'effervescence', 'whim', 'magnificence', 'enigma', 'bliss', 'pinnacle', 'whisperer', 'illuminator', 'paragon', 'whirlpool', 'legend', 'journey', 'stellar', 'spectrum', 'euphoria', 'paradise', 'symphony', 'muse', 'glimpse', 'serendipity', 'gossamer', 'wonder', 'dreamweaver', 'celestial', 'serenade', 'cascade', 'whisperer', 'enchantress', 'myth', 'harmony', 'reverie', 'oasis', 'wanderlust', 'champion', 'voyager', 'mystifier', 'trailblazer', 'cosmic', 'seraph', 'paradigm', 'spellbinder', 'ethereal', 'melodist', 'captivator', 'soothsayer', 'mesmerizer', 'phoenix', 'solace', 'conqueror', 'whim', 'whisperer', 'architect', 'zephyr', 'revelation', 'labyrinth', 'phenomenon', 'radiant', 'luminance', 'mirth', 'synchronicity', 'twilight', 'illuminati', 'luminescence', 'phenomenon', 'prophet', 'oracle', 'effervescence', 'whim', 'magnificence', 'enigma', 'bliss', 'pinnacle', 'whisperer', 'illuminator', 'paragon', 'whirlpool', 'legend', 'journey', 'stellar', 'spectrum', 'euphoria', 'paradise', 'symphony', 'muse', 'glimpse', 'serendipity', 'gossamer', 'wonder', 'dreamweaver', 'celestial', 'serenade', 'cascade', 'whisperer', 'enchantress', 'myth', 'harmony', 'reverie', 'oasis', 'wanderlust', 'champion', 'voyager', 'mystifier', 'trailblazer', 'cosmic', 'seraph','shadow']\n",
    "number_of_pseudo = 10"
   ]
  },
  {
   "cell_type": "markdown",
   "id": "e46c0b5e-8428-43df-9938-9e7df860d547",
   "metadata": {
    "papermill": {},
    "tags": []
   },
   "source": [
    "## Model"
   ]
  },
  {
   "cell_type": "markdown",
   "id": "0c11053a-1b72-4b1a-9127-ad1a4f47b348",
   "metadata": {
    "papermill": {},
    "tags": []
   },
   "source": [
    "### Get random pseudonym\n",
    "This script will randomly select an adjective and a noun to form a pseudonym"
   ]
  },
  {
   "cell_type": "code",
   "execution_count": 3,
   "id": "0fcb514c-59f2-44b8-b7ca-800fe8b5b197",
   "metadata": {
    "papermill": {},
    "tags": []
   },
   "outputs": [],
   "source": [
    "def generate_pseudonym():\n",
    "    adjective = random.choice(adjectives)\n",
    "    noun = random.choice(nouns)\n",
    "    pseudonym = adjective + '_' + noun\n",
    "    return pseudonym\n",
    "\n",
    "pseudonym = generate_pseudonym()"
   ]
  },
  {
   "cell_type": "markdown",
   "id": "80711f76-06e9-4bec-a96c-b0967048b06d",
   "metadata": {
    "papermill": {},
    "tags": []
   },
   "source": [
    "## Output"
   ]
  },
  {
   "cell_type": "markdown",
   "id": "06fff620-dc13-4061-a219-f90f075cee3a",
   "metadata": {
    "papermill": {},
    "tags": []
   },
   "source": [
    "### Display result"
   ]
  },
  {
   "cell_type": "code",
   "execution_count": 5,
   "id": "eb857f38-f044-495f-927d-bf8103b9e7a8",
   "metadata": {
    "papermill": {},
    "tags": []
   },
   "outputs": [],
   "source": [
    "print(\"List of generated pseudonym: \")\n",
    "for _ in range(number_of_pseudo):\n",
    "    pseudonym = generate_pseudonym()\n",
    "    print(_+1, '[', pseudonym, ']')"
   ]
  },
  {
   "cell_type": "markdown",
   "id": "52bdb07e-28b9-44d8-aeda-3b899e14997d",
   "metadata": {
    "papermill": {},
    "tags": []
   },
   "source": [
    " "
   ]
  }
 ],
 "metadata": {
  "kernelspec": {
   "display_name": "Python 3",
   "language": "python",
   "name": "python3"
  },
  "language_info": {
   "codemirror_mode": {
    "name": "ipython",
    "version": 3
   },
   "file_extension": ".py",
   "mimetype": "text/x-python",
   "name": "python",
   "nbconvert_exporter": "python",
   "pygments_lexer": "ipython3",
   "version": "3.9.6"
  },
  "naas": {
   "notebook_id": "6b201a517cee73c048da83f5eeea5a372c37d868c68b1ba958a7eb3723778014",
   "notebook_path": "Python/Python_Pseudonym_generator.ipynb"
  },
  "papermill": {
   "default_parameters": {},
   "environment_variables": {},
   "parameters": {},
   "version": "2.4.0"
  },
  "widgets": {
   "application/vnd.jupyter.widget-state+json": {
    "state": {},
    "version_major": 2,
    "version_minor": 0
   }
  }
 },
 "nbformat": 4,
 "nbformat_minor": 5
}