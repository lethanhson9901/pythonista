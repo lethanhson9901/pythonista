{
 "cells": [
  {
   "cell_type": "markdown",
   "id": "a375df46-3e8d-496c-b9f2-956a649ee2b0",
   "metadata": {
    "papermill": {},
    "tags": []
   },
   "source": [
    "<img width=\"10%\" alt=\"Naas\" src=\"https://landen.imgix.net/jtci2pxwjczr/assets/5ice39g4.png?w=160\"/>"
   ]
  },
  {
   "cell_type": "markdown",
   "id": "7da76030-0b3c-4c2f-9e7b-36043d3cd1a1",
   "metadata": {
    "papermill": {},
    "tags": []
   },
   "source": [
    "# Python - Convert currency\n",
    "<a href=\"https://app.naas.ai/user-redirect/naas/downloader?url=https://raw.githubusercontent.com/jupyter-naas/awesome-notebooks/master/Python/Python_Convert_currency.ipynb\" target=\"_parent\"><img src=\"https://naasai-public.s3.eu-west-3.amazonaws.com/Open_in_Naas_Lab.svg\"/></a><br><br><a href=\"https://bit.ly/3JyWIk6\">Give Feedback</a> | <a href=\"https://github.com/jupyter-naas/awesome-notebooks/issues/new?assignees=&labels=bug&template=bug_report.md&title=Python+-+Convert+currency:+Error+short+description\">Bug report</a>"
   ]
  },
  {
   "cell_type": "markdown",
   "id": "a783de75-d983-43ac-8323-a92bca66a8c3",
   "metadata": {
    "papermill": {},
    "tags": []
   },
   "source": [
    "**Tags:** #python #exchange #currency #converter #convert #snippet #operations"
   ]
  },
  {
   "cell_type": "markdown",
   "id": "e502ab4b-f881-47fa-a199-1d9604807537",
   "metadata": {
    "papermill": {},
    "tags": []
   },
   "source": [
    "**Author:** [Benjamin Filly](https://www.linkedin.com/in/benjamin-filly-05427727a/)"
   ]
  },
  {
   "cell_type": "markdown",
   "id": "01ac759b-95cd-443c-b49d-741ba1d2ace4",
   "metadata": {
    "papermill": {},
    "tags": []
   },
   "source": [
    "**Last update:** 2023-06-19 (Created: 2023-06-19)"
   ]
  },
  {
   "cell_type": "markdown",
   "id": "b447e3a8-ced8-4831-bbfc-ca5a7466df6f",
   "metadata": {
    "papermill": {},
    "tags": []
   },
   "source": [
    "**Description:** This workbook shows you how to convert any currency into any other currency in real time using `forex_python` library."
   ]
  },
  {
   "cell_type": "markdown",
   "id": "8848fad9-b586-4662-bb43-19c52e25967a",
   "metadata": {
    "papermill": {},
    "tags": []
   },
   "source": [
    "**References:**\n",
    "- [Python Currency converter](https://forex-python.readthedocs.io/en/latest/usage.html)"
   ]
  },
  {
   "cell_type": "markdown",
   "id": "be71fe01-3f32-4bef-b52f-14559736a10e",
   "metadata": {
    "papermill": {},
    "tags": []
   },
   "source": [
    "## Input"
   ]
  },
  {
   "cell_type": "markdown",
   "id": "220765c9-8ed8-477d-bd68-589b9b9f5060",
   "metadata": {
    "papermill": {},
    "tags": []
   },
   "source": [
    "### Import libraries"
   ]
  },
  {
   "cell_type": "code",
   "execution_count": null,
   "id": "c1e23f36-c78c-46e7-83a7-ba82dbf9a2eb",
   "metadata": {
    "papermill": {},
    "tags": []
   },
   "outputs": [],
   "source": [
    "try:\n",
    "    from forex_python.converter import CurrencyRates\n",
    "except:\n",
    "    !pip install forex_python --user\n",
    "    from forex_python.converter import CurrencyRates"
   ]
  },
  {
   "cell_type": "markdown",
   "id": "71db5801-b569-4661-8a73-7ab6674a643a",
   "metadata": {
    "papermill": {},
    "tags": []
   },
   "source": [
    "### Setup Variables\n",
    "[Forex Python Available exchange rates](https://github.com/Benjifilly/My_notebooks/wiki/Forex-Python-Available-exchange-rates#real-time-exchange-rates-in-forex-python)\n",
    "- `amount`: Enter the amount you want to convert\n",
    "- `from_currency`:  Enter the currency code to convert from\n",
    "- `to_currency`:  Enter the currency code to convert to"
   ]
  },
  {
   "cell_type": "code",
   "execution_count": null,
   "id": "56811afa-732c-46fd-b3a8-f04e4baada05",
   "metadata": {
    "papermill": {},
    "tags": []
   },
   "outputs": [],
   "source": [
    "amount = 1  \n",
    "from_currency = 'USD' \n",
    "to_currency = 'EUR'  "
   ]
  },
  {
   "cell_type": "markdown",
   "id": "f2ad5c91-6389-4bd2-8537-7e0088b93533",
   "metadata": {
    "papermill": {},
    "tags": []
   },
   "source": [
    "## Model"
   ]
  },
  {
   "cell_type": "markdown",
   "id": "4b1df285-3221-458d-899d-bd2a0bf3fe0a",
   "metadata": {
    "papermill": {},
    "tags": []
   },
   "source": [
    "### Converting currency"
   ]
  },
  {
   "cell_type": "code",
   "execution_count": null,
   "id": "72a0a05f-2935-4505-8a09-3602e791774c",
   "metadata": {
    "papermill": {},
    "tags": []
   },
   "outputs": [],
   "source": [
    "def convert_currency(amount, from_currency, to_currency):\n",
    "    c = CurrencyRates()\n",
    "    converted_amount = c.convert(from_currency, to_currency, amount)\n",
    "    return converted_amount"
   ]
  },
  {
   "cell_type": "markdown",
   "id": "d3d1a3d3-b21e-493c-8db1-2a76dbff62fe",
   "metadata": {
    "papermill": {},
    "tags": []
   },
   "source": [
    "## Output"
   ]
  },
  {
   "cell_type": "markdown",
   "id": "9a45ecdc-5c4f-458b-b292-a4c05564a6d7",
   "metadata": {
    "papermill": {},
    "tags": []
   },
   "source": [
    "### Display result"
   ]
  },
  {
   "cell_type": "code",
   "execution_count": null,
   "id": "8439ed05-4a87-4ca5-af92-5f979730bd2e",
   "metadata": {
    "papermill": {},
    "tags": []
   },
   "outputs": [],
   "source": [
    "converted_amount = convert_currency(amount, from_currency, to_currency)\n",
    "print(f\"{amount} {from_currency} = {converted_amount} {to_currency}\")"
   ]
  },
  {
   "cell_type": "markdown",
   "id": "8acc17ec-b543-49ef-befb-f57a96c08878",
   "metadata": {
    "papermill": {},
    "tags": []
   },
   "source": [
    " "
   ]
  }
 ],
 "metadata": {
  "kernelspec": {
   "display_name": "Python 3",
   "language": "python",
   "name": "python3"
  },
  "language_info": {
   "codemirror_mode": {
    "name": "ipython",
    "version": 3
   },
   "file_extension": ".py",
   "mimetype": "text/x-python",
   "name": "python",
   "nbconvert_exporter": "python",
   "pygments_lexer": "ipython3",
   "version": "3.9.6"
  },
  "naas": {
   "notebook_id": "1b0f742b14019f6471df8b63da4b92c06192acbe92d849987e62afafb2dac907",
   "notebook_path": "Python/Python_Convert_currency.ipynb"
  },
  "papermill": {
   "default_parameters": {},
   "environment_variables": {},
   "parameters": {},
   "version": "2.4.0"
  },
  "widgets": {
   "application/vnd.jupyter.widget-state+json": {
    "state": {},
    "version_major": 2,
    "version_minor": 0
   }
  }
 },
 "nbformat": 4,
 "nbformat_minor": 5
}