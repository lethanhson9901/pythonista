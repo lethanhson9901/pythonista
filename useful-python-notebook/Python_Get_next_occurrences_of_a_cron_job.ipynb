{
 "cells": [
  {
   "cell_type": "markdown",
   "id": "ad52b0ed-6d66-477a-8406-86d06365e99b",
   "metadata": {
    "papermill": {},
    "tags": []
   },
   "source": [
    "<img width=\"10%\" alt=\"Naas\" src=\"https://landen.imgix.net/jtci2pxwjczr/assets/5ice39g4.png?w=160\"/>"
   ]
  },
  {
   "cell_type": "markdown",
   "id": "2b60d914-cad6-432d-b9ad-f01da48100a4",
   "metadata": {
    "papermill": {},
    "tags": []
   },
   "source": [
    "# Python - Get next occurrences of a cron job\n",
    "<a href=\"https://app.naas.ai/user-redirect/naas/downloader?url=https://raw.githubusercontent.com/jupyter-naas/awesome-notebooks/master/Python/Python_Get_next_occurrences_of_a_cron_job.ipynb\" target=\"_parent\"><img src=\"https://naasai-public.s3.eu-west-3.amazonaws.com/Open_in_Naas_Lab.svg\"/></a><br><br><a href=\"https://bit.ly/3JyWIk6\">Give Feedback</a> | <a href=\"https://github.com/jupyter-naas/awesome-notebooks/issues/new?assignees=&labels=bug&template=bug_report.md&title=Python+-+Get+next+occurrences+of+a+cron+job:+Error+short+description\">Bug report</a>"
   ]
  },
  {
   "cell_type": "markdown",
   "id": "9ef35846-521f-4cf0-9eb6-5ee24a00ee75",
   "metadata": {
    "papermill": {},
    "tags": []
   },
   "source": [
    "**Tags:** #python #cron #croniter #job #occurrences #scheduling"
   ]
  },
  {
   "cell_type": "markdown",
   "id": "b36cc726-5972-4e9e-9352-8e1413ad2946",
   "metadata": {
    "papermill": {},
    "tags": []
   },
   "source": [
    "**Author:** [Florent Ravenel](https://www.linkedin.com/in/florent-ravenel/)"
   ]
  },
  {
   "cell_type": "markdown",
   "id": "7ce7d9b6-1831-47a1-ab6b-70edbde5b1fc",
   "metadata": {
    "papermill": {},
    "tags": []
   },
   "source": [
    "**Last update:** 2023-05-09 (Created: 2023-05-09)"
   ]
  },
  {
   "cell_type": "markdown",
   "id": "a1735757-fd9a-4b5c-8dae-78ded1ba6a1c",
   "metadata": {
    "papermill": {},
    "tags": []
   },
   "source": [
    "**Description:** This notebook will show how to get the next x occurrences of your cron job using croniter. It is usefull for organizations to schedule tasks and jobs."
   ]
  },
  {
   "cell_type": "markdown",
   "id": "23177c4d-18c6-4c71-9b75-abbbb4202ecf",
   "metadata": {
    "papermill": {},
    "tags": []
   },
   "source": [
    "**References:**\n",
    "- [croniter](https://pypi.org/project/croniter/#usage)\n",
    "- [cron](https://en.wikipedia.org/wiki/Cron)"
   ]
  },
  {
   "cell_type": "markdown",
   "id": "987afdfd-26a4-481a-b4b0-7430e6a60f74",
   "metadata": {
    "papermill": {},
    "tags": []
   },
   "source": [
    "## Input"
   ]
  },
  {
   "cell_type": "markdown",
   "id": "75f41ac8-d90c-4b4a-a927-2be5115dcac2",
   "metadata": {
    "papermill": {},
    "tags": []
   },
   "source": [
    "### Import libraries"
   ]
  },
  {
   "cell_type": "code",
   "execution_count": null,
   "id": "09951c58-d6e8-42d1-be71-79ef106d7f2b",
   "metadata": {
    "papermill": {},
    "tags": []
   },
   "outputs": [],
   "source": [
    "try:\n",
    "    import croniter\n",
    "except:\n",
    "    !pip install croniter --user\n",
    "    import croniter\n",
    "import pytz\n",
    "from datetime import datetime"
   ]
  },
  {
   "cell_type": "markdown",
   "id": "f43c689c-d595-4ae3-a137-84f297a25306",
   "metadata": {
    "papermill": {},
    "tags": []
   },
   "source": [
    "### Setup Variables\n",
    "- `cron_expression`: cron expression to be used\n",
    "- `occurrences`: number of occurrences to be returned\n",
    "- `timezone`: timezone identifier"
   ]
  },
  {
   "cell_type": "code",
   "execution_count": null,
   "id": "8dde55a8-0436-4c21-bcb0-d24d804d6d41",
   "metadata": {
    "papermill": {},
    "tags": []
   },
   "outputs": [],
   "source": [
    "cron_expression = \"*/15 * * * *\"\n",
    "occurrences = 5\n",
    "timezone = 'Europe/Paris'"
   ]
  },
  {
   "cell_type": "markdown",
   "id": "fe932b4e-214e-4316-ad6d-d5f5da19e66a",
   "metadata": {
    "papermill": {},
    "tags": []
   },
   "source": [
    "## Model"
   ]
  },
  {
   "cell_type": "markdown",
   "id": "195a25ef-5634-4826-b011-c67cb27c7bcb",
   "metadata": {
    "papermill": {},
    "tags": []
   },
   "source": [
    "### Set the timezone"
   ]
  },
  {
   "cell_type": "code",
   "execution_count": null,
   "id": "9663235b-4931-426a-b499-784470caecac",
   "metadata": {
    "papermill": {},
    "tags": []
   },
   "outputs": [],
   "source": [
    "# Set the timezone\n",
    "tz = pytz.timezone(timezone)"
   ]
  },
  {
   "cell_type": "markdown",
   "id": "18002fee-6bf7-4e76-b1a4-b1890c066b25",
   "metadata": {
    "papermill": {},
    "tags": []
   },
   "source": [
    "### Create a cron iterator"
   ]
  },
  {
   "cell_type": "code",
   "execution_count": null,
   "id": "06ccee6f-c0e2-4b16-a1ba-963cb3266362",
   "metadata": {
    "papermill": {},
    "tags": []
   },
   "outputs": [],
   "source": [
    "# Create a cron iterator with the timezone\n",
    "cron = croniter.croniter(cron_expression, datetime.now(tz), tz)"
   ]
  },
  {
   "cell_type": "markdown",
   "id": "f2c5763b-c3b9-4647-87f0-8d14c149fc2f",
   "metadata": {
    "papermill": {},
    "tags": []
   },
   "source": [
    "## Output"
   ]
  },
  {
   "cell_type": "markdown",
   "id": "469cd8a9-bc00-4ee9-9448-6402ec188f65",
   "metadata": {
    "papermill": {},
    "tags": []
   },
   "source": [
    "### Get the next x occurrences of the cron job and convert them to text"
   ]
  },
  {
   "cell_type": "code",
   "execution_count": null,
   "id": "bbf55d8e-65b1-4866-bec1-f0af53033c95",
   "metadata": {
    "papermill": {},
    "tags": []
   },
   "outputs": [],
   "source": [
    "for i in range(occurrences):\n",
    "    next_occurrence = cron.get_next(datetime)\n",
    "    print(next_occurrence.strftime('%A, %B %d, %Y at %I:%M %p'))"
   ]
  },
  {
   "cell_type": "markdown",
   "id": "dd5b1b2d-ccb3-45a5-940c-0820c300aac1",
   "metadata": {
    "papermill": {},
    "tags": []
   },
   "source": [
    " "
   ]
  }
 ],
 "metadata": {
  "kernelspec": {
   "display_name": "Python 3",
   "language": "python",
   "name": "python3"
  },
  "language_info": {
   "codemirror_mode": {
    "name": "ipython",
    "version": 3
   },
   "file_extension": ".py",
   "mimetype": "text/x-python",
   "name": "python",
   "nbconvert_exporter": "python",
   "pygments_lexer": "ipython3",
   "version": "3.9.6"
  },
  "naas": {
   "notebook_id": "ebc58d505f37c456cff8fedcc2252596d0f3957a268f00d45856b1231f12e98e",
   "notebook_path": "Python/Python_Get_next_occurrences_of_a_cron_job.ipynb"
  },
  "papermill": {
   "default_parameters": {},
   "environment_variables": {},
   "parameters": {},
   "version": "2.4.0"
  },
  "widgets": {
   "application/vnd.jupyter.widget-state+json": {
    "state": {},
    "version_major": 2,
    "version_minor": 0
   }
  }
 },
 "nbformat": 4,
 "nbformat_minor": 5
}