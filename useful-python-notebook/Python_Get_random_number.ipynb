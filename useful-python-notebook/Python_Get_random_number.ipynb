{
 "cells": [
  {
   "cell_type": "markdown",
   "id": "a5fbb8e5-d63f-4f63-bee1-2e5280f7262a",
   "metadata": {
    "papermill": {},
    "tags": []
   },
   "source": [
    "<img width=\"10%\" alt=\"Naas\" src=\"https://landen.imgix.net/jtci2pxwjczr/assets/5ice39g4.png?w=160\"/>"
   ]
  },
  {
   "cell_type": "markdown",
   "id": "98fdb274-6466-485f-9a1a-934dee55beb0",
   "metadata": {
    "papermill": {},
    "tags": []
   },
   "source": [
    "# Python - Get random number\n",
    "<a href=\"https://app.naas.ai/user-redirect/naas/downloader?url=https://raw.githubusercontent.com/jupyter-naas/awesome-notebooks/master/Python/Python_Get_random_number.ipynb\" target=\"_parent\"><img src=\"https://naasai-public.s3.eu-west-3.amazonaws.com/Open_in_Naas_Lab.svg\"/></a><br><br><a href=\"https://bit.ly/3JyWIk6\">Give Feedback</a> | <a href=\"https://github.com/jupyter-naas/awesome-notebooks/issues/new?assignees=&labels=bug&template=bug_report.md&title=Python+-+Get+random+number:+Error+short+description\">Bug report</a>"
   ]
  },
  {
   "cell_type": "markdown",
   "id": "3e1ffc38-bb7f-4dac-9718-fef375e83834",
   "metadata": {
    "papermill": {},
    "tags": []
   },
   "source": [
    "**Tags:** #python #number #generation #random #snippet #operation"
   ]
  },
  {
   "cell_type": "markdown",
   "id": "a9b57526-e80f-4c25-88a6-802635224690",
   "metadata": {
    "papermill": {},
    "tags": []
   },
   "source": [
    "**Author:** [Benjamin Filly](https://www.linkedin.com/in/benjamin-filly-05427727a/)"
   ]
  },
  {
   "cell_type": "markdown",
   "id": "1661b06e-947e-4144-ba56-9ae5a2c21a76",
   "metadata": {
    "papermill": {},
    "tags": []
   },
   "source": [
    "**Last update:** 2023-06-08 (Created: 2023-06-07)"
   ]
  },
  {
   "cell_type": "markdown",
   "id": "2e8b31cf-ccc0-4390-86cc-7a43e8afdbc5",
   "metadata": {
    "papermill": {},
    "tags": []
   },
   "source": [
    "**Description:** This notebook demonstrates how to get random numbers."
   ]
  },
  {
   "cell_type": "markdown",
   "id": "03650f27-2d09-415f-a998-351daee79942",
   "metadata": {
    "papermill": {},
    "tags": []
   },
   "source": [
    "**References:**\n",
    "- [Python Random](https://docs.python.org/3/library/random.html)"
   ]
  },
  {
   "cell_type": "markdown",
   "id": "cc8126bd-19d6-41fc-9f0b-5460b225217a",
   "metadata": {
    "papermill": {},
    "tags": []
   },
   "source": [
    "## Input"
   ]
  },
  {
   "cell_type": "markdown",
   "id": "5d76b038-0b21-4ee4-8480-55a36215215e",
   "metadata": {
    "papermill": {},
    "tags": []
   },
   "source": [
    "### Import libraries"
   ]
  },
  {
   "cell_type": "code",
   "execution_count": 1,
   "id": "e934ee81-3368-4f08-af2e-9f08d0221e96",
   "metadata": {
    "papermill": {},
    "tags": []
   },
   "outputs": [],
   "source": [
    "import random"
   ]
  },
  {
   "cell_type": "markdown",
   "id": "6f7dc62c-95f2-4ab1-a2a7-903a5fa24940",
   "metadata": {
    "papermill": {},
    "tags": []
   },
   "source": [
    "### Setup Variables\n",
    "- `number_start`: integer to be used as first number in random.randrange and random.randint \n",
    "- `number_end`: integer to be used as the last number in random.randrange and random.randint \n",
    "- `step`: step to be used to get random number using random.randrange, default = 1"
   ]
  },
  {
   "cell_type": "code",
   "execution_count": 2,
   "id": "5128c32b-82bb-49d8-a308-2d618e57383a",
   "metadata": {
    "papermill": {},
    "tags": []
   },
   "outputs": [],
   "source": [
    "number_start = 0\n",
    "number_end = 500\n",
    "step = 100"
   ]
  },
  {
   "cell_type": "markdown",
   "id": "e46c0b5e-8428-43df-9938-9e7df860d547",
   "metadata": {
    "papermill": {},
    "tags": []
   },
   "source": [
    "## Model"
   ]
  },
  {
   "cell_type": "markdown",
   "id": "0c11053a-1b72-4b1a-9127-ad1a4f47b348",
   "metadata": {
    "papermill": {},
    "tags": []
   },
   "source": [
    "### Get random decimal"
   ]
  },
  {
   "cell_type": "code",
   "execution_count": 3,
   "id": "0fcb514c-59f2-44b8-b7ca-800fe8b5b197",
   "metadata": {
    "papermill": {},
    "tags": []
   },
   "outputs": [],
   "source": [
    "random_decimal_number = random.random()"
   ]
  },
  {
   "cell_type": "markdown",
   "id": "b2958657-9a81-4084-b4df-9cd1cd975ebd",
   "metadata": {
    "papermill": {},
    "tags": []
   },
   "source": [
    "### Get random integer"
   ]
  },
  {
   "cell_type": "code",
   "execution_count": 4,
   "id": "c702b89a-7137-4c67-a6c7-34e478185a8c",
   "metadata": {
    "papermill": {},
    "tags": []
   },
   "outputs": [],
   "source": [
    "random_integer_number = random.randint(number_start, number_end)"
   ]
  },
  {
   "cell_type": "markdown",
   "id": "73d11b3e-1c8f-40cb-af2b-3606979358ef",
   "metadata": {
    "papermill": {},
    "tags": []
   },
   "source": [
    "### Get random integer from range"
   ]
  },
  {
   "cell_type": "code",
   "execution_count": 5,
   "id": "60794260-c478-4d84-a510-b6b19584d7a0",
   "metadata": {
    "papermill": {},
    "tags": []
   },
   "outputs": [],
   "source": [
    "random_number = random.randrange(number_start, number_end, step)"
   ]
  },
  {
   "cell_type": "markdown",
   "id": "80711f76-06e9-4bec-a96c-b0967048b06d",
   "metadata": {
    "papermill": {},
    "tags": []
   },
   "source": [
    "## Output"
   ]
  },
  {
   "cell_type": "markdown",
   "id": "06fff620-dc13-4061-a219-f90f075cee3a",
   "metadata": {
    "papermill": {},
    "tags": []
   },
   "source": [
    "### Display result"
   ]
  },
  {
   "cell_type": "code",
   "execution_count": 7,
   "id": "eb857f38-f044-495f-927d-bf8103b9e7a8",
   "metadata": {
    "papermill": {},
    "tags": []
   },
   "outputs": [],
   "source": [
    "print(\"The random decimal number generated is\", random_decimal_number)\n",
    "print(\"The random integrer number generated is\", random_integer_number)\n",
    "print(\"The random number generated is\", random_number, \"with a step of\", step)"
   ]
  },
  {
   "cell_type": "markdown",
   "id": "52bdb07e-28b9-44d8-aeda-3b899e14997d",
   "metadata": {
    "papermill": {},
    "tags": []
   },
   "source": [
    " "
   ]
  }
 ],
 "metadata": {
  "kernelspec": {
   "display_name": "Python 3",
   "language": "python",
   "name": "python3"
  },
  "language_info": {
   "codemirror_mode": {
    "name": "ipython",
    "version": 3
   },
   "file_extension": ".py",
   "mimetype": "text/x-python",
   "name": "python",
   "nbconvert_exporter": "python",
   "pygments_lexer": "ipython3",
   "version": "3.9.6"
  },
  "naas": {
   "notebook_id": "273a29ff310403095ebba2c30813413cdbea48f497eb114a7224762e8ae1ebf3",
   "notebook_path": "Python/Python_Get_random_number.ipynb"
  },
  "papermill": {
   "default_parameters": {},
   "environment_variables": {},
   "parameters": {},
   "version": "2.4.0"
  },
  "widgets": {
   "application/vnd.jupyter.widget-state+json": {
    "state": {},
    "version_major": 2,
    "version_minor": 0
   }
  }
 },
 "nbformat": 4,
 "nbformat_minor": 5
}