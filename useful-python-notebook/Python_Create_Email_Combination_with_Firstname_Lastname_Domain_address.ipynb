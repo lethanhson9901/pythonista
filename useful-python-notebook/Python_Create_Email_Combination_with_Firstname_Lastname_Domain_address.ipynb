{
 "cells": [
  {
   "cell_type": "markdown",
   "id": "c13048e0-a3d6-4e88-b09f-a043f95069d3",
   "metadata": {
    "papermill": {},
    "tags": []
   },
   "source": [
    "<img width=\"10%\" alt=\"Naas\" src=\"https://landen.imgix.net/jtci2pxwjczr/assets/5ice39g4.png?w=160\"/>"
   ]
  },
  {
   "cell_type": "markdown",
   "id": "21777b52-5e68-4474-862c-ace24b036ac3",
   "metadata": {
    "papermill": {},
    "tags": []
   },
   "source": [
    "# Python - Create Email Combination with Firstname Lastname Domain address\n",
    "<a href=\"https://app.naas.ai/user-redirect/naas/downloader?url=https://raw.githubusercontent.com/jupyter-naas/awesome-notebooks/master/Python/Python_Create_Email_Combination_with_Firstname_Lastname_Domain_address.ipynb\" target=\"_parent\"><img src=\"https://naasai-public.s3.eu-west-3.amazonaws.com/Open_in_Naas_Lab.svg\"/></a><br><br><a href=\"https://bit.ly/3JyWIk6\">Give Feedback</a> | <a href=\"https://github.com/jupyter-naas/awesome-notebooks/issues/new?assignees=&labels=bug&template=bug_report.md&title=Python+-+Create+Email+Combination+with+Firstname+Lastname+Domain+address:+Error+short+description\">Bug report</a>"
   ]
  },
  {
   "cell_type": "markdown",
   "id": "b5a579de-6969-4368-a49c-7b0745d98208",
   "metadata": {
    "papermill": {},
    "tags": []
   },
   "source": [
    "**Tags:** #python #email #combination #firstname #lastname #domain #sales #prospect"
   ]
  },
  {
   "cell_type": "markdown",
   "id": "564e450c-0168-4770-90b9-438021dbd18c",
   "metadata": {
    "papermill": {},
    "tags": []
   },
   "source": [
    "**Author:** [Florent Ravenel](https://www.linkedin.com/in/florent-ravenel/)"
   ]
  },
  {
   "cell_type": "markdown",
   "id": "ae6a12b4-2651-4965-9d09-a60d10216a90",
   "metadata": {
    "papermill": {},
    "tags": []
   },
   "source": [
    "**Last update:** 2023-04-12 (Created: 2023-02-27)"
   ]
  },
  {
   "cell_type": "markdown",
   "id": "5daa2d54-e61b-4c17-9ac7-f6fba95b1e17",
   "metadata": {
    "papermill": {},
    "tags": []
   },
   "source": [
    "**Description:** This notebook will create a list of emails combination with firstname, lastname and domain address. This notebook can be used to find and test an email address for a prospect."
   ]
  },
  {
   "cell_type": "markdown",
   "id": "93623ecb-0d7b-4a24-a918-6076d4079c48",
   "metadata": {
    "papermill": {},
    "tags": []
   },
   "source": [
    "**References:**\n",
    "- [Python String Formatting Best Practices](https://realpython.com/python-string-formatting/)"
   ]
  },
  {
   "cell_type": "markdown",
   "id": "ba9763b5-96ed-4587-94c1-ddc8c6146413",
   "metadata": {
    "papermill": {},
    "tags": []
   },
   "source": [
    "## Input"
   ]
  },
  {
   "cell_type": "markdown",
   "id": "e99b1f38-4700-486f-b5b7-5e6800d6e268",
   "metadata": {
    "papermill": {},
    "tags": []
   },
   "source": [
    "### Import libraries"
   ]
  },
  {
   "cell_type": "code",
   "execution_count": null,
   "id": "e9785e51-83b0-4fae-9d1a-a37a2f0390d3",
   "metadata": {
    "papermill": {},
    "tags": []
   },
   "outputs": [],
   "source": []
  },
  {
   "cell_type": "markdown",
   "id": "1e8f10a8-f1e5-40d8-95e4-13b4199d4488",
   "metadata": {
    "papermill": {},
    "tags": []
   },
   "source": [
    "### Setup Variables\n",
    "- `firstname`: firstname of the person\n",
    "- `lastname`: lastname of the person\n",
    "- `domain`: domain address"
   ]
  },
  {
   "cell_type": "code",
   "execution_count": 1,
   "id": "9a634d87-8a96-46de-ae0b-f745b0b4bb35",
   "metadata": {
    "papermill": {},
    "tags": []
   },
   "outputs": [],
   "source": [
    "firstname = \"John\"\n",
    "lastname = \"Doe\"\n",
    "domain = \"example.com\""
   ]
  },
  {
   "cell_type": "markdown",
   "id": "625a5ba6-905d-455c-b5a2-9ebcc63bec59",
   "metadata": {
    "papermill": {},
    "tags": []
   },
   "source": [
    "## Model"
   ]
  },
  {
   "cell_type": "markdown",
   "id": "3be6b24a-b78d-41d1-b6fb-b3df961cd941",
   "metadata": {
    "papermill": {},
    "tags": []
   },
   "source": [
    "### Create Emails"
   ]
  },
  {
   "cell_type": "code",
   "execution_count": 2,
   "id": "eeec4cfa-7344-4a6b-b6b7-984a797dbeb6",
   "metadata": {
    "papermill": {},
    "tags": []
   },
   "outputs": [],
   "source": [
    "def create_emails(firstname, lastname, domain):\n",
    "    # Init\n",
    "    emails = []\n",
    "    \n",
    "    # Cleaning\n",
    "    firstname = firstname.lower()\n",
    "    lastname = lastname.lower()\n",
    "    domain = domain.lower()\n",
    "    \n",
    "    # Create emails\n",
    "    emails.append(f\"{firstname}.{lastname}@{domain}\")\n",
    "    emails.append(f\"{firstname}{lastname}@{domain}\")\n",
    "    \n",
    "    emails.append(f\"{lastname}.{firstname}@{domain}\")\n",
    "    emails.append(f\"{lastname}{firstname}@{domain}\")\n",
    "    \n",
    "    emails.append(f\"{firstname[:1]}.{lastname}@{domain}\")\n",
    "    emails.append(f\"{firstname[:1]}{lastname}@{domain}\")\n",
    "    \n",
    "    emails.append(f\"{firstname}.{lastname[:1]}@{domain}\")\n",
    "    emails.append(f\"{firstname}{lastname[:1]}@{domain}\")\n",
    "    return emails"
   ]
  },
  {
   "cell_type": "markdown",
   "id": "f5476f7e-2ac5-46dd-8681-80f315f0803e",
   "metadata": {
    "papermill": {},
    "tags": []
   },
   "source": [
    "## Output"
   ]
  },
  {
   "cell_type": "markdown",
   "id": "91a0d3aa-8f7c-4047-9335-2c3ccfff12d7",
   "metadata": {
    "papermill": {},
    "tags": []
   },
   "source": [
    "### Display result"
   ]
  },
  {
   "cell_type": "code",
   "execution_count": 3,
   "id": "158c64d8-0478-460c-a7f5-e02a766eb39b",
   "metadata": {
    "papermill": {},
    "tags": []
   },
   "outputs": [],
   "source": [
    "emails = create_emails(firstname, lastname, domain)\n",
    "print(emails)"
   ]
  },
  {
   "cell_type": "markdown",
   "id": "5d56d8db-aa92-460b-b716-6449b0ccb50e",
   "metadata": {
    "papermill": {},
    "tags": []
   },
   "source": [
    " "
   ]
  }
 ],
 "metadata": {
  "kernelspec": {
   "display_name": "Python 3",
   "language": "python",
   "name": "python3"
  },
  "language_info": {
   "codemirror_mode": {
    "name": "ipython",
    "version": 3
   },
   "file_extension": ".py",
   "mimetype": "text/x-python",
   "name": "python",
   "nbconvert_exporter": "python",
   "pygments_lexer": "ipython3",
   "version": "3.9.6"
  },
  "naas": {
   "notebook_id": "7a22581a89abec8e9064d61cbe041eb2714389315534606904bb777e73f3eb7b",
   "notebook_path": "Python/Python_Create_Email_Combination_with_Firstname_Lastname_Domain_address.ipynb"
  },
  "papermill": {
   "default_parameters": {},
   "environment_variables": {},
   "parameters": {},
   "version": "2.4.0"
  },
  "widgets": {
   "application/vnd.jupyter.widget-state+json": {
    "state": {},
    "version_major": 2,
    "version_minor": 0
   }
  }
 },
 "nbformat": 4,
 "nbformat_minor": 5
}