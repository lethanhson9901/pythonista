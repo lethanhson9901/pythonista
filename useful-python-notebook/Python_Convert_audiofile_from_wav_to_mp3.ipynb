{
 "cells": [
  {
   "cell_type": "markdown",
   "id": "85ef7794-4c75-4ac1-a3ba-022ceeea3632",
   "metadata": {
    "papermill": {},
    "tags": []
   },
   "source": [
    "<img width=\"10%\" alt=\"Naas\" src=\"https://landen.imgix.net/jtci2pxwjczr/assets/5ice39g4.png?w=160\"/>"
   ]
  },
  {
   "cell_type": "markdown",
   "id": "ac0e5d2e-222c-4e00-bb06-d049b74e5854",
   "metadata": {
    "papermill": {},
    "tags": []
   },
   "source": [
    "# Python - Convert audiofile from wav to mp3\n",
    "<a href=\"https://app.naas.ai/user-redirect/naas/downloader?url=https://raw.githubusercontent.com/jupyter-naas/awesome-notebooks/master/Python/Python_Convert_audiofile_from_wav_to_mp3.ipynb\" target=\"_parent\"><img src=\"https://naasai-public.s3.eu-west-3.amazonaws.com/Open_in_Naas_Lab.svg\"/></a><br><br><a href=\"https://bit.ly/3JyWIk6\">Give Feedback</a> | <a href=\"https://github.com/jupyter-naas/awesome-notebooks/issues/new?assignees=&labels=bug&template=bug_report.md&title=Python+-+Convert+audiofile+from+wav+to+mp3:+Error+short+description\">Bug report</a>"
   ]
  },
  {
   "cell_type": "markdown",
   "id": "0193917e-ebe0-4658-87ef-3d7ab6c61be8",
   "metadata": {
    "papermill": {},
    "tags": []
   },
   "source": [
    "**Tags:** #python #audio #wavtomp3 #pydub"
   ]
  },
  {
   "cell_type": "markdown",
   "id": "5bb49531-e816-4d43-90f3-8d27f366cc6e",
   "metadata": {
    "papermill": {},
    "tags": []
   },
   "source": [
    "**Author:** [Mohit Singh](), [Akshat Katiyar]()"
   ]
  },
  {
   "cell_type": "markdown",
   "id": "8fbf425a-b26c-41be-b5e0-a6872230ec26",
   "metadata": {
    "papermill": {},
    "tags": []
   },
   "source": [
    "**Last update:** 2023-10-21 (Created: 2023-03-08)"
   ]
  },
  {
   "cell_type": "markdown",
   "id": "e0103cb0-759f-481d-8c91-a378e32f2d24",
   "metadata": {
    "papermill": {},
    "tags": []
   },
   "source": [
    "**Description:** This notebook uses the Pydub library to convert audio file from wav to mp3."
   ]
  },
  {
   "cell_type": "markdown",
   "id": "e6c30346-5d9c-488b-bd70-8e47df045691",
   "metadata": {
    "papermill": {},
    "tags": []
   },
   "source": [
    "## Input"
   ]
  },
  {
   "cell_type": "markdown",
   "id": "b355e0d7-05ca-4f53-9426-fc8842893b3e",
   "metadata": {
    "papermill": {},
    "tags": []
   },
   "source": [
    "### Download ffmpeg"
   ]
  },
  {
   "cell_type": "code",
   "execution_count": null,
   "id": "0bc9c4e3-fb36-4f24-b32a-d33e99e512c9",
   "metadata": {
    "papermill": {},
    "tags": []
   },
   "outputs": [],
   "source": [
    "!wget \"https://johnvansickle.com/ffmpeg/builds/ffmpeg-git-amd64-static.tar.xz\"\n",
    "!tar xf ffmpeg-git-amd64-static.tar.xz"
   ]
  },
  {
   "cell_type": "markdown",
   "id": "4af95176-f480-4200-88a6-ee75c066626b",
   "metadata": {},
   "source": [
    "### Find the ffmpeg package binary filename"
   ]
  },
  {
   "cell_type": "code",
   "execution_count": null,
   "id": "568e293d-8bcd-4806-bc4c-c49f826055ec",
   "metadata": {
    "tags": []
   },
   "outputs": [],
   "source": [
    "import os\n",
    "\n",
    "def find_directory_starting_with_ffmpeg_git():\n",
    "    # Get the current directory\n",
    "    current_directory = os.getcwd()\n",
    "\n",
    "    # List all directories in the current directory\n",
    "    directories = [d for d in os.listdir(current_directory) if os.path.isdir(os.path.join(current_directory, d))]\n",
    "\n",
    "    # Check for directories starting with \"ffmpeg-git\"\n",
    "    matching_directories = [d for d in directories if d.startswith(\"ffmpeg-git\")]\n",
    "    return matching_directories\n",
    "\n",
    "dir_path = find_directory_starting_with_ffmpeg_git()\n",
    "package_name = None\n",
    "if len(dir_path) > 1:\n",
    "    print(\"Multiple ffmpeg directory found using the first one\")\n",
    "package_name = dir_path[0]\n",
    "mv_package = f\"mv {package_name} ffmpeg\"\n",
    "!rm -rf ffmpeg\n",
    "!{mv_package}"
   ]
  },
  {
   "cell_type": "markdown",
   "id": "924ae217-e8c9-4543-80e5-ca0accf3c7f4",
   "metadata": {
    "execution": {
     "iopub.execute_input": "2023-10-15T03:37:08.099633Z",
     "iopub.status.busy": "2023-10-15T03:37:08.099401Z",
     "iopub.status.idle": "2023-10-15T03:37:08.102882Z",
     "shell.execute_reply": "2023-10-15T03:37:08.101924Z",
     "shell.execute_reply.started": "2023-10-15T03:37:08.099606Z"
    }
   },
   "source": [
    "### Import libraries"
   ]
  },
  {
   "cell_type": "code",
   "execution_count": null,
   "id": "0d743d71-e781-469d-bbf0-78b168ead9c8",
   "metadata": {
    "tags": []
   },
   "outputs": [],
   "source": [
    "try:\n",
    "    from pydub import AudioSegment\n",
    "except Exception:\n",
    "    !pip install pydub\n",
    "    from pydub import AudioSegment\n",
    "import requests"
   ]
  },
  {
   "cell_type": "markdown",
   "id": "46aae628-f2b6-4215-bbc6-1d8c248c955d",
   "metadata": {
    "papermill": {},
    "tags": []
   },
   "source": [
    "### Setup variables\n",
    "**Mandatory**\n",
    "- `audio_file_url`: Link of audio file in wav to be converted to mp3.\n",
    "\n",
    "**Optional**\n",
    "- `wav_path`: File path to be saved in wav in local.\n",
    "- `mp3_path`: File path to be saved in mp3 in local."
   ]
  },
  {
   "cell_type": "code",
   "execution_count": null,
   "id": "14940d47-d8b9-4022-80e7-a65c62585cce",
   "metadata": {
    "papermill": {},
    "tags": []
   },
   "outputs": [],
   "source": [
    "# Mandatory\n",
    "audio_file_url = 'https://www2.cs.uic.edu/~i101/SoundFiles/BabyElephantWalk60.wav'\n",
    "\n",
    "# Optional\n",
    "wav_path = 'audio.wav'\n",
    "mp3_path = 'audio.mp3'"
   ]
  },
  {
   "cell_type": "markdown",
   "id": "12bfc7cf-cf28-43d2-9b4c-596504708f12",
   "metadata": {
    "papermill": {},
    "tags": []
   },
   "source": [
    "## Model"
   ]
  },
  {
   "cell_type": "markdown",
   "id": "8f3d9990-b53d-44be-8a3b-afb22524a1cc",
   "metadata": {
    "execution": {
     "iopub.execute_input": "2023-10-17T02:36:39.604370Z",
     "iopub.status.busy": "2023-10-17T02:36:39.604096Z",
     "iopub.status.idle": "2023-10-17T02:36:39.607629Z",
     "shell.execute_reply": "2023-10-17T02:36:39.606939Z",
     "shell.execute_reply.started": "2023-10-17T02:36:39.604301Z"
    }
   },
   "source": [
    "### Append ffmpeg package to PATH environment variable"
   ]
  },
  {
   "cell_type": "code",
   "execution_count": null,
   "id": "f3f0b9f9-552a-4298-91f5-2dbc43172163",
   "metadata": {
    "tags": []
   },
   "outputs": [],
   "source": [
    "new_path = os.path.join(os.getcwd(), \"ffmpeg\")\n",
    "os.environ['PATH'] += os.pathsep + new_path"
   ]
  },
  {
   "cell_type": "markdown",
   "id": "2164cdac-70bc-47d4-bcbb-6d3c2fed6aba",
   "metadata": {
    "papermill": {},
    "tags": []
   },
   "source": [
    "### Get and save audio file from URL"
   ]
  },
  {
   "cell_type": "code",
   "execution_count": null,
   "id": "35d43937-88dd-4853-8c78-f1c65869cf21",
   "metadata": {
    "papermill": {},
    "tags": []
   },
   "outputs": [],
   "source": [
    "response = requests.get(audio_file_url)\n",
    "open(\"audio.wav\", \"wb\").write(response.content)"
   ]
  },
  {
   "cell_type": "markdown",
   "id": "86478f67-873e-47f7-b760-888e8bdde6e2",
   "metadata": {
    "execution": {
     "iopub.execute_input": "2023-03-06T11:01:17.754404Z",
     "iopub.status.busy": "2023-03-06T11:01:17.754140Z",
     "iopub.status.idle": "2023-03-06T11:01:17.757595Z",
     "shell.execute_reply": "2023-03-06T11:01:17.756945Z",
     "shell.execute_reply.started": "2023-03-06T11:01:17.754340Z"
    },
    "papermill": {},
    "tags": []
   },
   "source": [
    "### Convert wav to mp3\n",
    "This code will convert the audio file from wav to mp3."
   ]
  },
  {
   "cell_type": "code",
   "execution_count": null,
   "id": "08408e3a-110f-48b5-9d32-2db4edcc2a70",
   "metadata": {
    "papermill": {},
    "tags": []
   },
   "outputs": [],
   "source": [
    "# read the WAV file using pydub\n",
    "wav_audio = AudioSegment.from_file(\"audio.wav\", format=\"wav\")\n",
    "\n",
    "# export the audio as MP3 using pydub\n",
    "wav_audio.export(mp3_path, format=\"mp3\")"
   ]
  },
  {
   "cell_type": "markdown",
   "id": "ff7a2c9a-7112-4ae0-b212-06519ec85dbe",
   "metadata": {
    "papermill": {},
    "tags": []
   },
   "source": [
    "## Output"
   ]
  },
  {
   "cell_type": "markdown",
   "id": "7b1ff6b6-eaf2-4826-8870-07de6ada855d",
   "metadata": {
    "papermill": {},
    "tags": []
   },
   "source": [
    "### Display result\n",
    "This code will check if audio file is successfully converted to mp3."
   ]
  },
  {
   "cell_type": "code",
   "execution_count": null,
   "id": "0c8c0be3-d045-43e5-833e-2af484377b0d",
   "metadata": {
    "papermill": {},
    "tags": []
   },
   "outputs": [],
   "source": [
    "if (os.path.isfile(mp3_path)):\n",
    "    print('Conversion of audio file from wav to mp3 is successful')"
   ]
  }
 ],
 "metadata": {
  "kernelspec": {
   "display_name": "Python 3",
   "language": "python",
   "name": "python3"
  },
  "language_info": {
   "codemirror_mode": {
    "name": "ipython",
    "version": 3
   },
   "file_extension": ".py",
   "mimetype": "text/x-python",
   "name": "python",
   "nbconvert_exporter": "python",
   "pygments_lexer": "ipython3",
   "version": "3.9.6"
  },
  "naas": {
   "notebook_id": "bb57377a72ad818450b8065fe617392e959e8c11b27e830a1548a57af32e054c",
   "notebook_path": "Python/Python_Convert_audiofile_from_wav_to_mp3.ipynb"
  },
  "papermill": {
   "default_parameters": {},
   "environment_variables": {},
   "parameters": {},
   "version": "2.4.0"
  }
 },
 "nbformat": 4,
 "nbformat_minor": 5
}
