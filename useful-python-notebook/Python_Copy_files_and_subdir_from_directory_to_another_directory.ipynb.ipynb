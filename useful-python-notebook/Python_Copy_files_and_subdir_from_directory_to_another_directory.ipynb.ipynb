{
 "cells": [
  {
   "cell_type": "markdown",
   "id": "latin-packing",
   "metadata": {
    "execution": {
     "iopub.execute_input": "2021-02-23T14:22:16.610471Z",
     "iopub.status.busy": "2021-02-23T14:22:16.610129Z",
     "iopub.status.idle": "2021-02-23T14:22:16.627784Z",
     "shell.execute_reply": "2021-02-23T14:22:16.626866Z",
     "shell.execute_reply.started": "2021-02-23T14:22:16.610384Z"
    },
    "papermill": {},
    "tags": []
   },
   "source": [
    "<img width=\"10%\" alt=\"Naas\" src=\"https://landen.imgix.net/jtci2pxwjczr/assets/5ice39g4.png?w=160\"/>"
   ]
  },
  {
   "cell_type": "markdown",
   "id": "compressed-wilson",
   "metadata": {
    "papermill": {},
    "tags": []
   },
   "source": [
    "# Python - Copy files and subdir from directory to another directory\n",
    "<a href=\"https://app.naas.ai/user-redirect/naas/downloader?url=https://raw.githubusercontent.com/jupyter-naas/awesome-notebooks/master/Python/Python_Copy_files_and_subdir_from_directory_to_another_directory.ipynb.ipynb\" target=\"_parent\"><img src=\"https://naasai-public.s3.eu-west-3.amazonaws.com/Open_in_Naas_Lab.svg\"/></a><br><br><a href=\"https://bit.ly/3JyWIk6\">Give Feedback</a> | <a href=\"https://github.com/jupyter-naas/awesome-notebooks/issues/new?assignees=&labels=bug&template=bug_report.md&title=Python+-+Copy+files+and+subdir+from+directory+to+another+directory:+Error+short+description\">Bug report</a>"
   ]
  },
  {
   "cell_type": "markdown",
   "id": "religious-programmer",
   "metadata": {
    "papermill": {},
    "tags": []
   },
   "source": [
    "**Tags:** #python #os #shutil #operations #snippet"
   ]
  },
  {
   "cell_type": "markdown",
   "id": "1fe9f56e-561c-4f52-aef8-b861c9462107",
   "metadata": {
    "papermill": {},
    "tags": []
   },
   "source": [
    "**Author:** [Parth Panchal](https://www.linkedin.com/in/parthpanchal8401/)"
   ]
  },
  {
   "cell_type": "markdown",
   "id": "a771cf5d-b41d-4d2f-80a9-082cf420ee1e",
   "metadata": {
    "papermill": {},
    "tags": []
   },
   "source": [
    "**Last update:** 2023-04-12 (Created: 2022-10-14)"
   ]
  },
  {
   "cell_type": "markdown",
   "id": "naas-description",
   "metadata": {
    "papermill": {},
    "tags": [
     "description"
    ]
   },
   "source": [
    "**Description:** This notebook provides a Python script to copy files and subdirectories from one directory to another."
   ]
  },
  {
   "cell_type": "markdown",
   "id": "distinguished-truth",
   "metadata": {
    "papermill": {},
    "tags": []
   },
   "source": [
    "## Input"
   ]
  },
  {
   "cell_type": "markdown",
   "id": "numeric-mediterranean",
   "metadata": {
    "papermill": {},
    "tags": []
   },
   "source": [
    "### Import libraries"
   ]
  },
  {
   "cell_type": "code",
   "execution_count": null,
   "id": "potential-surfing",
   "metadata": {
    "papermill": {},
    "tags": []
   },
   "outputs": [],
   "source": [
    "import shutil\n",
    "import os"
   ]
  },
  {
   "cell_type": "markdown",
   "id": "aggressive-trustee",
   "metadata": {
    "papermill": {},
    "tags": []
   },
   "source": [
    "### Setup Variables\n",
    "- `source_folder`: Path of your source directory\n",
    "- `overwrite`: Overwrite files in destination, (default=True)\n",
    "- `destination_folder`: Path of your destination directory"
   ]
  },
  {
   "cell_type": "code",
   "execution_count": null,
   "id": "continuous-melbourne",
   "metadata": {
    "papermill": {},
    "tags": []
   },
   "outputs": [],
   "source": [
    "# Inputs\n",
    "source_folder = \"..\"\n",
    "overwrite = True\n",
    "\n",
    "# Outputs\n",
    "destination_folder = \".\""
   ]
  },
  {
   "cell_type": "markdown",
   "id": "registered-showcase",
   "metadata": {
    "papermill": {},
    "tags": []
   },
   "source": [
    "## Model"
   ]
  },
  {
   "cell_type": "markdown",
   "id": "tested-astrology",
   "metadata": {
    "papermill": {},
    "tags": []
   },
   "source": [
    "### Copy files and subdir from directory to another directory"
   ]
  },
  {
   "cell_type": "code",
   "execution_count": null,
   "id": "crude-louisville",
   "metadata": {
    "papermill": {},
    "tags": []
   },
   "outputs": [],
   "source": [
    "def copy_all_files(dir_src, dir_des, overwrite=True):\n",
    "    \"\"\"\n",
    "    dir_src: Path of your source directory\n",
    "    dir_des : Path of your destination directory\n",
    "    overwrite: Overwrite files in destination, (default=True)\n",
    "    \"\"\"\n",
    "    # Check if source and destination folders exists\n",
    "    if not os.path.exists(dir_src):\n",
    "        print(\"❌ Source folder does not exist:\", dir_src)\n",
    "        return None\n",
    "    \n",
    "    if not os.path.exists(dir_des):\n",
    "        print(\"❌ Destination folder does not exist:\", dir_des)\n",
    "        return None\n",
    "    \n",
    "    # Copy files\n",
    "    for root, dirs, files in os.walk(dir_src):\n",
    "        for file in files:\n",
    "            path_file = os.path.join(root, file)\n",
    "            file_from_dir = path_file.replace(dir_src, \"\")\n",
    "            dest_path = os.path.join(dir_des, file_from_dir[1:])\n",
    "            if not overwrite:\n",
    "                if not os.path.exists(dest_path):\n",
    "                    try:\n",
    "                        shutil.copy(path_file, dest_path)\n",
    "                        print(f\"✅ Copied file: {path_file}\")\n",
    "                    except IOError as io_err:\n",
    "                        os.makedirs(os.path.dirname(dest_path))\n",
    "                        shutil.copy(path_file, dest_path)\n",
    "                else:\n",
    "                    print(f\"❎ File already exists: {dest_path}\")\n",
    "            else:\n",
    "                if os.path.exists(dest_path):\n",
    "                    os.remove(dest_path)\n",
    "                try:\n",
    "                    shutil.copy(path_file, dest_path)\n",
    "                    print(f\"✅ Copied file: {path_file}\")\n",
    "                except IOError as io_err:\n",
    "                    os.makedirs(os.path.dirname(dest_path))\n",
    "                    shutil.copy(path_file, dest_path)"
   ]
  },
  {
   "cell_type": "markdown",
   "id": "lonely-pacific",
   "metadata": {
    "execution": {
     "iopub.execute_input": "2021-07-02T23:32:10.789097Z",
     "iopub.status.busy": "2021-07-02T23:32:10.788829Z",
     "iopub.status.idle": "2021-07-02T23:32:10.796900Z",
     "shell.execute_reply": "2021-07-02T23:32:10.796358Z",
     "shell.execute_reply.started": "2021-07-02T23:32:10.789033Z"
    },
    "papermill": {},
    "tags": []
   },
   "source": [
    "## Output"
   ]
  },
  {
   "cell_type": "markdown",
   "id": "890f7c86-b7bb-4f5d-9a1b-e492dd9580fd",
   "metadata": {
    "papermill": {},
    "tags": []
   },
   "source": [
    "### Copy all files"
   ]
  },
  {
   "cell_type": "code",
   "execution_count": null,
   "id": "9c4e3b7b-6440-4844-8054-265f1aec65eb",
   "metadata": {
    "papermill": {},
    "tags": []
   },
   "outputs": [],
   "source": [
    "copy_all_files(source_folder, destination_folder, overwrite=overwrite)"
   ]
  }
 ],
 "metadata": {
  "kernelspec": {
   "display_name": "Python 3",
   "language": "python",
   "name": "python3"
  },
  "language_info": {
   "codemirror_mode": {
    "name": "ipython",
    "version": 3
   },
   "file_extension": ".py",
   "mimetype": "text/x-python",
   "name": "python",
   "nbconvert_exporter": "python",
   "pygments_lexer": "ipython3",
   "version": "3.9.6"
  },
  "naas": {
   "notebook_id": "8b78cb9c1482a8aa5d796c3cb0084b2af3a3e9efaeebeb65de5a5c82143af234",
   "notebook_path": "Python/Python_Copy_files_and_subdir_from_directory_to_another_directory.ipynb.ipynb"
  },
  "papermill": {
   "default_parameters": {},
   "environment_variables": {},
   "parameters": {},
   "version": "2.3.3"
  },
  "widgets": {
   "application/vnd.jupyter.widget-state+json": {
    "state": {},
    "version_major": 2,
    "version_minor": 0
   }
  }
 },
 "nbformat": 4,
 "nbformat_minor": 5
}