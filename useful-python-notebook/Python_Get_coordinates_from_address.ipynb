{
 "cells": [
  {
   "cell_type": "markdown",
   "id": "aeb33ecc-ec1c-42c3-ac85-ffd213972496",
   "metadata": {
    "papermill": {},
    "tags": []
   },
   "source": [
    "<img width=\"10%\" alt=\"Naas\" src=\"https://landen.imgix.net/jtci2pxwjczr/assets/5ice39g4.png?w=160\"/>"
   ]
  },
  {
   "cell_type": "markdown",
   "id": "cf1874d9-04ac-44a3-a6ba-8564435cd281",
   "metadata": {
    "execution": {
     "iopub.execute_input": "2022-10-02T08:15:52.320286Z",
     "iopub.status.busy": "2022-10-02T08:15:52.320057Z",
     "iopub.status.idle": "2022-10-02T08:15:52.328456Z",
     "shell.execute_reply": "2022-10-02T08:15:52.327578Z",
     "shell.execute_reply.started": "2022-10-02T08:15:52.320263Z"
    },
    "papermill": {},
    "tags": []
   },
   "source": [
    "# Python - Get coordinates from address\n",
    "<a href=\"https://app.naas.ai/user-redirect/naas/downloader?url=https://raw.githubusercontent.com/jupyter-naas/awesome-notebooks/master/Python/Python_Get_coordinates_from_address.ipynb\" target=\"_parent\"><img src=\"https://naasai-public.s3.eu-west-3.amazonaws.com/Open_in_Naas_Lab.svg\"/></a><br><br><a href=\"https://bit.ly/3JyWIk6\">Give Feedback</a> | <a href=\"https://github.com/jupyter-naas/awesome-notebooks/issues/new?assignees=&labels=bug&template=bug_report.md&title=Python+-+Get+coordinates+from+address:+Error+short+description\">Bug report</a>"
   ]
  },
  {
   "cell_type": "markdown",
   "id": "39174c56-e1cf-4f25-bd72-c6a957ada373",
   "metadata": {
    "execution": {
     "iopub.execute_input": "2022-10-02T08:14:42.740710Z",
     "iopub.status.busy": "2022-10-02T08:14:42.740403Z",
     "iopub.status.idle": "2022-10-02T08:14:42.752101Z",
     "shell.execute_reply": "2022-10-02T08:14:42.751186Z",
     "shell.execute_reply.started": "2022-10-02T08:14:42.740676Z"
    },
    "papermill": {},
    "tags": []
   },
   "source": [
    "**Tags:** #python #snippet #naas #geocoder"
   ]
  },
  {
   "cell_type": "markdown",
   "id": "61def6d9-4fec-4c2b-a80f-17c7a2f6cf83",
   "metadata": {
    "papermill": {},
    "tags": []
   },
   "source": [
    "**Author:** [Suhas B](https://www.linkedin.com/in/suhasbrao/)"
   ]
  },
  {
   "cell_type": "markdown",
   "id": "5e233910-eb9d-4b4d-9379-c505278d3e31",
   "metadata": {
    "papermill": {},
    "tags": []
   },
   "source": [
    "**Last update:** 2023-04-12 (Created: 2023-03-24)"
   ]
  },
  {
   "cell_type": "markdown",
   "id": "naas-description",
   "metadata": {
    "papermill": {},
    "tags": [
     "description"
    ]
   },
   "source": [
    "**Description:** This notebook get coordinates from a given address."
   ]
  },
  {
   "cell_type": "markdown",
   "id": "06ba56e0-ecc1-4cba-b075-29aa27edea39",
   "metadata": {
    "papermill": {},
    "tags": []
   },
   "source": [
    "**References:**\n",
    "- [PyPI - Geocoder](https://pypi.org/project/geocoder/)"
   ]
  },
  {
   "cell_type": "markdown",
   "id": "6c90af73-6a8e-4506-acaa-53c8d0e0f717",
   "metadata": {
    "papermill": {},
    "tags": []
   },
   "source": [
    "## Input"
   ]
  },
  {
   "cell_type": "markdown",
   "id": "598b7b1c-ddd4-4fd7-9d68-5b98aa853977",
   "metadata": {
    "papermill": {},
    "tags": []
   },
   "source": [
    "### Import libraries"
   ]
  },
  {
   "cell_type": "code",
   "execution_count": null,
   "id": "0abee88b-4e93-401a-ba6a-b9a7efc428c7",
   "metadata": {
    "papermill": {},
    "tags": []
   },
   "outputs": [],
   "source": [
    "try:\n",
    "    import geocoder\n",
    "except:\n",
    "    !pip install geocoder --user\n",
    "    import geocoder"
   ]
  },
  {
   "cell_type": "markdown",
   "id": "8597e7e6-8b95-410c-b50b-239ae67e2198",
   "metadata": {
    "papermill": {},
    "tags": []
   },
   "source": [
    "### Setup Variables"
   ]
  },
  {
   "cell_type": "code",
   "execution_count": null,
   "id": "cb1e96b5-350f-422a-8e7b-c021b92afd0b",
   "metadata": {
    "papermill": {},
    "tags": []
   },
   "outputs": [],
   "source": [
    "# sample address to geo code\n",
    "address = \"Sayyaji Rao Rd, Agrahara, Chamrajpura, Mysuru, Karnataka 570001\""
   ]
  },
  {
   "cell_type": "markdown",
   "id": "fb014e57-8606-4352-b12e-660b6589796e",
   "metadata": {
    "papermill": {},
    "tags": []
   },
   "source": [
    "## Model"
   ]
  },
  {
   "cell_type": "markdown",
   "id": "47fb5922-7b7b-464f-addf-7ae0ad6aa8fb",
   "metadata": {
    "papermill": {},
    "tags": []
   },
   "source": [
    "### Get data from geocoder"
   ]
  },
  {
   "cell_type": "code",
   "execution_count": null,
   "id": "cd4f7322-3bdf-4921-af19-44a15166a3c7",
   "metadata": {
    "papermill": {},
    "tags": []
   },
   "outputs": [],
   "source": [
    "geo = geocoder.arcgis(address)"
   ]
  },
  {
   "cell_type": "markdown",
   "id": "4f7f7a60-2bc6-4416-9f21-ba1eba76cd0b",
   "metadata": {
    "papermill": {},
    "tags": []
   },
   "source": [
    "## Output"
   ]
  },
  {
   "cell_type": "markdown",
   "id": "f599d612-a97c-4f68-96d4-6a87f9f9fd6b",
   "metadata": {
    "papermill": {},
    "tags": []
   },
   "source": [
    "### Display latitude and longitude from address"
   ]
  },
  {
   "cell_type": "code",
   "execution_count": null,
   "id": "527a319d-75b4-480c-a59b-1796733e8f50",
   "metadata": {
    "papermill": {},
    "tags": []
   },
   "outputs": [],
   "source": [
    "latitude_and_longitude = geo.latlng\n",
    "print(f\"Latitude and Longitude of given address '{address}':\\n{latitude_and_longitude}\\n\")\n",
    "\n",
    "# If we want to retrieve the location from a set of coordinates\n",
    "# perform a reverse query.\n",
    "\n",
    "location_from_coordinates = geocoder.arcgis(latitude_and_longitude, method=\"reverse\")\n",
    "print(f\"Location from coordinates:\\n{location_from_coordinates[0]}\")"
   ]
  }
 ],
 "metadata": {
  "kernelspec": {
   "display_name": "Python 3",
   "language": "python",
   "name": "python3"
  },
  "language_info": {
   "codemirror_mode": {
    "name": "ipython",
    "version": 3
   },
   "file_extension": ".py",
   "mimetype": "text/x-python",
   "name": "python",
   "nbconvert_exporter": "python",
   "pygments_lexer": "ipython3",
   "version": "3.9.6"
  },
  "naas": {
   "notebook_id": "99b7889c02066945ea9978b756ab4b00c081c15b2f18dc3f7161b8a4f08923d8",
   "notebook_path": "Python/Python_Get_coordinates_from_address.ipynb"
  },
  "papermill": {
   "default_parameters": {},
   "environment_variables": {},
   "parameters": {},
   "version": "2.4.0"
  }
 },
 "nbformat": 4,
 "nbformat_minor": 5
}