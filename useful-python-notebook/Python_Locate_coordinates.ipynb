{
 "cells": [
  {
   "cell_type": "markdown",
   "id": "aeb33ecc-ec1c-42c3-ac85-ffd213972496",
   "metadata": {
    "papermill": {},
    "tags": []
   },
   "source": [
    "<img width=\"10%\" alt=\"Naas\" src=\"https://landen.imgix.net/jtci2pxwjczr/assets/5ice39g4.png?w=160\"/>"
   ]
  },
  {
   "cell_type": "markdown",
   "id": "cf1874d9-04ac-44a3-a6ba-8564435cd281",
   "metadata": {
    "execution": {
     "iopub.execute_input": "2022-10-02T08:15:52.320286Z",
     "iopub.status.busy": "2022-10-02T08:15:52.320057Z",
     "iopub.status.idle": "2022-10-02T08:15:52.328456Z",
     "shell.execute_reply": "2022-10-02T08:15:52.327578Z",
     "shell.execute_reply.started": "2022-10-02T08:15:52.320263Z"
    },
    "papermill": {},
    "tags": []
   },
   "source": [
    "# Python - Locate coordinates\n",
    "<a href=\"https://app.naas.ai/user-redirect/naas/downloader?url=https://raw.githubusercontent.com/jupyter-naas/awesome-notebooks/master/Python/Python_Locate_coordinates.ipynb\" target=\"_parent\"><img src=\"https://naasai-public.s3.eu-west-3.amazonaws.com/Open_in_Naas_Lab.svg\"/></a><br><br><a href=\"https://bit.ly/3JyWIk6\">Give Feedback</a> | <a href=\"https://github.com/jupyter-naas/awesome-notebooks/issues/new?assignees=&labels=bug&template=bug_report.md&title=Python+-+Locate+coordinates:+Error+short+description\">Bug report</a>"
   ]
  },
  {
   "cell_type": "markdown",
   "id": "39174c56-e1cf-4f25-bd72-c6a957ada373",
   "metadata": {
    "execution": {
     "iopub.execute_input": "2022-10-02T08:14:42.740710Z",
     "iopub.status.busy": "2022-10-02T08:14:42.740403Z",
     "iopub.status.idle": "2022-10-02T08:14:42.752101Z",
     "shell.execute_reply": "2022-10-02T08:14:42.751186Z",
     "shell.execute_reply.started": "2022-10-02T08:14:42.740676Z"
    },
    "papermill": {},
    "tags": []
   },
   "source": [
    "**Tags:** #python #snippet #naas #geocoder"
   ]
  },
  {
   "cell_type": "markdown",
   "id": "61def6d9-4fec-4c2b-a80f-17c7a2f6cf83",
   "metadata": {
    "papermill": {},
    "tags": []
   },
   "source": [
    "**Author:** [Suhas B](https://www.linkedin.com/in/suhasbrao/)"
   ]
  },
  {
   "cell_type": "markdown",
   "id": "4f04f3c7-5de3-4224-8e7e-87297bf539d4",
   "metadata": {
    "papermill": {},
    "tags": []
   },
   "source": [
    "**Last update:** 2023-04-12 (Created: 2023-03-24)"
   ]
  },
  {
   "cell_type": "markdown",
   "id": "naas-description",
   "metadata": {
    "papermill": {},
    "tags": [
     "description"
    ]
   },
   "source": [
    "**Description:** This notebook provides a way to find the geographic coordinates of a given location using Python."
   ]
  },
  {
   "cell_type": "markdown",
   "id": "6c90af73-6a8e-4506-acaa-53c8d0e0f717",
   "metadata": {
    "papermill": {},
    "tags": []
   },
   "source": [
    "## Input"
   ]
  },
  {
   "cell_type": "markdown",
   "id": "598b7b1c-ddd4-4fd7-9d68-5b98aa853977",
   "metadata": {
    "papermill": {},
    "tags": []
   },
   "source": [
    "### Import libraries"
   ]
  },
  {
   "cell_type": "code",
   "execution_count": null,
   "id": "0abee88b-4e93-401a-ba6a-b9a7efc428c7",
   "metadata": {
    "papermill": {},
    "tags": []
   },
   "outputs": [],
   "source": [
    "try:\n",
    "    import geocoder\n",
    "except:\n",
    "    !pip install geocoder --user\n",
    "    import geocoder"
   ]
  },
  {
   "cell_type": "markdown",
   "id": "8597e7e6-8b95-410c-b50b-239ae67e2198",
   "metadata": {
    "papermill": {},
    "tags": []
   },
   "source": [
    "### Setup Variables"
   ]
  },
  {
   "cell_type": "code",
   "execution_count": null,
   "id": "cb1e96b5-350f-422a-8e7b-c021b92afd0b",
   "metadata": {
    "papermill": {},
    "tags": []
   },
   "outputs": [],
   "source": [
    "latitude = 12.30215530579874\n",
    "longitude = 76.65306751341747"
   ]
  },
  {
   "cell_type": "markdown",
   "id": "fb014e57-8606-4352-b12e-660b6589796e",
   "metadata": {
    "papermill": {},
    "tags": []
   },
   "source": [
    "## Model"
   ]
  },
  {
   "cell_type": "markdown",
   "id": "5cd843f2-759e-4698-b655-504d26faaeda",
   "metadata": {
    "papermill": {},
    "tags": []
   },
   "source": [
    "### Get location from coordinates"
   ]
  },
  {
   "cell_type": "code",
   "execution_count": 5,
   "id": "cd4f7322-3bdf-4921-af19-44a15166a3c7",
   "metadata": {
    "papermill": {},
    "tags": []
   },
   "outputs": [],
   "source": [
    "location_from_coordinates = geocoder.arcgis([latitude, longitude], method=\"reverse\")"
   ]
  },
  {
   "cell_type": "markdown",
   "id": "4f7f7a60-2bc6-4416-9f21-ba1eba76cd0b",
   "metadata": {
    "papermill": {},
    "tags": []
   },
   "source": [
    "## Output"
   ]
  },
  {
   "cell_type": "markdown",
   "id": "88e6b0c8-f167-46e8-bbc8-b6506d7642d7",
   "metadata": {
    "papermill": {},
    "tags": []
   },
   "source": [
    "### Display location from coordinates"
   ]
  },
  {
   "cell_type": "code",
   "execution_count": null,
   "id": "527a319d-75b4-480c-a59b-1796733e8f50",
   "metadata": {
    "papermill": {},
    "tags": []
   },
   "outputs": [],
   "source": [
    "print(f\"Location from coordinates: {location_from_coordinates[0]}\")"
   ]
  }
 ],
 "metadata": {
  "kernelspec": {
   "display_name": "Python 3",
   "language": "python",
   "name": "python3"
  },
  "language_info": {
   "codemirror_mode": {
    "name": "ipython",
    "version": 3
   },
   "file_extension": ".py",
   "mimetype": "text/x-python",
   "name": "python",
   "nbconvert_exporter": "python",
   "pygments_lexer": "ipython3",
   "version": "3.9.6"
  },
  "naas": {
   "notebook_id": "d55e369e1ac2a640e4019f281f7944654c06cb9f2b0c27c0f1f2f129dd5fa099",
   "notebook_path": "Python/Python_Locate_coordinates.ipynb"
  },
  "papermill": {
   "default_parameters": {},
   "environment_variables": {},
   "parameters": {},
   "version": "2.4.0"
  }
 },
 "nbformat": 4,
 "nbformat_minor": 5
}