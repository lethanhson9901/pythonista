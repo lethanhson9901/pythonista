{
 "cells": [
  {
   "cell_type": "markdown",
   "id": "naas-logo",
   "metadata": {
    "papermill": {},
    "tags": [
     "naas"
    ]
   },
   "source": [
    "<img width=\"10%\" alt=\"Naas\" src=\"https://landen.imgix.net/jtci2pxwjczr/assets/5ice39g4.png?w=160\"/>"
   ]
  },
  {
   "cell_type": "markdown",
   "id": "db17b79b",
   "metadata": {
    "papermill": {},
    "tags": []
   },
   "source": [
    "# Python - Get a random word\n",
    "<a href=\"https://app.naas.ai/user-redirect/naas/downloader?url=https://raw.githubusercontent.com/jupyter-naas/awesome-notebooks/master/Python/Python_Get_random_word.ipynb\" target=\"_parent\"><img src=\"https://naasai-public.s3.eu-west-3.amazonaws.com/Open_in_Naas_Lab.svg\"/></a><br><br><a href=\"https://bit.ly/3JyWIk6\">Give Feedback</a> | <a href=\"https://github.com/jupyter-naas/awesome-notebooks/issues/new?assignees=&labels=bug&template=bug_report.md&title=Python+-+Get+a+random+word:+Error+short+description\">Bug report</a>"
   ]
  },
  {
   "cell_type": "markdown",
   "id": "13800319",
   "metadata": {
    "papermill": {},
    "tags": []
   },
   "source": [
    "**Tags:** #python #word #random #snippet "
   ]
  },
  {
   "cell_type": "markdown",
   "id": "8761af40",
   "metadata": {
    "papermill": {},
    "tags": []
   },
   "source": [
    "**Author:** [Benjamin Filly](https://www.linkedin.com/in/benjamin-filly-05427727a/)"
   ]
  },
  {
   "cell_type": "markdown",
   "id": "e4d69a9f-9772-4c91-814f-a6b93a40732a",
   "metadata": {
    "papermill": {},
    "tags": []
   },
   "source": [
    "**Last update:** 2023-06-19 (Created: 2023-06-14)"
   ]
  },
  {
   "cell_type": "markdown",
   "id": "naas-description",
   "metadata": {
    "papermill": {},
    "tags": [
     "description"
    ]
   },
   "source": [
    "**Description:** This notebook show how to get a random word."
   ]
  },
  {
   "cell_type": "markdown",
   "id": "c64067b5-f48d-4714-91ce-be6cfe669bfd",
   "metadata": {
    "papermill": {},
    "tags": [
     "description"
    ]
   },
   "source": [
    "**References:**\n",
    "- [The Natural Language Toolkit](https://pypi.org/project/nltk/)"
   ]
  },
  {
   "cell_type": "markdown",
   "id": "d6ed8917",
   "metadata": {
    "papermill": {},
    "tags": []
   },
   "source": [
    "## Input"
   ]
  },
  {
   "cell_type": "markdown",
   "id": "d63e9eee-5110-46df-abda-c201e97df162",
   "metadata": {
    "papermill": {},
    "tags": []
   },
   "source": [
    "### Import libraries"
   ]
  },
  {
   "cell_type": "code",
   "execution_count": null,
   "id": "a696b76d-2b9c-4560-bfff-5da0d8d21a24",
   "metadata": {
    "papermill": {},
    "tags": []
   },
   "outputs": [],
   "source": [
    "import random\n",
    "try:\n",
    "    from nltk.corpus import wordnet\n",
    "except:\n",
    "    !pip install nltk --user\n",
    "    from nltk.corpus import wordnet\n",
    "import nltk"
   ]
  },
  {
   "cell_type": "markdown",
   "id": "fb1b9009",
   "metadata": {
    "papermill": {},
    "tags": []
   },
   "source": [
    "### Setup Variables\n",
    "- `length`:  Length of the word you want to generate, if `length` is equal to 0 then there are no limits."
   ]
  },
  {
   "cell_type": "code",
   "execution_count": null,
   "id": "aefef37f",
   "metadata": {
    "papermill": {},
    "tags": []
   },
   "outputs": [],
   "source": [
    "length = 0"
   ]
  },
  {
   "cell_type": "markdown",
   "id": "30f728e7-f3c8-40a9-aeb9-f6551113462c",
   "metadata": {
    "papermill": {},
    "tags": []
   },
   "source": [
    "## Model"
   ]
  },
  {
   "cell_type": "markdown",
   "id": "8c72c862-d7b1-443c-8017-1a249239ce9e",
   "metadata": {
    "papermill": {},
    "tags": []
   },
   "source": [
    "### Database installation"
   ]
  },
  {
   "cell_type": "markdown",
   "id": "b0eb447b-0d4d-489b-bdb0-021abb217f76",
   "metadata": {
    "papermill": {},
    "tags": []
   },
   "source": [
    "This line of code installs a database, for naas users it will be on `/home/ftp/`."
   ]
  },
  {
   "cell_type": "code",
   "execution_count": null,
   "id": "fd853740-d79d-4323-8340-0d3f1627bc38",
   "metadata": {
    "papermill": {},
    "tags": []
   },
   "outputs": [],
   "source": [
    "nltk.download('wordnet')"
   ]
  },
  {
   "cell_type": "markdown",
   "id": "07164b8b",
   "metadata": {
    "papermill": {},
    "tags": []
   },
   "source": [
    "### Get a random word"
   ]
  },
  {
   "cell_type": "code",
   "execution_count": null,
   "id": "c5d60211-9e68-4b8e-b51a-4d455a48d441",
   "metadata": {
    "papermill": {},
    "tags": []
   },
   "outputs": [],
   "source": [
    "def get_random_word(length):\n",
    "    synsets = list(wordnet.all_synsets())\n",
    "    if length <= 0:\n",
    "        filtered_words = [synset.lemmas()[0].name() for synset in synsets]\n",
    "    else:\n",
    "        filtered_words = [synset.lemmas()[0].name() for synset in synsets if len(synset.lemmas()[0].name()) == length]\n",
    "\n",
    "    if len(filtered_words) == 0:\n",
    "        return None\n",
    "\n",
    "    random_word = random.choice(filtered_words)\n",
    "    return random_word"
   ]
  },
  {
   "cell_type": "markdown",
   "id": "02d1fc4b",
   "metadata": {
    "papermill": {},
    "tags": []
   },
   "source": [
    "## Output"
   ]
  },
  {
   "cell_type": "markdown",
   "id": "6fffa01c-1f9b-4923-93e1-ee793c3a31d9",
   "metadata": {
    "papermill": {},
    "tags": []
   },
   "source": [
    "### Display result"
   ]
  },
  {
   "cell_type": "code",
   "execution_count": null,
   "id": "8a54e670",
   "metadata": {
    "papermill": {},
    "tags": []
   },
   "outputs": [],
   "source": [
    "random_word = get_random_word(length)\n",
    "if random_word:\n",
    "    print(\"Random word found:\", random_word)\n",
    "else:\n",
    "    print(f\"No word of length {length} found.\")"
   ]
  }
 ],
 "metadata": {
  "kernelspec": {
   "display_name": "Python 3",
   "language": "python",
   "name": "python3"
  },
  "language_info": {
   "codemirror_mode": {
    "name": "ipython",
    "version": 3
   },
   "file_extension": ".py",
   "mimetype": "text/x-python",
   "name": "python",
   "nbconvert_exporter": "python",
   "pygments_lexer": "ipython3",
   "version": "3.9.6"
  },
  "naas": {
   "notebook_id": "528d537bbac178bf8781873b2a2aad8e0496c9e1536508e3585d6ad24f41addc",
   "notebook_path": "Python/Python_Get_random_word.ipynb"
  },
  "papermill": {
   "default_parameters": {},
   "environment_variables": {},
   "parameters": {},
   "version": "2.3.3"
  }
 },
 "nbformat": 4,
 "nbformat_minor": 5
}