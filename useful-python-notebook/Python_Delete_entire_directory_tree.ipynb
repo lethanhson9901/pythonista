{
 "cells": [
  {
   "cell_type": "markdown",
   "id": "c3cd2f34-ffe5-4490-8d63-03fb40d50333",
   "metadata": {
    "papermill": {},
    "tags": []
   },
   "source": [
    "<img width=\"10%\" alt=\"Naas\" src=\"https://landen.imgix.net/jtci2pxwjczr/assets/5ice39g4.png?w=160\"/>"
   ]
  },
  {
   "cell_type": "markdown",
   "id": "ddcd4591-a19e-498e-a1af-89674ae3cfb1",
   "metadata": {
    "papermill": {},
    "tags": []
   },
   "source": [
    "# Python - Delete entire directory tree\n",
    "<a href=\"https://app.naas.ai/user-redirect/naas/downloader?url=https://raw.githubusercontent.com/jupyter-naas/awesome-notebooks/master/Python/Python_Delete_entire_directory_tree.ipynb\" target=\"_parent\"><img src=\"https://naasai-public.s3.eu-west-3.amazonaws.com/Open_in_Naas_Lab.svg\"/></a><br><br><a href=\"https://bit.ly/3JyWIk6\">Give Feedback</a> | <a href=\"https://github.com/jupyter-naas/awesome-notebooks/issues/new?assignees=&labels=bug&template=bug_report.md&title=Python+-+Delete+entire+directory+tree:+Error+short+description\">Bug report</a>"
   ]
  },
  {
   "cell_type": "markdown",
   "id": "a586309b-f9e7-477a-83de-0668561ee08d",
   "metadata": {
    "papermill": {},
    "tags": []
   },
   "source": [
    "**Tags:** #python #shutil #delete #folder #file #directory"
   ]
  },
  {
   "cell_type": "markdown",
   "id": "7fec740e-929d-4b64-8e7d-e898dc234836",
   "metadata": {
    "papermill": {},
    "tags": []
   },
   "source": [
    "**Author:** [Florent Ravenel](https://www.linkedin.com/in/florent-ravenel)"
   ]
  },
  {
   "cell_type": "markdown",
   "id": "d3037c14-ced2-4e6a-8ce5-239d5b5a89e7",
   "metadata": {
    "papermill": {},
    "tags": []
   },
   "source": [
    "**Last update:** 2023-04-26 (Created: 2023-04-26)"
   ]
  },
  {
   "cell_type": "markdown",
   "id": "fa8d5282-3fab-451e-896d-b0cfadbc7847",
   "metadata": {
    "papermill": {},
    "tags": []
   },
   "source": [
    "**Description:** This notebook will show how to delete an entire directory tree using the shutil library. \n",
    "\n",
    "Shutil module in Python provides many functions of high-level operations on files and collections of files. It comes under Python’s standard utility modules. This module helps in automating the process of copying and removal of files and directories. \n",
    "\n",
    "`shutil.rmtree()` is used to delete an entire directory tree, path must point to a directory (but not a symbolic link to a directory)."
   ]
  },
  {
   "cell_type": "markdown",
   "id": "9ecd2709-9e1e-42a7-84dd-3b1a2cde196d",
   "metadata": {
    "papermill": {},
    "tags": []
   },
   "source": [
    "**References:**\n",
    "- [shutil documentation](https://docs.python.org/3/library/shutil.html)\n",
    "- [How to delete a folder in Python](https://www.geeksforgeeks.org/how-to-delete-a-folder-in-python/)"
   ]
  },
  {
   "cell_type": "markdown",
   "id": "ec37e770-2d85-49ef-aa74-66f42abe4f3e",
   "metadata": {
    "papermill": {},
    "tags": []
   },
   "source": [
    "## Input"
   ]
  },
  {
   "cell_type": "markdown",
   "id": "02fa270d-52f2-45ae-b03d-66932f08f334",
   "metadata": {
    "papermill": {},
    "tags": []
   },
   "source": [
    "### Import libraries"
   ]
  },
  {
   "cell_type": "code",
   "execution_count": null,
   "id": "ca94b2c8-e1bc-48c1-bd08-3a6a69261ef4",
   "metadata": {
    "papermill": {},
    "tags": []
   },
   "outputs": [],
   "source": [
    "import shutil"
   ]
  },
  {
   "cell_type": "markdown",
   "id": "6d9dda8f-9c40-4d02-92a3-26a169c7b6c8",
   "metadata": {
    "papermill": {},
    "tags": []
   },
   "source": [
    "### Setup Variables\n",
    "- `folder_path`: path of the folder to be removed"
   ]
  },
  {
   "cell_type": "code",
   "execution_count": null,
   "id": "38bc4ab7-93bb-4602-8069-ff9047ababcd",
   "metadata": {
    "papermill": {},
    "tags": []
   },
   "outputs": [],
   "source": [
    "folder_path = \"./my_folder\""
   ]
  },
  {
   "cell_type": "markdown",
   "id": "ef005c42-69ea-447b-b907-729363024d4d",
   "metadata": {
    "papermill": {},
    "tags": []
   },
   "source": [
    "## Model"
   ]
  },
  {
   "cell_type": "markdown",
   "id": "0a514695-2e45-43be-9ad8-edfcedf2ae7a",
   "metadata": {
    "papermill": {},
    "tags": []
   },
   "source": [
    "### Delete entire directory tree"
   ]
  },
  {
   "cell_type": "code",
   "execution_count": null,
   "id": "1b530011-50e1-438d-9e6c-904f0c4acbc1",
   "metadata": {
    "papermill": {},
    "tags": []
   },
   "outputs": [],
   "source": [
    "shutil.rmtree(folder_path)"
   ]
  },
  {
   "cell_type": "markdown",
   "id": "7d4b09f1-d09f-4258-a8c7-b879b0bfdef1",
   "metadata": {
    "papermill": {},
    "tags": []
   },
   "source": [
    "## Output"
   ]
  },
  {
   "cell_type": "markdown",
   "id": "2d2c6297-1097-4837-a777-cf06bc70642e",
   "metadata": {
    "papermill": {},
    "tags": []
   },
   "source": [
    "### Display result"
   ]
  },
  {
   "cell_type": "code",
   "execution_count": null,
   "id": "7c71a515-112b-4f7e-94cf-04e6371b0ae4",
   "metadata": {
    "papermill": {},
    "tags": []
   },
   "outputs": [],
   "source": [
    "print(f\"Folder {folder_path} deleted.\")"
   ]
  },
  {
   "cell_type": "markdown",
   "id": "65ac55b0-ec58-43ed-b81d-0357a7fe6c52",
   "metadata": {
    "papermill": {},
    "tags": []
   },
   "source": [
    " "
   ]
  }
 ],
 "metadata": {
  "kernelspec": {
   "display_name": "Python 3",
   "language": "python",
   "name": "python3"
  },
  "language_info": {
   "codemirror_mode": {
    "name": "ipython",
    "version": 3
   },
   "file_extension": ".py",
   "mimetype": "text/x-python",
   "name": "python",
   "nbconvert_exporter": "python",
   "pygments_lexer": "ipython3",
   "version": "3.9.6"
  },
  "naas": {
   "notebook_id": "03afcf02c7e061c5c2deb5f4d6cd7467b149399644cb1bba64ea2e36dd15f196",
   "notebook_path": "Python/Python_Delete_entire_directory_tree.ipynb"
  },
  "papermill": {
   "default_parameters": {},
   "environment_variables": {},
   "parameters": {},
   "version": "2.4.0"
  },
  "widgets": {
   "application/vnd.jupyter.widget-state+json": {
    "state": {},
    "version_major": 2,
    "version_minor": 0
   }
  }
 },
 "nbformat": 4,
 "nbformat_minor": 5
}