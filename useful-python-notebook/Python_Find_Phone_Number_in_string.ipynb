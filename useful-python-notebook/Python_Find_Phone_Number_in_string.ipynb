{
 "cells": [
  {
   "cell_type": "markdown",
   "id": "a8fa9e5b",
   "metadata": {
    "papermill": {},
    "tags": []
   },
   "source": [
    "<img width=\"10%\" alt=\"Naas\" src=\"https://landen.imgix.net/jtci2pxwjczr/assets/5ice39g4.png?w=160\"/>"
   ]
  },
  {
   "cell_type": "markdown",
   "id": "ad99f1d4",
   "metadata": {
    "papermill": {},
    "tags": []
   },
   "source": [
    "# Python - Find Phone Number in string\n",
    "<a href=\"https://app.naas.ai/user-redirect/naas/downloader?url=https://raw.githubusercontent.com/jupyter-naas/awesome-notebooks/master/Python/Python_Find_Phone_Number_in_string.ipynb\" target=\"_parent\"><img src=\"https://naasai-public.s3.eu-west-3.amazonaws.com/Open_in_Naas_Lab.svg\"/></a><br><br><a href=\"https://bit.ly/3JyWIk6\">Give Feedback</a> | <a href=\"https://github.com/jupyter-naas/awesome-notebooks/issues/new?assignees=&labels=bug&template=bug_report.md&title=Python+-+Find+Phone+Number+in+string:+Error+short+description\">Bug report</a>"
   ]
  },
  {
   "cell_type": "markdown",
   "id": "414c438a",
   "metadata": {
    "papermill": {},
    "tags": []
   },
   "source": [
    "**Tags:** #python #string #number #naas #operations #snippet"
   ]
  },
  {
   "cell_type": "markdown",
   "id": "d847ea54",
   "metadata": {
    "papermill": {},
    "tags": []
   },
   "source": [
    "**Author:** [Anas Tazir](https://github.com/anastazir)"
   ]
  },
  {
   "cell_type": "markdown",
   "id": "eb5c23f8-3c79-492e-a240-3a9d05ef5729",
   "metadata": {
    "papermill": {},
    "tags": []
   },
   "source": [
    "**Last update:** 2023-04-12 (Created: 2022-10-06)"
   ]
  },
  {
   "cell_type": "markdown",
   "id": "naas-description",
   "metadata": {
    "papermill": {},
    "tags": [
     "description"
    ]
   },
   "source": [
    "**Description:** This notebook provides a Python script to identify and extract phone numbers from a given string."
   ]
  },
  {
   "cell_type": "markdown",
   "id": "ab72658c",
   "metadata": {
    "papermill": {},
    "tags": []
   },
   "source": [
    "## Input"
   ]
  },
  {
   "cell_type": "markdown",
   "id": "5b5799d4",
   "metadata": {
    "papermill": {},
    "tags": []
   },
   "source": [
    "### Setup Variables"
   ]
  },
  {
   "cell_type": "code",
   "execution_count": null,
   "id": "a96aeaf9",
   "metadata": {
    "papermill": {},
    "tags": []
   },
   "outputs": [],
   "source": [
    "# Input\n",
    "sentence = \"\"\"My number is +33606060606 \"\"\"\n",
    "\n",
    "# Ouptut\n",
    "phone_number = \"\""
   ]
  },
  {
   "cell_type": "markdown",
   "id": "7ec63b1e",
   "metadata": {
    "papermill": {},
    "tags": []
   },
   "source": [
    "## Model"
   ]
  },
  {
   "cell_type": "markdown",
   "id": "3608a766",
   "metadata": {
    "papermill": {},
    "tags": []
   },
   "source": [
    "### Find Phone Number"
   ]
  },
  {
   "cell_type": "code",
   "execution_count": null,
   "id": "a7db91d6",
   "metadata": {
    "papermill": {},
    "tags": []
   },
   "outputs": [],
   "source": [
    "def find_phone_number(string):\n",
    "    if len(string) == 10 and string.isdecimal():  # if string is of type XXXXXXXXXX\n",
    "        return True\n",
    "    if (\n",
    "        len(string) == 12 and string.startswith(\"+\") and string[1:].isdecimal()\n",
    "    ):  # if string is of type XXXXXXXXXX\n",
    "        return True\n",
    "    if len(string) != 12:  # if string is of type XXX-XXX-XXXX\n",
    "        return False\n",
    "    if string.isdecimal():\n",
    "        return True\n",
    "    for i in range(0, 3):\n",
    "        if not string[i].isdecimal():\n",
    "            return False\n",
    "    if string[3] != \"-\":\n",
    "        return False\n",
    "    for i in range(4, 7):\n",
    "        if not string[i].isdecimal():\n",
    "            return False\n",
    "    if string[7] != \"-\":\n",
    "        return False\n",
    "    for i in range(8, 12):\n",
    "        if not string[i].isdecimal():\n",
    "            return False\n",
    "        return True"
   ]
  },
  {
   "cell_type": "code",
   "execution_count": null,
   "id": "803f2538",
   "metadata": {
    "papermill": {},
    "tags": []
   },
   "outputs": [],
   "source": [
    "for i in range(len(sentence)):\n",
    "    split_12 = sentence[i : i + 12]\n",
    "    split_10 = sentence[i : i + 10]\n",
    "    if find_phone_number(split_10):\n",
    "        phone_number = split_10\n",
    "        break\n",
    "    elif find_phone_number(split_12):\n",
    "        phone_number = split_12\n",
    "        break"
   ]
  },
  {
   "cell_type": "markdown",
   "id": "5ff4ed5c",
   "metadata": {
    "papermill": {},
    "tags": []
   },
   "source": [
    "## Output"
   ]
  },
  {
   "cell_type": "markdown",
   "id": "3442ca07",
   "metadata": {
    "papermill": {},
    "tags": []
   },
   "source": [
    "### Display result"
   ]
  },
  {
   "cell_type": "code",
   "execution_count": null,
   "id": "d328d2ca",
   "metadata": {
    "papermill": {},
    "tags": []
   },
   "outputs": [],
   "source": [
    "if not phone_number:\n",
    "    print(\"Not phone number was found.\")\n",
    "else:\n",
    "    print(\"Phone number present in the string is :\", phone_number)"
   ]
  }
 ],
 "metadata": {
  "kernelspec": {
   "display_name": "Python 3",
   "language": "python",
   "name": "python3"
  },
  "language_info": {
   "codemirror_mode": {
    "name": "ipython",
    "version": 3
   },
   "file_extension": ".py",
   "mimetype": "text/x-python",
   "name": "python",
   "nbconvert_exporter": "python",
   "pygments_lexer": "ipython3",
   "version": "3.9.6"
  },
  "naas": {
   "notebook_id": "f0ed397656db4d35042f2e3dba5ca56a23ab02a7d4a4642cccc077086eaf0e1f",
   "notebook_path": "Python/Python_Find_Phone_Number_in_string.ipynb"
  },
  "papermill": {
   "default_parameters": {},
   "environment_variables": {},
   "parameters": {},
   "version": "2.4.0"
  },
  "vscode": {
   "interpreter": {
    "hash": "d8b744c3d7d64f598477d1e2d97b4ccab66faa6748eadc9807403570d2ec4c5a"
   }
  }
 },
 "nbformat": 4,
 "nbformat_minor": 5
}