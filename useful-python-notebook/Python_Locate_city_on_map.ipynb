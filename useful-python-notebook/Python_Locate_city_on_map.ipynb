{
 "cells": [
  {
   "cell_type": "markdown",
   "id": "7cce2f3e-a5f8-4faf-86f1-653e0d628ebf",
   "metadata": {
    "papermill": {},
    "tags": []
   },
   "source": [
    "<img width=\"10%\" alt=\"Naas\" src=\"https://landen.imgix.net/jtci2pxwjczr/assets/5ice39g4.png?w=160\"/>"
   ]
  },
  {
   "cell_type": "markdown",
   "id": "48746bb1-f2da-41e6-8cac-8fe91b45fade",
   "metadata": {
    "papermill": {},
    "tags": []
   },
   "source": [
    "# Python - Locate city on map\n",
    "<a href=\"https://app.naas.ai/user-redirect/naas/downloader?url=https://raw.githubusercontent.com/jupyter-naas/awesome-notebooks/master/Python/Python_Locate_city_on_map.ipynb\" target=\"_parent\"><img src=\"https://naasai-public.s3.eu-west-3.amazonaws.com/Open_in_Naas_Lab.svg\"/></a><br><br><a href=\"https://bit.ly/3JyWIk6\">Give Feedback</a> | <a href=\"https://github.com/jupyter-naas/awesome-notebooks/issues/new?assignees=&labels=bug&template=bug_report.md&title=Python+-+Locate+city+on+map:+Error+short+description\">Bug report</a>"
   ]
  },
  {
   "cell_type": "markdown",
   "id": "571d0e64-f774-4732-a515-f8e534016edd",
   "metadata": {
    "papermill": {},
    "tags": []
   },
   "source": [
    "**Tags:** #python #geocoding #city #coordinates #location #api"
   ]
  },
  {
   "cell_type": "markdown",
   "id": "85612270-36da-4048-811c-28689ce56083",
   "metadata": {
    "papermill": {},
    "tags": []
   },
   "source": [
    "**Author:** [Florent Ravenel](https://www.linkedin.com/in/florent-ravenel/)"
   ]
  },
  {
   "cell_type": "markdown",
   "id": "698bb0fe-1766-41b5-a824-3a450195eba7",
   "metadata": {
    "papermill": {},
    "tags": []
   },
   "source": [
    "**Last update:** 2023-04-12 (Created: 2023-03-24)"
   ]
  },
  {
   "cell_type": "markdown",
   "id": "41bc61b6-165c-4123-bda7-856785ca30c0",
   "metadata": {
    "papermill": {},
    "tags": []
   },
   "source": [
    "**Description:** This notebook will show how to get coordinates from a city name using Python and display it on a map."
   ]
  },
  {
   "cell_type": "markdown",
   "id": "e3914b68-6086-4c2e-b51e-8dd4ccdf95b8",
   "metadata": {
    "papermill": {},
    "tags": []
   },
   "source": [
    "**References:**\n",
    "- [PyPI - Geocoder](https://pypi.org/project/geocoder/)"
   ]
  },
  {
   "cell_type": "markdown",
   "id": "9dffb652-271b-4997-9c81-8bd70cd4d79e",
   "metadata": {
    "papermill": {},
    "tags": []
   },
   "source": [
    "## Input"
   ]
  },
  {
   "cell_type": "markdown",
   "id": "bfab9b28-5116-4a4d-be57-d860663b4cff",
   "metadata": {
    "papermill": {},
    "tags": []
   },
   "source": [
    "### Import libraries"
   ]
  },
  {
   "cell_type": "code",
   "execution_count": 1,
   "id": "a04a8413-e124-42e9-a192-85898644298a",
   "metadata": {
    "papermill": {},
    "tags": []
   },
   "outputs": [],
   "source": [
    "try:\n",
    "    import geocoder\n",
    "except:\n",
    "    !pip install geocoder --user\n",
    "    import geocoder\n",
    "import pandas as pd\n",
    "import plotly.express as px"
   ]
  },
  {
   "cell_type": "markdown",
   "id": "b10b7cb3-3b66-40fb-a888-d910f5733b2d",
   "metadata": {
    "papermill": {},
    "tags": []
   },
   "source": [
    "### Setup Variables\n",
    "- `city`: name of the city to get coordinates from\n",
    "- `country`: name of the country to help find the city"
   ]
  },
  {
   "cell_type": "code",
   "execution_count": 2,
   "id": "225f9414-c947-4090-9ae1-8f909fe27c5a",
   "metadata": {
    "papermill": {},
    "tags": []
   },
   "outputs": [],
   "source": [
    "city = \"Paris\"\n",
    "country = \"France\""
   ]
  },
  {
   "cell_type": "markdown",
   "id": "9e28d6de-7457-4741-ad8d-801e03e3281e",
   "metadata": {
    "papermill": {},
    "tags": []
   },
   "source": [
    "## Model"
   ]
  },
  {
   "cell_type": "markdown",
   "id": "c933ea1c-f4c6-4fca-b3cf-ec6a792d11e0",
   "metadata": {
    "papermill": {},
    "tags": []
   },
   "source": [
    "### Get coordinates from city"
   ]
  },
  {
   "cell_type": "markdown",
   "id": "318f5d91-f48c-4d65-827d-35e67b5aabdd",
   "metadata": {
    "papermill": {},
    "tags": []
   },
   "source": [
    "Using the `geocoder` library, we can get the coordinates from a city name."
   ]
  },
  {
   "cell_type": "code",
   "execution_count": 3,
   "id": "92718888-1b9d-4c4a-8893-db2ac480d9c0",
   "metadata": {
    "papermill": {},
    "tags": []
   },
   "outputs": [],
   "source": [
    "g = geocoder.arcgis(f\"{city}, {country}\")\n",
    "lat, lng = g.latlng\n",
    "df = pd.DataFrame([{\"name\": city, \"latitude\": lat, \"longitude\": lng, \"size\": 1}])\n",
    "print(f\"Coordinates of {city}: {lat}, {lng}\")"
   ]
  },
  {
   "cell_type": "markdown",
   "id": "c58c8365-1c27-4270-88b0-0c8119238a53",
   "metadata": {
    "papermill": {},
    "tags": []
   },
   "source": [
    "## Output"
   ]
  },
  {
   "cell_type": "markdown",
   "id": "c2a843de-7fa9-4e21-b919-b9759b11da23",
   "metadata": {
    "papermill": {},
    "tags": []
   },
   "source": [
    "### Locate city on map"
   ]
  },
  {
   "cell_type": "code",
   "execution_count": 4,
   "id": "cae4f16c-4444-4c0d-8d3b-72ebcdecfafc",
   "metadata": {
    "papermill": {},
    "tags": []
   },
   "outputs": [],
   "source": [
    "fig = px.scatter_mapbox(\n",
    "    df,\n",
    "    lat='latitude',\n",
    "    lon='longitude',\n",
    "    size='size',\n",
    "    text='name',\n",
    "    zoom=4,\n",
    "    mapbox_style='open-street-map'\n",
    ")\n",
    "fig.update_layout(\n",
    "    width=1200,\n",
    "    height=800,\n",
    ")\n",
    "config = {\"displayModeBar\": False}\n",
    "fig.show(config=config)"
   ]
  },
  {
   "cell_type": "markdown",
   "id": "462d6733-33ff-4e2e-82eb-7bccfd5bb137",
   "metadata": {
    "papermill": {},
    "tags": []
   },
   "source": [
    " "
   ]
  }
 ],
 "metadata": {
  "kernelspec": {
   "display_name": "Python 3",
   "language": "python",
   "name": "python3"
  },
  "language_info": {
   "codemirror_mode": {
    "name": "ipython",
    "version": 3
   },
   "file_extension": ".py",
   "mimetype": "text/x-python",
   "name": "python",
   "nbconvert_exporter": "python",
   "pygments_lexer": "ipython3",
   "version": "3.9.6"
  },
  "naas": {
   "notebook_id": "f6bac2f96a6ae10b5e54f83f2ed151f5c4094bee0516f3ee795de50c02c95791",
   "notebook_path": "Python/Python_Locate_city_on_map.ipynb"
  },
  "papermill": {
   "default_parameters": {},
   "environment_variables": {},
   "parameters": {},
   "version": "2.4.0"
  },
  "widgets": {
   "application/vnd.jupyter.widget-state+json": {
    "state": {},
    "version_major": 2,
    "version_minor": 0
   }
  }
 },
 "nbformat": 4,
 "nbformat_minor": 5
}