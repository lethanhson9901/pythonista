{
 "cells": [
  {
   "cell_type": "markdown",
   "id": "ab2061dc-7852-451d-bbb6-bc3ea37ae5db",
   "metadata": {
    "papermill": {},
    "tags": []
   },
   "source": [
    "<img width=\"10%\" alt=\"Naas\" src=\"https://landen.imgix.net/jtci2pxwjczr/assets/5ice39g4.png?w=160\"/>"
   ]
  },
  {
   "cell_type": "markdown",
   "id": "a0d8fe49-0f6c-4451-b824-6986d8d7dff3",
   "metadata": {
    "papermill": {},
    "tags": []
   },
   "source": [
    "# Python - Transform String to Secure Hash Algorithm\n",
    "<a href=\"https://app.naas.ai/user-redirect/naas/downloader?url=https://raw.githubusercontent.com/jupyter-naas/awesome-notebooks/master/Python/Python_Transform_string_to_Secure_Hash_Algorithm.ipynb\" target=\"_parent\"><img src=\"https://naasai-public.s3.eu-west-3.amazonaws.com/Open_in_Naas_Lab.svg\"/></a><br><br><a href=\"https://bit.ly/3JyWIk6\">Give Feedback</a> | <a href=\"https://github.com/jupyter-naas/awesome-notebooks/issues/new?assignees=&labels=bug&template=bug_report.md&title=Python+-+Transform+String+to+Secure+Hash+Algorithm:+Error+short+description\">Bug report</a>"
   ]
  },
  {
   "cell_type": "markdown",
   "id": "33203127-17e4-492a-bc76-24fa9a337d00",
   "metadata": {
    "papermill": {},
    "tags": []
   },
   "source": [
    "**Tags:** #python #security #hash #algorithm #encryption #sha"
   ]
  },
  {
   "cell_type": "markdown",
   "id": "be17cb05-0f6d-4d24-abea-9416e828b1ef",
   "metadata": {
    "papermill": {},
    "tags": []
   },
   "source": [
    "**Author:** [Firstname LastName](https://www.linkedin.com/in/xxxxxx/)"
   ]
  },
  {
   "cell_type": "markdown",
   "id": "5100047f-1476-4e14-946f-2f2098216efe",
   "metadata": {
    "papermill": {},
    "tags": []
   },
   "source": [
    "**Last update:** 2023-06-19 (Created: 2023-06-19)"
   ]
  },
  {
   "cell_type": "markdown",
   "id": "0f977f2d-e8e5-4c25-876e-3c834a8e48cd",
   "metadata": {
    "papermill": {},
    "tags": []
   },
   "source": [
    "**Description:** This notebook will demonstrate how to create a secure hash algorithm using Python. It is useful for organizations to ensure data security and integrity."
   ]
  },
  {
   "cell_type": "markdown",
   "id": "12692659-6d3a-4be4-8c6d-7cfdf213ffc7",
   "metadata": {
    "papermill": {},
    "tags": []
   },
   "source": [
    "**References:**\n",
    "- [Python hashlib](https://docs.python.org/3/library/hashlib.html)\n",
    "- [Secure Hash Algorithm](https://en.wikipedia.org/wiki/Secure_Hash_Algorithms)"
   ]
  },
  {
   "cell_type": "markdown",
   "id": "e2033cbb-1408-4173-b280-f32bc11f410f",
   "metadata": {
    "papermill": {},
    "tags": []
   },
   "source": [
    "## Input"
   ]
  },
  {
   "cell_type": "markdown",
   "id": "963298d6-b516-487d-ad1f-06ad6894185d",
   "metadata": {
    "papermill": {},
    "tags": []
   },
   "source": [
    "### Import libraries"
   ]
  },
  {
   "cell_type": "code",
   "execution_count": null,
   "id": "e9a79ff8-994b-406a-bceb-d2586dafd6fb",
   "metadata": {
    "papermill": {},
    "tags": []
   },
   "outputs": [],
   "source": [
    "try:\n",
    "    import hashlib\n",
    "except:\n",
    "    !pip install hashlib --user\n",
    "    import hashlib"
   ]
  },
  {
   "cell_type": "markdown",
   "id": "36007335-3301-44b4-bfc8-ddc118438553",
   "metadata": {
    "papermill": {},
    "tags": []
   },
   "source": [
    "### Setup Variables\n",
    "- `message`: The message to be hashed"
   ]
  },
  {
   "cell_type": "code",
   "execution_count": null,
   "id": "0e0c5af8-d538-4c27-8890-c1be1c4136fd",
   "metadata": {
    "papermill": {},
    "tags": []
   },
   "outputs": [],
   "source": [
    "message = \"This is a message to be hashed\""
   ]
  },
  {
   "cell_type": "markdown",
   "id": "b31e42cd-a63b-46bd-ac93-a3c75109c550",
   "metadata": {
    "papermill": {},
    "tags": []
   },
   "source": [
    "## Model"
   ]
  },
  {
   "cell_type": "markdown",
   "id": "f0b6187f-2451-4add-bc58-c436289f495c",
   "metadata": {
    "papermill": {},
    "tags": []
   },
   "source": [
    "### Create SHA-256 Hash"
   ]
  },
  {
   "cell_type": "markdown",
   "id": "5af96b59-d511-4649-a36f-0385b71e6b81",
   "metadata": {
    "papermill": {},
    "tags": []
   },
   "source": [
    "This function will create a SHA-256 hash of the message."
   ]
  },
  {
   "cell_type": "code",
   "execution_count": null,
   "id": "b67ffd4f-8a03-4541-a248-e774e7ed65e0",
   "metadata": {
    "papermill": {},
    "tags": []
   },
   "outputs": [],
   "source": [
    "def create_sha_256_hash(message):\n",
    "    # Encode the message to bytes\n",
    "    message_bytes = message.encode()\n",
    "\n",
    "    # Create the hash object\n",
    "    sha_256_hash = hashlib.sha256(message_bytes)\n",
    "\n",
    "    # Return the hexadecimal digest of the hash\n",
    "    return sha_256_hash.hexdigest()"
   ]
  },
  {
   "cell_type": "markdown",
   "id": "b523b9f1-927b-4b4a-b9ae-241e65b168db",
   "metadata": {
    "papermill": {},
    "tags": []
   },
   "source": [
    "## Output"
   ]
  },
  {
   "cell_type": "markdown",
   "id": "e9a481cd-2273-443e-8bdb-7abbfd6d06be",
   "metadata": {
    "papermill": {},
    "tags": []
   },
   "source": [
    "### Display result"
   ]
  },
  {
   "cell_type": "code",
   "execution_count": null,
   "id": "4b53f596-44b0-4def-b907-6c617eea1572",
   "metadata": {
    "papermill": {},
    "tags": []
   },
   "outputs": [],
   "source": [
    "print(create_sha_256_hash(message))"
   ]
  },
  {
   "cell_type": "markdown",
   "id": "42d03f11-59bc-46a7-8fa2-3850f1ace85b",
   "metadata": {
    "papermill": {},
    "tags": []
   },
   "source": [
    " "
   ]
  }
 ],
 "metadata": {
  "kernelspec": {
   "display_name": "Python 3",
   "language": "python",
   "name": "python3"
  },
  "language_info": {
   "codemirror_mode": {
    "name": "ipython",
    "version": 3
   },
   "file_extension": ".py",
   "mimetype": "text/x-python",
   "name": "python",
   "nbconvert_exporter": "python",
   "pygments_lexer": "ipython3",
   "version": "3.9.6"
  },
  "naas": {
   "notebook_id": "51927e37f1c930d38501a5524f66df6a3305327b1f73da29f93de18680b7b723",
   "notebook_path": "Python/Python_Transform_string_to_Secure_Hash_Algorithm.ipynb"
  },
  "papermill": {
   "default_parameters": {},
   "environment_variables": {},
   "parameters": {},
   "version": "2.4.0"
  },
  "widgets": {
   "application/vnd.jupyter.widget-state+json": {
    "state": {},
    "version_major": 2,
    "version_minor": 0
   }
  }
 },
 "nbformat": 4,
 "nbformat_minor": 5
}