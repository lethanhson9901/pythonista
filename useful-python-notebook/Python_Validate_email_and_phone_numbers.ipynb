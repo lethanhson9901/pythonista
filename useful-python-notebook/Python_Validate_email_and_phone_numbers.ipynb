{
 "cells": [
  {
   "cell_type": "markdown",
   "id": "cf2bf801-1a21-4e45-bdaa-ac1213850629",
   "metadata": {
    "papermill": {},
    "tags": []
   },
   "source": [
    "<img width=\"10%\" alt=\"Naas\" src=\"https://landen.imgix.net/jtci2pxwjczr/assets/5ice39g4.png?w=160\"/>"
   ]
  },
  {
   "cell_type": "markdown",
   "id": "85a4a969-ca8a-458a-8369-8d5f1e0ae27f",
   "metadata": {
    "papermill": {},
    "tags": []
   },
   "source": [
    "# Python - Validate email and phone numbers\n",
    "<a href=\"https://app.naas.ai/user-redirect/naas/downloader?url=https://raw.githubusercontent.com/jupyter-naas/awesome-notebooks/master/Python/Python_Validate_email_and_phone_numbers.ipynb\" target=\"_parent\"><img src=\"https://naasai-public.s3.eu-west-3.amazonaws.com/Open_in_Naas_Lab.svg\"/></a><br><br><a href=\"https://bit.ly/3JyWIk6\">Give Feedback</a> | <a href=\"https://github.com/jupyter-naas/awesome-notebooks/issues/new?assignees=&labels=bug&template=bug_report.md&title=Python+-+Validate+email+and+phone+numbers:+Error+short+description\">Bug report</a>"
   ]
  },
  {
   "cell_type": "markdown",
   "id": "61e850ab-824d-4c64-87e5-c0231ca63b08",
   "metadata": {
    "papermill": {},
    "tags": []
   },
   "source": [
    "**Tags:** #python #twilio #project #call #mobile #snippet"
   ]
  },
  {
   "cell_type": "markdown",
   "id": "c37bfa0c-4380-49ef-b94c-d9d21fc48e85",
   "metadata": {
    "papermill": {},
    "tags": []
   },
   "source": [
    "**Author:** [Sriniketh Jayasendil](https://twitter.com/srini047/)"
   ]
  },
  {
   "cell_type": "markdown",
   "id": "211f5e70-b2c3-4377-9220-ec849c786305",
   "metadata": {
    "papermill": {},
    "tags": []
   },
   "source": [
    "**Last update:** 2023-06-05 (Created: 2023-06-05)"
   ]
  },
  {
   "cell_type": "markdown",
   "id": "c7d1a114-f5ce-495a-b442-7cd2712b3f02",
   "metadata": {
    "papermill": {},
    "tags": []
   },
   "source": [
    "**Description:** This notebook validates a given email address and phone number using `re` and `phonenumbers` modules."
   ]
  },
  {
   "cell_type": "markdown",
   "id": "5eeff523-825d-4957-b09c-42e092296edf",
   "metadata": {
    "papermill": {},
    "tags": []
   },
   "source": [
    "**References:**\n",
    "- [re — Regular expression operations](https://docs.python.org/3/library/re.html)\n",
    "- [PyPI - phonenumbers](https://pypi.org/project/phonenumbers/)"
   ]
  },
  {
   "cell_type": "markdown",
   "id": "e091a524-bb20-4837-8b36-3d94fb4cbfa6",
   "metadata": {
    "execution": {
     "iopub.execute_input": "2022-10-05T12:40:03.282452Z",
     "iopub.status.busy": "2022-10-05T12:40:03.282163Z",
     "iopub.status.idle": "2022-10-05T12:40:03.301204Z",
     "shell.execute_reply": "2022-10-05T12:40:03.300426Z",
     "shell.execute_reply.started": "2022-10-05T12:40:03.282421Z"
    },
    "papermill": {},
    "tags": []
   },
   "source": [
    "## Input"
   ]
  },
  {
   "cell_type": "markdown",
   "id": "5f04dbe9-4d68-44d3-bf6d-3c76157ac179",
   "metadata": {
    "execution": {
     "iopub.execute_input": "2022-10-05T12:40:19.542979Z",
     "iopub.status.busy": "2022-10-05T12:40:19.542755Z",
     "iopub.status.idle": "2022-10-05T12:40:19.565760Z",
     "shell.execute_reply": "2022-10-05T12:40:19.565020Z",
     "shell.execute_reply.started": "2022-10-05T12:40:19.542953Z"
    },
    "papermill": {},
    "tags": []
   },
   "source": [
    "### Import librairies"
   ]
  },
  {
   "cell_type": "code",
   "execution_count": null,
   "id": "82d5db28-26a9-410b-8b89-b096548f5bc7",
   "metadata": {
    "papermill": {},
    "tags": []
   },
   "outputs": [],
   "source": [
    "import re\n",
    "try:\n",
    "    import phonenumbers\n",
    "except ModuleNotFoundError:\n",
    "    !pip install phonenumbers\n",
    "    import phonenumbers"
   ]
  },
  {
   "cell_type": "markdown",
   "id": "e2fe4fd8-55b6-4b6d-a4cc-f9db84228722",
   "metadata": {
    "papermill": {},
    "tags": []
   },
   "source": [
    "### Setup Variables\n",
    "You can build and test regular expression patterns using this [regex101.com](https://regex101.com/)\n",
    "- `email_regex`: Pattern to match Email Address"
   ]
  },
  {
   "cell_type": "code",
   "execution_count": null,
   "id": "74416e85-63af-4c14-96a4-8c560ff6af68",
   "metadata": {
    "papermill": {},
    "tags": []
   },
   "outputs": [],
   "source": [
    "email_regex = \"^[a-z0-9]+[\\._]?[a-z0-9]+[@]\\w+[.]\\w{2,3}$\"  # Pattern to match Email Address"
   ]
  },
  {
   "cell_type": "markdown",
   "id": "669ee076-d7f0-470a-a1c9-a5153c922b1f",
   "metadata": {
    "papermill": {},
    "tags": []
   },
   "source": [
    "## Model"
   ]
  },
  {
   "cell_type": "markdown",
   "id": "4f9df350-78a6-43e2-9eec-598a7aacb2af",
   "metadata": {
    "papermill": {},
    "tags": []
   },
   "source": [
    "### Check email function"
   ]
  },
  {
   "cell_type": "code",
   "execution_count": null,
   "id": "bf435bea-d5db-456d-a03c-83dcf445701c",
   "metadata": {
    "papermill": {},
    "tags": []
   },
   "outputs": [],
   "source": [
    "def check_email(email):\n",
    "    if re.fullmatch(email_regex, email):\n",
    "        print(\"Valid Email✅\")\n",
    "    else:\n",
    "        print(\"Invalid Email❌\")"
   ]
  },
  {
   "cell_type": "markdown",
   "id": "5580ca8d-3db5-4c51-ad04-cd5eaac1ff0c",
   "metadata": {
    "papermill": {},
    "tags": []
   },
   "source": [
    "### Check phone number function"
   ]
  },
  {
   "cell_type": "code",
   "execution_count": null,
   "id": "2fa3fc23-cd7d-41da-9d4f-28da4ce51c39",
   "metadata": {
    "papermill": {},
    "tags": []
   },
   "outputs": [],
   "source": [
    "def check_phone_number(phone_number):\n",
    "    phone_number = phonenumbers.parse(phone_number)\n",
    "    possible = phonenumbers.is_valid_number(phone_number)\n",
    "    if possible:\n",
    "        if phonenumbers.is_possible_number(phone_number):\n",
    "            print(\"Valid Phone Number✅\")\n",
    "    else:\n",
    "        print(\"Invalid Phone Number❌\")"
   ]
  },
  {
   "cell_type": "markdown",
   "id": "f7c76c1d-66b3-4f66-b660-3a56f590767d",
   "metadata": {
    "papermill": {},
    "tags": []
   },
   "source": [
    "## Output"
   ]
  },
  {
   "cell_type": "markdown",
   "id": "9e6218c0-0182-49de-9434-4a43b0799a48",
   "metadata": {
    "papermill": {},
    "tags": []
   },
   "source": [
    "### Check email and phone number"
   ]
  },
  {
   "cell_type": "code",
   "execution_count": null,
   "id": "fa50c11c-ec18-4baf-b0a3-e61fa8c5a9b2",
   "metadata": {
    "papermill": {},
    "tags": []
   },
   "outputs": [],
   "source": [
    "input_email = input(\"Enter the Email-ID: \")\n",
    "check_email(input_email)\n",
    "\n",
    "input_phone_number = input(\"Enter the Phone Number (please start with your country ID like +33 for France): \")\n",
    "check_phone_number(input_phone_number)"
   ]
  },
  {
   "cell_type": "code",
   "execution_count": null,
   "id": "47622ee3-1947-4f84-97e0-9ea5c8995f9a",
   "metadata": {
    "papermill": {},
    "tags": []
   },
   "outputs": [],
   "source": []
  }
 ],
 "metadata": {
  "kernelspec": {
   "display_name": "Python 3",
   "language": "python",
   "name": "python3"
  },
  "language_info": {
   "codemirror_mode": {
    "name": "ipython",
    "version": 3
   },
   "file_extension": ".py",
   "mimetype": "text/x-python",
   "name": "python",
   "nbconvert_exporter": "python",
   "pygments_lexer": "ipython3",
   "version": "3.9.6"
  },
  "naas": {
   "notebook_id": "6de9c1a35eb23d9d9f9c7f42401106d9b96ac0cfc31c95f41ee0fa4190b8ed10",
   "notebook_path": "Python/Python_Validate_email_and_phone_numbers.ipynb"
  },
  "papermill": {
   "default_parameters": {},
   "environment_variables": {},
   "parameters": {},
   "version": "2.4.0"
  },
  "widgets": {
   "application/vnd.jupyter.widget-state+json": {
    "state": {},
    "version_major": 2,
    "version_minor": 0
   }
  }
 },
 "nbformat": 4,
 "nbformat_minor": 5
}