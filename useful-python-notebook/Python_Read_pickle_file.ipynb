{
 "cells": [
  {
   "cell_type": "markdown",
   "id": "3aa858af-067d-4831-9b9a-5f3e918efac3",
   "metadata": {
    "papermill": {},
    "tags": []
   },
   "source": [
    "<img width=\"10%\" alt=\"Naas\" src=\"https://landen.imgix.net/jtci2pxwjczr/assets/5ice39g4.png?w=160\"/>"
   ]
  },
  {
   "cell_type": "markdown",
   "id": "d36356f7-4c3f-4758-a00e-84826514535c",
   "metadata": {
    "papermill": {},
    "tags": []
   },
   "source": [
    "# Python - Read pickle file\n",
    "<a href=\"https://app.naas.ai/user-redirect/naas/downloader?url=https://raw.githubusercontent.com/jupyter-naas/awesome-notebooks/master/Python/Python_Read_pickle_file.ipynb\" target=\"_parent\"><img src=\"https://naasai-public.s3.eu-west-3.amazonaws.com/Open_in_Naas_Lab.svg\"/></a><br><br><a href=\"https://bit.ly/3JyWIk6\">Give Feedback</a> | <a href=\"https://github.com/jupyter-naas/awesome-notebooks/issues/new?assignees=&labels=bug&template=bug_report.md&title=Python+-+Read+pickle+file:+Error+short+description\">Bug report</a>"
   ]
  },
  {
   "cell_type": "markdown",
   "id": "c616068c-4b2d-444c-b6d1-311ae7047723",
   "metadata": {
    "papermill": {},
    "tags": []
   },
   "source": [
    "**Tags:** #python #pickle #file #load #data #io"
   ]
  },
  {
   "cell_type": "markdown",
   "id": "3bb73f8f-7dd1-4803-a9e2-b5dd1f31918f",
   "metadata": {
    "papermill": {},
    "tags": []
   },
   "source": [
    "**Author:** [Kaushal Krishna](https://www.linkedin.com/in/kaushal-krishna-a48959153/)"
   ]
  },
  {
   "cell_type": "markdown",
   "id": "2175dd77-7f3d-460a-baa5-a39c4dcc3440",
   "metadata": {
    "papermill": {},
    "tags": []
   },
   "source": [
    "**Last update:** 2023-04-12 (Created: 2023-03-13)"
   ]
  },
  {
   "cell_type": "markdown",
   "id": "d3c4f486-789b-4ed6-bc4e-10f42242b425",
   "metadata": {
    "papermill": {},
    "tags": []
   },
   "source": [
    "**Description:**   \n",
    "This notebook loads a dictionary from pickle object. Loading a dictionary using pickle is a quick and easy process. With just a few lines of code, you can store your dictionary data from a pickle file.    \n",
    "\n",
    "Pickle can cause critical security vulnerabilities in code, you should never unpickle data you don’t trust. If you must accept data from an untrusted client, you should use the safer JSON format. And, if you transfer pickled data between trusted applications but need extra measures to prevent tampering, you should generate an HMAC signature you can verify before unpickling."
   ]
  },
  {
   "cell_type": "markdown",
   "id": "f89f9cf2-8555-4461-86a6-da17482c84fc",
   "metadata": {
    "papermill": {},
    "tags": []
   },
   "source": [
    "**References:**\n",
    "- [Python pickle module](https://docs.python.org/3/library/pickle.html)"
   ]
  },
  {
   "cell_type": "markdown",
   "id": "9e80b263-878f-417a-aa26-6f46640781e2",
   "metadata": {
    "papermill": {},
    "tags": []
   },
   "source": [
    "## Input"
   ]
  },
  {
   "cell_type": "markdown",
   "id": "990d6312-352f-4121-a6ba-986f981a6075",
   "metadata": {
    "papermill": {},
    "tags": []
   },
   "source": [
    "### Import libraries"
   ]
  },
  {
   "cell_type": "code",
   "execution_count": 5,
   "id": "1a776e43-a2b8-46de-b982-61b1d220402d",
   "metadata": {
    "papermill": {},
    "tags": []
   },
   "outputs": [],
   "source": [
    "import pickle"
   ]
  },
  {
   "cell_type": "markdown",
   "id": "ec5db635-aef2-4cf6-9646-c54173b4f048",
   "metadata": {
    "papermill": {},
    "tags": []
   },
   "source": [
    "### Setup Variables\n",
    "- `data`: a variable to store unpickled object\n",
    "- `input_path`: pickle file source"
   ]
  },
  {
   "cell_type": "code",
   "execution_count": 6,
   "id": "093a6a77-011a-43b7-bc51-c8609b71c9db",
   "metadata": {
    "papermill": {},
    "tags": []
   },
   "outputs": [],
   "source": [
    "# Inputs\n",
    "input_path = \"data.pkl\"\n",
    "\n",
    "# Outputs\n",
    "data = None"
   ]
  },
  {
   "cell_type": "markdown",
   "id": "492ff731-7c1d-421a-8ca8-f9998960985e",
   "metadata": {
    "papermill": {},
    "tags": []
   },
   "source": [
    "## Model"
   ]
  },
  {
   "cell_type": "markdown",
   "id": "ddcea30b-ca37-40d9-bd95-6051a05032d9",
   "metadata": {
    "papermill": {},
    "tags": []
   },
   "source": [
    "### Load dictionary from pickle file"
   ]
  },
  {
   "cell_type": "markdown",
   "id": "42126c8d-c5e9-486c-8eee-e5430032969a",
   "metadata": {
    "papermill": {},
    "tags": []
   },
   "source": [
    "Using the `pickle.load()` function, the `data` dictionary can be loaded into from a pickle file."
   ]
  },
  {
   "cell_type": "code",
   "execution_count": 7,
   "id": "2000cc5f-9c13-49ef-b52d-8890cd8bad41",
   "metadata": {
    "papermill": {},
    "tags": []
   },
   "outputs": [],
   "source": [
    "with open(input_path, \"rb\") as f:\n",
    "    data=pickle.load(f)"
   ]
  },
  {
   "cell_type": "markdown",
   "id": "4a3f7a9a-b3f2-4bcf-aabb-abe0d114357a",
   "metadata": {
    "papermill": {},
    "tags": []
   },
   "source": [
    "## Output"
   ]
  },
  {
   "cell_type": "markdown",
   "id": "94485536-9885-4df4-80e6-005d780c6faa",
   "metadata": {
    "papermill": {},
    "tags": []
   },
   "source": [
    "### Display result"
   ]
  },
  {
   "cell_type": "code",
   "execution_count": 8,
   "id": "4856f253-ea50-4401-8bd0-9ef634502777",
   "metadata": {
    "papermill": {},
    "tags": []
   },
   "outputs": [],
   "source": [
    "print(\"The unpickled object is : \\n\", data)"
   ]
  }
 ],
 "metadata": {
  "kernelspec": {
   "display_name": "Python 3",
   "language": "python",
   "name": "python3"
  },
  "language_info": {
   "codemirror_mode": {
    "name": "ipython",
    "version": 3
   },
   "file_extension": ".py",
   "mimetype": "text/x-python",
   "name": "python",
   "nbconvert_exporter": "python",
   "pygments_lexer": "ipython3",
   "version": "3.9.6"
  },
  "naas": {
   "notebook_id": "764a61ccadd589be64a9953b0c2f0ae854335e74fb7dd944ed5585051a031eb8",
   "notebook_path": "Python/Python_Read_pickle_file.ipynb"
  },
  "papermill": {
   "default_parameters": {},
   "environment_variables": {},
   "parameters": {},
   "version": "2.4.0"
  },
  "widgets": {
   "application/vnd.jupyter.widget-state+json": {
    "state": {},
    "version_major": 2,
    "version_minor": 0
   }
  }
 },
 "nbformat": 4,
 "nbformat_minor": 5
}