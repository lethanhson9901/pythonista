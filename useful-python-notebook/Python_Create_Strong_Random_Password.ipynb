{
 "cells": [
  {
   "cell_type": "markdown",
   "id": "ed7aec4f-8592-4ed6-8f36-cf6f97ec46e0",
   "metadata": {
    "execution": {
     "iopub.execute_input": "2021-10-07T18:08:42.284676Z",
     "iopub.status.busy": "2021-10-07T18:08:42.284311Z",
     "iopub.status.idle": "2021-10-07T18:08:42.296032Z",
     "shell.execute_reply": "2021-10-07T18:08:42.295101Z",
     "shell.execute_reply.started": "2021-10-07T18:08:42.284600Z"
    },
    "papermill": {},
    "tags": []
   },
   "source": [
    "<img width=\"10%\" alt=\"Naas\" src=\"https://landen.imgix.net/jtci2pxwjczr/assets/5ice39g4.png?w=160\"/>"
   ]
  },
  {
   "cell_type": "markdown",
   "id": "bc7f04d2-433f-4dcc-8380-13b30c36fcff",
   "metadata": {
    "papermill": {},
    "tags": []
   },
   "source": [
    "# Python - Create Strong Random Password\n",
    "<a href=\"https://app.naas.ai/user-redirect/naas/downloader?url=https://raw.githubusercontent.com/jupyter-naas/awesome-notebooks/master/Python/Python_Create_Strong_Random_Password.ipynb\" target=\"_parent\"><img src=\"https://naasai-public.s3.eu-west-3.amazonaws.com/Open_in_Naas_Lab.svg\"/></a><br><br><a href=\"https://bit.ly/3JyWIk6\">Give Feedback</a> | <a href=\"https://github.com/jupyter-naas/awesome-notebooks/issues/new?assignees=&labels=bug&template=bug_report.md&title=Python+-+Create+Strong+Random+Password:+Error+short+description\">Bug report</a>"
   ]
  },
  {
   "cell_type": "markdown",
   "id": "3f8bc3bc-a5ab-4089-8f90-e79613152ec0",
   "metadata": {
    "execution": {
     "iopub.execute_input": "2021-10-07T17:02:10.532600Z",
     "iopub.status.busy": "2021-10-07T17:02:10.532368Z",
     "iopub.status.idle": "2021-10-07T17:02:10.540305Z",
     "shell.execute_reply": "2021-10-07T17:02:10.539440Z",
     "shell.execute_reply.started": "2021-10-07T17:02:10.532576Z"
    },
    "papermill": {},
    "tags": []
   },
   "source": [
    "**Tags:** #python #password #random #snippet #operations "
   ]
  },
  {
   "cell_type": "markdown",
   "id": "6bec382e-410f-4ecb-8ba0-d448efd1f887",
   "metadata": {
    "papermill": {},
    "tags": []
   },
   "source": [
    "**Author:** [Sunny](https://www.linkedin.com/in/sunny-chugh-ab1630177/)"
   ]
  },
  {
   "cell_type": "markdown",
   "id": "ea419c8f-dcaf-4404-805d-69f9aa0a4549",
   "metadata": {
    "papermill": {},
    "tags": []
   },
   "source": [
    "**Last update:** 2023-04-12 (Created: 2022-11-30)"
   ]
  },
  {
   "cell_type": "markdown",
   "id": "12dfdc84-3387-44e3-bf1a-0dd0b61c5578",
   "metadata": {
    "papermill": {},
    "tags": []
   },
   "source": [
    "**Description:** The objective of this notebook is to Create Strong random password. "
   ]
  },
  {
   "cell_type": "markdown",
   "id": "9726904a-9e6e-4993-a3c5-1a2fbd2f1d5f",
   "metadata": {
    "papermill": {},
    "tags": []
   },
   "source": [
    "## Input "
   ]
  },
  {
   "cell_type": "markdown",
   "id": "533e6f25-f97e-4b9b-b089-d1fbaa95e1cc",
   "metadata": {
    "papermill": {},
    "tags": []
   },
   "source": [
    "### Import libraries\n",
    "Import the necessary libraries: random,string"
   ]
  },
  {
   "cell_type": "code",
   "execution_count": null,
   "id": "dc5fd49e-c963-447f-98e3-3e607f893fa7",
   "metadata": {
    "papermill": {},
    "tags": []
   },
   "outputs": [],
   "source": [
    "import random\n",
    "import string"
   ]
  },
  {
   "cell_type": "markdown",
   "id": "2ca01583-ae46-483d-bc9a-fa9210d5e391",
   "metadata": {
    "papermill": {},
    "tags": []
   },
   "source": [
    "### Setup variables"
   ]
  },
  {
   "cell_type": "code",
   "execution_count": null,
   "id": "cc362ce3-8bc9-46a9-b00b-362e49f7368c",
   "metadata": {
    "papermill": {},
    "tags": []
   },
   "outputs": [],
   "source": [
    "word_length = 18\n",
    "special_char = \"!@#$%&\""
   ]
  },
  {
   "cell_type": "markdown",
   "id": "0253e156-a861-4dbf-9cc7-8e15e8c143f3",
   "metadata": {
    "papermill": {},
    "tags": []
   },
   "source": [
    "## Model"
   ]
  },
  {
   "cell_type": "markdown",
   "id": "f5bec89b-5844-4974-922c-b1ea6a860863",
   "metadata": {
    "papermill": {},
    "tags": []
   },
   "source": [
    "### Create strong random passwords"
   ]
  },
  {
   "cell_type": "code",
   "execution_count": null,
   "id": "62901fc0-2c84-443f-8a7e-d04c15b9b6a5",
   "metadata": {
    "papermill": {},
    "tags": []
   },
   "outputs": [],
   "source": [
    "# Generate a list of letters, digits, and some punctuation\n",
    "components = [string.ascii_letters, string.digits, special_char]\n",
    "\n",
    "# flatten the components into a list of characters\n",
    "chars = []\n",
    "for clist in components:\n",
    "    for item in clist:\n",
    "        chars.append(item)\n",
    "\n",
    "# Store the generated password\n",
    "password = []\n",
    "# Choose a random item from 'chars' and add it to 'password'\n",
    "for i in range(word_length):\n",
    "    rchar = random.choice(chars)\n",
    "    password.append(rchar)\n",
    "\n",
    "# Return the composed password as a string\n",
    "generated_password = \"\".join(password)"
   ]
  },
  {
   "cell_type": "markdown",
   "id": "30358a8b-f679-4143-87d7-0f09f7aa6291",
   "metadata": {
    "papermill": {},
    "tags": []
   },
   "source": [
    "## Output"
   ]
  },
  {
   "cell_type": "markdown",
   "id": "b58c899a-516d-4adf-bf04-5ba1912907cf",
   "metadata": {
    "papermill": {},
    "tags": []
   },
   "source": [
    "### Display result"
   ]
  },
  {
   "cell_type": "code",
   "execution_count": null,
   "id": "92c6a35e-d9fc-4f99-9fad-8ef93ba91009",
   "metadata": {
    "papermill": {},
    "tags": []
   },
   "outputs": [],
   "source": [
    "print(f\"Password Successfully generated: {generated_password}!\")"
   ]
  }
 ],
 "metadata": {
  "kernelspec": {
   "display_name": "Python 3",
   "language": "python",
   "name": "python3"
  },
  "language_info": {
   "codemirror_mode": {
    "name": "ipython",
    "version": 3
   },
   "file_extension": ".py",
   "mimetype": "text/x-python",
   "name": "python",
   "nbconvert_exporter": "python",
   "pygments_lexer": "ipython3",
   "version": "3.9.6"
  },
  "naas": {
   "notebook_id": "287f76fafc85efc85412756d89bbbcfe44730e5f2bb38149ac0374522f23c2dd",
   "notebook_path": "Python/Python_Create_Strong_Random_Password.ipynb"
  },
  "papermill": {
   "default_parameters": {},
   "environment_variables": {},
   "parameters": {},
   "version": "2.4.0"
  }
 },
 "nbformat": 4,
 "nbformat_minor": 5
}