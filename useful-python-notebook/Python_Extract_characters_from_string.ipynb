{
 "cells": [
  {
   "cell_type": "markdown",
   "id": "a375df46-3e8d-496c-b9f2-956a649ee2b0",
   "metadata": {
    "papermill": {},
    "tags": []
   },
   "source": [
    "<img width=\"10%\" alt=\"Naas\" src=\"https://landen.imgix.net/jtci2pxwjczr/assets/5ice39g4.png?w=160\"/>"
   ]
  },
  {
   "cell_type": "markdown",
   "id": "7da76030-0b3c-4c2f-9e7b-36043d3cd1a1",
   "metadata": {
    "papermill": {},
    "tags": []
   },
   "source": [
    "# Python - Extract characters from string\n",
    "<a href=\"https://app.naas.ai/user-redirect/naas/downloader?url=https://raw.githubusercontent.com/jupyter-naas/awesome-notebooks/master/Python/Python_Extract_characters_from_string.ipynb\" target=\"_parent\"><img src=\"https://naasai-public.s3.eu-west-3.amazonaws.com/Open_in_Naas_Lab.svg\"/></a><br><br><a href=\"https://bit.ly/3JyWIk6\">Give Feedback</a> | <a href=\"https://github.com/jupyter-naas/awesome-notebooks/issues/new?assignees=&labels=bug&template=bug_report.md&title=Python+-+Extract+characters+from+string:+Error+short+description\">Bug report</a>"
   ]
  },
  {
   "cell_type": "markdown",
   "id": "a783de75-d983-43ac-8323-a92bca66a8c3",
   "metadata": {
    "papermill": {},
    "tags": []
   },
   "source": [
    "**Tags:** #python #extract #string #character"
   ]
  },
  {
   "cell_type": "markdown",
   "id": "e502ab4b-f881-47fa-a199-1d9604807537",
   "metadata": {
    "papermill": {},
    "tags": []
   },
   "source": [
    "**Author:** [Benjamin Filly](https://www.linkedin.com/in/benjamin-filly-05427727a/)"
   ]
  },
  {
   "cell_type": "markdown",
   "id": "6a243ff9-401f-4922-b6f2-2873dd421a1e",
   "metadata": {
    "papermill": {},
    "tags": []
   },
   "source": [
    "**Last update:** 2023-06-13 (Created: 2023-06-08)"
   ]
  },
  {
   "cell_type": "markdown",
   "id": "b447e3a8-ced8-4831-bbfc-ca5a7466df6f",
   "metadata": {
    "papermill": {},
    "tags": []
   },
   "source": [
    "**Description:** This notebook will show how to extract characters from a string."
   ]
  },
  {
   "cell_type": "markdown",
   "id": "8848fad9-b586-4662-bb43-19c52e25967a",
   "metadata": {
    "papermill": {},
    "tags": []
   },
   "source": [
    "**References:**\n",
    "- [Python Extraction method](https://note.nkmk.me/en/python-str-extract/#:~:text=You%20can%20extract%20a%20substring%20in%20the%20range%20start%20%3C%3D%20x,the%20end%20of%20the%20string.&text=You%20can%20also%20use%20negative%20values.&text=If%20start%20%3E%20end%20%2C%20no%20error,empty%20string%20''%20is%20extracted.)"
   ]
  },
  {
   "cell_type": "markdown",
   "id": "be71fe01-3f32-4bef-b52f-14559736a10e",
   "metadata": {
    "papermill": {},
    "tags": []
   },
   "source": [
    "## Input"
   ]
  },
  {
   "cell_type": "markdown",
   "id": "71db5801-b569-4661-8a73-7ab6674a643a",
   "metadata": {
    "papermill": {},
    "tags": []
   },
   "source": [
    "### Setup Variables\n",
    "- `string`: character string to be extracted\n",
    "- `start_string`: It represents the starting index position of the substring in the variable `string`.\n",
    "- `end_string`: It represents the ending index position (exclusive) of the substring in the variable `string`.\n",
    "- `step`: It determines the step or stride size used to select characters from the `string`. In this case, every second character is selected due to a step value of 2."
   ]
  },
  {
   "cell_type": "code",
   "execution_count": null,
   "id": "56811afa-732c-46fd-b3a8-f04e4baada05",
   "metadata": {
    "papermill": {},
    "tags": []
   },
   "outputs": [],
   "source": [
    "string = \"Hello, World!\"\n",
    "start_string = 7\n",
    "end_string = 12\n",
    "step = 2"
   ]
  },
  {
   "cell_type": "markdown",
   "id": "f2ad5c91-6389-4bd2-8537-7e0088b93533",
   "metadata": {
    "papermill": {},
    "tags": []
   },
   "source": [
    "## Model"
   ]
  },
  {
   "cell_type": "markdown",
   "id": "4b1df285-3221-458d-899d-bd2a0bf3fe0a",
   "metadata": {
    "papermill": {},
    "tags": []
   },
   "source": [
    "### Extract characters using index"
   ]
  },
  {
   "cell_type": "code",
   "execution_count": null,
   "id": "9e53f6cc-5aec-483a-8d0d-02225202d4d8",
   "metadata": {
    "papermill": {},
    "tags": []
   },
   "outputs": [],
   "source": [
    "substring = string[start_string:end_string]\n",
    "substring"
   ]
  },
  {
   "cell_type": "markdown",
   "id": "b90ad334-1f70-4ac8-9295-41cea704a714",
   "metadata": {
    "papermill": {},
    "tags": []
   },
   "source": [
    "### Extract characters using steps"
   ]
  },
  {
   "cell_type": "code",
   "execution_count": null,
   "id": "c1e3a990-42d2-409b-876b-6e9da577bd0d",
   "metadata": {
    "papermill": {},
    "tags": []
   },
   "outputs": [],
   "source": [
    "steps = string[::step]\n",
    "steps"
   ]
  },
  {
   "cell_type": "markdown",
   "id": "d3d1a3d3-b21e-493c-8db1-2a76dbff62fe",
   "metadata": {
    "papermill": {},
    "tags": []
   },
   "source": [
    "## Output"
   ]
  },
  {
   "cell_type": "markdown",
   "id": "9a45ecdc-5c4f-458b-b292-a4c05564a6d7",
   "metadata": {
    "papermill": {},
    "tags": []
   },
   "source": [
    "### Display result 1"
   ]
  },
  {
   "cell_type": "code",
   "execution_count": null,
   "id": "8439ed05-4a87-4ca5-af92-5f979730bd2e",
   "metadata": {
    "papermill": {},
    "tags": []
   },
   "outputs": [],
   "source": [
    "print(string)\n",
    "print(f\"Characters extracted from index '{start_string}' to index '{end_string}':\", substring)"
   ]
  },
  {
   "cell_type": "markdown",
   "id": "521163e1-1332-4061-b3d1-3dfaf214fdf4",
   "metadata": {
    "papermill": {},
    "tags": []
   },
   "source": [
    "### Display result 2"
   ]
  },
  {
   "cell_type": "code",
   "execution_count": null,
   "id": "2eb5c03e-f69a-42d3-a3b7-913970d8a8fe",
   "metadata": {
    "papermill": {},
    "tags": []
   },
   "outputs": [],
   "source": [
    "print(string)\n",
    "print(f\"Characters extracted every every '{step}' step started at 0:\", steps)"
   ]
  },
  {
   "cell_type": "markdown",
   "id": "8acc17ec-b543-49ef-befb-f57a96c08878",
   "metadata": {
    "papermill": {},
    "tags": []
   },
   "source": [
    " "
   ]
  }
 ],
 "metadata": {
  "kernelspec": {
   "display_name": "Python 3",
   "language": "python",
   "name": "python3"
  },
  "language_info": {
   "codemirror_mode": {
    "name": "ipython",
    "version": 3
   },
   "file_extension": ".py",
   "mimetype": "text/x-python",
   "name": "python",
   "nbconvert_exporter": "python",
   "pygments_lexer": "ipython3",
   "version": "3.9.6"
  },
  "naas": {
   "notebook_id": "4d33b51aeb8bff0d6e56610f53de035ed263c78d3f2399eaee3990e4ccac4b85",
   "notebook_path": "Python/Python_Extract_characters_from_string.ipynb"
  },
  "papermill": {
   "default_parameters": {},
   "environment_variables": {},
   "parameters": {},
   "version": "2.4.0"
  },
  "widgets": {
   "application/vnd.jupyter.widget-state+json": {
    "state": {},
    "version_major": 2,
    "version_minor": 0
   }
  }
 },
 "nbformat": 4,
 "nbformat_minor": 5
}