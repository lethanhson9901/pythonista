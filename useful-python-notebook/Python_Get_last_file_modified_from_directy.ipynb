{
 "cells": [
  {
   "cell_type": "markdown",
   "id": "83b231a3-c0fb-4bad-a540-c194d76919c7",
   "metadata": {
    "papermill": {},
    "tags": []
   },
   "source": [
    "<img width=\"10%\" alt=\"Naas\" src=\"https://landen.imgix.net/jtci2pxwjczr/assets/5ice39g4.png?w=160\"/>"
   ]
  },
  {
   "cell_type": "markdown",
   "id": "f341f94a-80b4-44e3-9344-5fe25f374866",
   "metadata": {
    "papermill": {},
    "tags": []
   },
   "source": [
    "# Python - Get last file modified from directy\n",
    "<a href=\"https://app.naas.ai/user-redirect/naas/downloader?url=https://raw.githubusercontent.com/jupyter-naas/awesome-notebooks/master/Python/Python_Get_last_file_modified_from_directy.ipynb\" target=\"_parent\"><img src=\"https://naasai-public.s3.eu-west-3.amazonaws.com/Open_in_Naas_Lab.svg\"/></a><br><br><a href=\"https://bit.ly/3JyWIk6\">Give Feedback</a> | <a href=\"https://github.com/jupyter-naas/awesome-notebooks/issues/new?assignees=&labels=bug&template=bug_report.md&title=Python+-+Get+last+file+modified+from+directy:+Error+short+description\">Bug report</a>"
   ]
  },
  {
   "cell_type": "markdown",
   "id": "efcf0028-3912-4c3a-b6e1-3e82fb1ddb1f",
   "metadata": {
    "papermill": {},
    "tags": []
   },
   "source": [
    "**Tags:** #python #os #library #file #modified #directory"
   ]
  },
  {
   "cell_type": "markdown",
   "id": "c6e9236e-91b6-41c2-9cce-fb6c62ced4b5",
   "metadata": {
    "papermill": {},
    "tags": []
   },
   "source": [
    "**Author:** [Florent Ravenel](https://www.linkedin.com/in/florent-ravenel/)"
   ]
  },
  {
   "cell_type": "markdown",
   "id": "d53f72e2-ec2a-49be-a2a4-10f2c9eb54fc",
   "metadata": {
    "papermill": {},
    "tags": []
   },
   "source": [
    "**Last update:** 2023-04-12 (Created: 2023-02-23)"
   ]
  },
  {
   "cell_type": "markdown",
   "id": "1fc1c03a-1e33-47fa-946d-b49000579d3e",
   "metadata": {
    "papermill": {},
    "tags": []
   },
   "source": [
    "**Description:** This notebook will show how to get the last file modified from a directory using the os library."
   ]
  },
  {
   "cell_type": "markdown",
   "id": "21f21f0d-847f-4423-840f-fea21cb73255",
   "metadata": {
    "papermill": {},
    "tags": []
   },
   "source": [
    "**References:**\n",
    "- [os library documentation](https://docs.python.org/3/library/os.html)\n",
    "- [os.listdir() documentation](https://docs.python.org/3/library/os.html#os.listdir)"
   ]
  },
  {
   "cell_type": "markdown",
   "id": "eb670c7c-d688-4879-9104-8758bd8fa69d",
   "metadata": {
    "papermill": {},
    "tags": []
   },
   "source": [
    "## Input"
   ]
  },
  {
   "cell_type": "markdown",
   "id": "98e0dbf4-f74d-4fa1-96b2-e764cd454df9",
   "metadata": {
    "papermill": {},
    "tags": []
   },
   "source": [
    "### Import libraries"
   ]
  },
  {
   "cell_type": "code",
   "execution_count": null,
   "id": "fe1baedf-bb55-47c1-8a03-5e1caa875ff0",
   "metadata": {
    "papermill": {},
    "tags": []
   },
   "outputs": [],
   "source": [
    "import os"
   ]
  },
  {
   "cell_type": "markdown",
   "id": "ed6ea630-ece8-4414-9e61-5ac315bf1e3b",
   "metadata": {
    "papermill": {},
    "tags": []
   },
   "source": [
    "### Setup Variables"
   ]
  },
  {
   "cell_type": "code",
   "execution_count": null,
   "id": "23a1133f-4b6f-4fc8-93e1-ca048dae5dfa",
   "metadata": {
    "papermill": {},
    "tags": []
   },
   "outputs": [],
   "source": [
    "# Set the directory path\n",
    "directory_path = \"./\""
   ]
  },
  {
   "cell_type": "markdown",
   "id": "1252453d-15fa-41f0-8dcd-c2db6de84a8d",
   "metadata": {
    "papermill": {},
    "tags": []
   },
   "source": [
    "## Model"
   ]
  },
  {
   "cell_type": "markdown",
   "id": "b74e175a-cd85-4438-9777-303582bcaaa1",
   "metadata": {
    "papermill": {},
    "tags": []
   },
   "source": [
    "### Get last file modified"
   ]
  },
  {
   "cell_type": "code",
   "execution_count": null,
   "id": "c7a4c2ae-03ff-4920-9dc2-8672ec89e1fc",
   "metadata": {
    "papermill": {},
    "tags": []
   },
   "outputs": [],
   "source": [
    "# Get the list of files in the directory\n",
    "files_list = os.listdir(directory_path)\n",
    "# Get the last file modified\n",
    "last_file_modified = max(files_list, key=os.path.getmtime)"
   ]
  },
  {
   "cell_type": "markdown",
   "id": "69c555e5-3d27-4aee-973a-d9fcbd9d2b97",
   "metadata": {
    "papermill": {},
    "tags": []
   },
   "source": [
    "## Output"
   ]
  },
  {
   "cell_type": "markdown",
   "id": "047f2656-98ff-48bc-aa1a-92ab6dc092e8",
   "metadata": {
    "papermill": {},
    "tags": []
   },
   "source": [
    "### Display result"
   ]
  },
  {
   "cell_type": "code",
   "execution_count": null,
   "id": "4ba64252-a73d-438b-8514-d9c636aab338",
   "metadata": {
    "papermill": {},
    "tags": []
   },
   "outputs": [],
   "source": [
    "# Print the last file modified\n",
    "print(f\"The last file modified is {last_file_modified}\")"
   ]
  },
  {
   "cell_type": "markdown",
   "id": "c26e036f-c15b-4b96-9b00-7f13070a40cf",
   "metadata": {
    "papermill": {},
    "tags": []
   },
   "source": [
    " "
   ]
  }
 ],
 "metadata": {
  "kernelspec": {
   "display_name": "Python 3",
   "language": "python",
   "name": "python3"
  },
  "language_info": {
   "codemirror_mode": {
    "name": "ipython",
    "version": 3
   },
   "file_extension": ".py",
   "mimetype": "text/x-python",
   "name": "python",
   "nbconvert_exporter": "python",
   "pygments_lexer": "ipython3",
   "version": "3.9.6"
  },
  "naas": {
   "notebook_id": "8a57a4125fe02a9041a6723a3e80eea843fe2a5efb705b899c2558c8bbd5248e",
   "notebook_path": "Python/Python_Get_last_file_modified_from_directy.ipynb"
  },
  "papermill": {
   "default_parameters": {},
   "environment_variables": {},
   "parameters": {},
   "version": "2.4.0"
  },
  "widgets": {
   "application/vnd.jupyter.widget-state+json": {
    "state": {},
    "version_major": 2,
    "version_minor": 0
   }
  }
 },
 "nbformat": 4,
 "nbformat_minor": 5
}