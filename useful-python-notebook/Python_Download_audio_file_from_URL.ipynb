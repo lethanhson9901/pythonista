{
 "cells": [
  {
   "cell_type": "markdown",
   "id": "selected-stock",
   "metadata": {
    "papermill": {},
    "tags": []
   },
   "source": [
    "<img width=\"10%\" alt=\"Naas\" src=\"https://landen.imgix.net/jtci2pxwjczr/assets/5ice39g4.png?w=160\"/>"
   ]
  },
  {
   "cell_type": "markdown",
   "id": "proved-olympus",
   "metadata": {
    "papermill": {},
    "tags": []
   },
   "source": [
    "# Python - Download audio file from URL\n",
    "<a href=\"https://app.naas.ai/user-redirect/naas/downloader?url=https://raw.githubusercontent.com/jupyter-naas/awesome-notebooks/master/Python/Python_Download_audio_file_from_URL.ipynb\" target=\"_parent\"><img src=\"https://naasai-public.s3.eu-west-3.amazonaws.com/Open_in_Naas_Lab.svg\"/></a><br><br><a href=\"https://bit.ly/3JyWIk6\">Give Feedback</a> | <a href=\"https://github.com/jupyter-naas/awesome-notebooks/issues/new?assignees=&labels=bug&template=bug_report.md&title=Python+-+Download+audio+file+from+URL:+Error+short+description\">Bug report</a>"
   ]
  },
  {
   "cell_type": "markdown",
   "id": "1f0d988a-15e5-4f88-b400-781706f0a683",
   "metadata": {
    "papermill": {},
    "tags": []
   },
   "source": [
    "**Tags:** #python #download #snippet #url #naas #operations"
   ]
  },
  {
   "cell_type": "markdown",
   "id": "d6a76fe1-d6aa-4f18-b852-e788476cd7d0",
   "metadata": {
    "papermill": {},
    "tags": []
   },
   "source": [
    "**Author:** [Florent Ravenel](https://www.linkedin.com/in/florent-ravenel/)"
   ]
  },
  {
   "cell_type": "markdown",
   "id": "6399169e-15ce-4b62-b3b6-6d2ffb3ab936",
   "metadata": {
    "papermill": {},
    "tags": []
   },
   "source": [
    "**Last update:** 2023-07-23 (Created: 2023-07-23)"
   ]
  },
  {
   "cell_type": "markdown",
   "id": "naas-description",
   "metadata": {
    "papermill": {},
    "tags": [
     "description"
    ]
   },
   "source": [
    "**Description:** This notebook demonstrates how to download audio file from an URL using Python."
   ]
  },
  {
   "cell_type": "markdown",
   "id": "43b70b2a-e159-4f77-8d32-871dd789dd6c",
   "metadata": {
    "papermill": {},
    "tags": [
     "description"
    ]
   },
   "source": [
    "**References:**\n",
    "- [response.content – Python requests](https://www.geeksforgeeks.org/response-content-python-requests/)"
   ]
  },
  {
   "cell_type": "markdown",
   "id": "input_cell",
   "metadata": {
    "papermill": {},
    "tags": []
   },
   "source": [
    "## Input"
   ]
  },
  {
   "cell_type": "markdown",
   "id": "import_cell",
   "metadata": {
    "papermill": {},
    "tags": []
   },
   "source": [
    "### Import libraries"
   ]
  },
  {
   "cell_type": "code",
   "execution_count": 1,
   "id": "closing-mercury",
   "metadata": {
    "papermill": {},
    "tags": []
   },
   "outputs": [],
   "source": [
    "import requests"
   ]
  },
  {
   "cell_type": "markdown",
   "id": "ef24f35b-b42a-4c95-b7e4-a79f9ab62c6b",
   "metadata": {
    "papermill": {},
    "tags": []
   },
   "source": [
    "### Setup Variables\n",
    "- `audio_url`: Audio URL"
   ]
  },
  {
   "cell_type": "code",
   "execution_count": 2,
   "id": "c1a428b8-c4f4-4bcf-870e-e910a755d7ce",
   "metadata": {
    "papermill": {},
    "tags": []
   },
   "outputs": [],
   "source": [
    "# Inputs\n",
    "audio_url = \"https://filesamples.com/samples/audio/m4a/sample4.m4a\""
   ]
  },
  {
   "cell_type": "markdown",
   "id": "model_cell",
   "metadata": {
    "papermill": {},
    "tags": []
   },
   "source": [
    "## Model"
   ]
  },
  {
   "cell_type": "markdown",
   "id": "display_cell",
   "metadata": {
    "papermill": {},
    "tags": []
   },
   "source": [
    "### Create output path"
   ]
  },
  {
   "cell_type": "code",
   "execution_count": 3,
   "id": "60a1bfca-cb1c-401e-8a01-73bc3552576c",
   "metadata": {
    "papermill": {},
    "tags": []
   },
   "outputs": [],
   "source": [
    "# Path to save the downloaded file\n",
    "output_path = audio_url.split('/')[-1]\n",
    "print(\"➡️ Output path:\", output_path)"
   ]
  },
  {
   "cell_type": "markdown",
   "id": "output_cell",
   "metadata": {
    "papermill": {},
    "tags": []
   },
   "source": [
    "## Output"
   ]
  },
  {
   "cell_type": "markdown",
   "id": "51f45bc0-42ec-4297-91e6-5330084b69fb",
   "metadata": {
    "papermill": {},
    "tags": []
   },
   "source": [
    "### Download audio file"
   ]
  },
  {
   "cell_type": "code",
   "execution_count": 5,
   "id": "working-world",
   "metadata": {
    "papermill": {},
    "tags": []
   },
   "outputs": [],
   "source": [
    "def download_audio(url, output_path):\n",
    "    # Send a GET request to download the file\n",
    "    response = requests.get(url)\n",
    "\n",
    "    # Check if the request was successful\n",
    "    if response.status_code == 200:\n",
    "        # Save the content of the response (M4A file) to a local file\n",
    "        with open(output_path, \"wb\") as file:\n",
    "            file.write(response.content)\n",
    "        print(\"✅ M4A file downloaded successfully.\")\n",
    "    else:\n",
    "        print(\"❌ Failed to download the audio file.\")\n",
    "        \n",
    "download_audio(audio_url, output_path)"
   ]
  }
 ],
 "metadata": {
  "kernelspec": {
   "display_name": "Python 3",
   "language": "python",
   "name": "python3"
  },
  "language_info": {
   "codemirror_mode": {
    "name": "ipython",
    "version": 3
   },
   "file_extension": ".py",
   "mimetype": "text/x-python",
   "name": "python",
   "nbconvert_exporter": "python",
   "pygments_lexer": "ipython3",
   "version": "3.9.6"
  },
  "naas": {
   "notebook_id": "4c668b1964bb6e1a96dfe7a4ae9cfd6e4a9054a13f2852badfef2a5f5cc31077",
   "notebook_path": "Python/Python_Download_audio_file_from_URL.ipynb"
  },
  "papermill": {
   "default_parameters": {},
   "environment_variables": {},
   "parameters": {},
   "version": "2.3.3"
  }
 },
 "nbformat": 4,
 "nbformat_minor": 5
}