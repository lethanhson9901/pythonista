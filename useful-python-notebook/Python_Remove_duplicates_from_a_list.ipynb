{
 "cells": [
  {
   "cell_type": "markdown",
   "id": "2d54114c-74e1-4eb7-b837-414fefd18d6c",
   "metadata": {
    "papermill": {},
    "tags": []
   },
   "source": [
    "<img width=\"10%\" alt=\"Naas\" src=\"https://landen.imgix.net/jtci2pxwjczr/assets/5ice39g4.png?w=160\"/>"
   ]
  },
  {
   "cell_type": "markdown",
   "id": "0f6d0cd2-bff3-4473-a7cc-eea1aa30c8f1",
   "metadata": {
    "papermill": {},
    "tags": []
   },
   "source": [
    "# Python - Remove duplicates from a list\n",
    "<a href=\"https://app.naas.ai/user-redirect/naas/downloader?url=https://raw.githubusercontent.com/jupyter-naas/awesome-notebooks/master/Python/Python_Remove_duplicates_from_a_list.ipynb\" target=\"_parent\"><img src=\"https://naasai-public.s3.eu-west-3.amazonaws.com/Open_in_Naas_Lab.svg\"/></a><br><br><a href=\"https://bit.ly/3JyWIk6\">Give Feedback</a> | <a href=\"https://github.com/jupyter-naas/awesome-notebooks/issues/new?assignees=&labels=bug&template=bug_report.md&title=Python+-+Remove+duplicates+from+a+list:+Error+short+description\">Bug report</a>"
   ]
  },
  {
   "cell_type": "markdown",
   "id": "34a76e98-01b4-4575-860c-848b38e5e85c",
   "metadata": {
    "papermill": {},
    "tags": []
   },
   "source": [
    "**Tags:** #python #list #remove #duplicates #function #data"
   ]
  },
  {
   "cell_type": "markdown",
   "id": "cb78027b-2213-4688-a48f-3e2d9379e852",
   "metadata": {
    "papermill": {},
    "tags": []
   },
   "source": [
    "**Author:** [Florent Ravenel](https://www.linkedin.com/in/florent-ravenel)"
   ]
  },
  {
   "cell_type": "markdown",
   "id": "67a2b670-2afe-4ff3-8128-5a8b630f846d",
   "metadata": {
    "papermill": {},
    "tags": []
   },
   "source": [
    "**Last update:** 2023-08-28 (Created: 2023-08-28)"
   ]
  },
  {
   "cell_type": "markdown",
   "id": "6055520e-d76c-4ccb-97a0-e618d6954d88",
   "metadata": {
    "papermill": {},
    "tags": []
   },
   "source": [
    "**Description:** This notebook explains how to remove duplicates from a list in Python. It is usefull for data cleaning and data wrangling."
   ]
  },
  {
   "cell_type": "markdown",
   "id": "4be1e24c-ea65-449f-afdf-cb418017eb4d",
   "metadata": {
    "papermill": {},
    "tags": []
   },
   "source": [
    "**References:**\n",
    "- [Python List remove()](https://www.programiz.com/python-programming/methods/list/remove)\n",
    "- [Python List comprehension](https://www.programiz.com/python-programming/list-comprehension)"
   ]
  },
  {
   "cell_type": "markdown",
   "id": "feba6ff4-9fda-4f10-9821-66852f1f6489",
   "metadata": {
    "papermill": {},
    "tags": []
   },
   "source": [
    "## Input"
   ]
  },
  {
   "cell_type": "markdown",
   "id": "c5f87c3b-4156-4af1-beae-78d8584ea5ed",
   "metadata": {
    "papermill": {},
    "tags": []
   },
   "source": [
    "### Import libraries"
   ]
  },
  {
   "cell_type": "code",
   "execution_count": null,
   "id": "167f08fb-db7e-4921-bee8-95f34f6475b1",
   "metadata": {
    "papermill": {},
    "tags": []
   },
   "outputs": [],
   "source": [
    "# No libraries needed"
   ]
  },
  {
   "cell_type": "markdown",
   "id": "ec8c34ed-8bd4-4a64-9759-79e35960c11a",
   "metadata": {
    "papermill": {},
    "tags": []
   },
   "source": [
    "### Setup variables"
   ]
  },
  {
   "cell_type": "code",
   "execution_count": null,
   "id": "29a62971-11c5-4de1-bf12-dcc1a11d1ad2",
   "metadata": {
    "papermill": {},
    "tags": []
   },
   "outputs": [],
   "source": [
    "# Create a list with duplicates\n",
    "my_list = [1, 2, 3, 4, 4, 5, 6, 6, 7, 8, 8, 9]"
   ]
  },
  {
   "cell_type": "markdown",
   "id": "ad91dde3-7fe0-4fdf-9f23-0d3a83770dbb",
   "metadata": {
    "papermill": {},
    "tags": []
   },
   "source": [
    "## Model"
   ]
  },
  {
   "cell_type": "markdown",
   "id": "1b05a3fe-a9bf-432f-8a6a-2c00116fb858",
   "metadata": {
    "papermill": {},
    "tags": []
   },
   "source": [
    "### Remove duplicates from a list"
   ]
  },
  {
   "cell_type": "code",
   "execution_count": null,
   "id": "ac17e11d-3ff7-4381-b4b5-d68f1c5973b0",
   "metadata": {
    "papermill": {},
    "tags": []
   },
   "outputs": [],
   "source": [
    "# Create a new list with no duplicates\n",
    "my_list_no_duplicates = list(dict.fromkeys(my_list))\n",
    "# Print the new list\n",
    "print(my_list_no_duplicates)\n",
    "# Alternative with list comprehension\n",
    "my_list_no_duplicates_2 = [x for x in my_list if x not in my_list_no_duplicates]\n",
    "# Print the new list\n",
    "print(my_list_no_duplicates_2)"
   ]
  },
  {
   "cell_type": "markdown",
   "id": "3314b621-9404-482e-9051-a5cd3a56e966",
   "metadata": {
    "papermill": {},
    "tags": []
   },
   "source": [
    "## Output"
   ]
  },
  {
   "cell_type": "markdown",
   "id": "497d5c81-3f75-442d-bfac-7194cb97b20e",
   "metadata": {
    "papermill": {},
    "tags": []
   },
   "source": [
    "### Display result"
   ]
  },
  {
   "cell_type": "code",
   "execution_count": null,
   "id": "0928d9b9-5e39-421f-bb41-6b61af236f99",
   "metadata": {
    "papermill": {},
    "tags": []
   },
   "outputs": [],
   "source": [
    "# Print the new list\n",
    "print(my_list_no_duplicates)\n",
    "# Print the new list\n",
    "print(my_list_no_duplicates_2)"
   ]
  },
  {
   "cell_type": "markdown",
   "id": "d0b0b66a-b931-4ad3-ba46-15d21a381cf9",
   "metadata": {
    "papermill": {},
    "tags": []
   },
   "source": [
    " "
   ]
  }
 ],
 "metadata": {
  "kernelspec": {
   "display_name": "Python 3",
   "language": "python",
   "name": "python3"
  },
  "language_info": {
   "codemirror_mode": {
    "name": "ipython",
    "version": 3
   },
   "file_extension": ".py",
   "mimetype": "text/x-python",
   "name": "python",
   "nbconvert_exporter": "python",
   "pygments_lexer": "ipython3",
   "version": "3.9.6"
  },
  "naas": {
   "notebook_id": "cfcf72d570d6c8d8d5cb799af70b6e84175428ca194c3838cbaad7876b61aae1",
   "notebook_path": "Python/Python_Remove_duplicates_from_a_list.ipynb"
  },
  "papermill": {
   "default_parameters": {},
   "environment_variables": {},
   "parameters": {},
   "version": "2.4.0"
  },
  "widgets": {
   "application/vnd.jupyter.widget-state+json": {
    "state": {},
    "version_major": 2,
    "version_minor": 0
   }
  }
 },
 "nbformat": 4,
 "nbformat_minor": 5
}