{
 "cells": [
  {
   "cell_type": "markdown",
   "id": "a375df46-3e8d-496c-b9f2-956a649ee2b0",
   "metadata": {
    "papermill": {},
    "tags": []
   },
   "source": [
    "<img width=\"10%\" alt=\"Naas\" src=\"https://landen.imgix.net/jtci2pxwjczr/assets/5ice39g4.png?w=160\"/>"
   ]
  },
  {
   "cell_type": "markdown",
   "id": "7da76030-0b3c-4c2f-9e7b-36043d3cd1a1",
   "metadata": {
    "papermill": {},
    "tags": []
   },
   "source": [
    "# Python - Convert string to URL\n",
    "<a href=\"https://app.naas.ai/user-redirect/naas/downloader?url=https://raw.githubusercontent.com/jupyter-naas/awesome-notebooks/master/Python/Python_Convert_string_to_URL.ipynb\" target=\"_parent\"><img src=\"https://naasai-public.s3.eu-west-3.amazonaws.com/Open_in_Naas_Lab.svg\"/></a><br><br><a href=\"https://bit.ly/3JyWIk6\">Give Feedback</a> | <a href=\"https://github.com/jupyter-naas/awesome-notebooks/issues/new?assignees=&labels=bug&template=bug_report.md&title=Python+-+Convert+string+to+URL:+Error+short+description\">Bug report</a>"
   ]
  },
  {
   "cell_type": "markdown",
   "id": "a783de75-d983-43ac-8323-a92bca66a8c3",
   "metadata": {
    "papermill": {},
    "tags": []
   },
   "source": [
    "**Tags:** #python #urllib #string #url #convert #library"
   ]
  },
  {
   "cell_type": "markdown",
   "id": "e502ab4b-f881-47fa-a199-1d9604807537",
   "metadata": {
    "papermill": {},
    "tags": []
   },
   "source": [
    "**Author:** [Florent Ravenel](http://linkedin.com/in/florent-ravenel)"
   ]
  },
  {
   "cell_type": "markdown",
   "id": "8b1d1d7a-de74-4b93-b3cd-96fa4b627a1f",
   "metadata": {
    "papermill": {},
    "tags": []
   },
   "source": [
    "**Last update:** 2023-04-12 (Created: 2023-03-29)"
   ]
  },
  {
   "cell_type": "markdown",
   "id": "b447e3a8-ced8-4831-bbfc-ca5a7466df6f",
   "metadata": {
    "papermill": {},
    "tags": []
   },
   "source": [
    "**Description:** This notebook will show how to convert a string to a URL using urllib."
   ]
  },
  {
   "cell_type": "markdown",
   "id": "8848fad9-b586-4662-bb43-19c52e25967a",
   "metadata": {
    "papermill": {},
    "tags": []
   },
   "source": [
    "**References:**\n",
    "- [urllib documentation](https://docs.python.org/3/library/urllib.parse.html)\n",
    "- [Python 3 Tutorial - String to URL](https://www.tutorialspoint.com/python3/python_strings.htm)"
   ]
  },
  {
   "cell_type": "markdown",
   "id": "be71fe01-3f32-4bef-b52f-14559736a10e",
   "metadata": {
    "papermill": {},
    "tags": []
   },
   "source": [
    "## Input"
   ]
  },
  {
   "cell_type": "markdown",
   "id": "60721214-a77c-4c1d-9d85-caf9de5854bd",
   "metadata": {
    "papermill": {},
    "tags": []
   },
   "source": [
    "### Import libraries"
   ]
  },
  {
   "cell_type": "code",
   "execution_count": 1,
   "id": "59e40256-55a1-4966-9732-0d77e2f83dee",
   "metadata": {
    "papermill": {},
    "tags": []
   },
   "outputs": [],
   "source": [
    "import urllib.parse"
   ]
  },
  {
   "cell_type": "markdown",
   "id": "71db5801-b569-4661-8a73-7ab6674a643a",
   "metadata": {
    "papermill": {},
    "tags": []
   },
   "source": [
    "### Setup Variables\n",
    "- `string`: string to be converted to URL"
   ]
  },
  {
   "cell_type": "code",
   "execution_count": 2,
   "id": "56811afa-732c-46fd-b3a8-f04e4baada05",
   "metadata": {
    "papermill": {},
    "tags": []
   },
   "outputs": [],
   "source": [
    "string = \"This is a string\""
   ]
  },
  {
   "cell_type": "markdown",
   "id": "f2ad5c91-6389-4bd2-8537-7e0088b93533",
   "metadata": {
    "papermill": {},
    "tags": []
   },
   "source": [
    "## Model"
   ]
  },
  {
   "cell_type": "markdown",
   "id": "4b1df285-3221-458d-899d-bd2a0bf3fe0a",
   "metadata": {
    "papermill": {},
    "tags": []
   },
   "source": [
    "### Convert string to URL\n",
    "The `quote()` function replaces special characters in the string with their percent-encoded equivalent, which is necessary for URLs. The resulting URL can be used in your Python code or in a web browser. <br>\n",
    "Note that if you need to convert the URL back to a string, you can use the unquote() "
   ]
  },
  {
   "cell_type": "code",
   "execution_count": 3,
   "id": "72a0a05f-2935-4505-8a09-3602e791774c",
   "metadata": {
    "papermill": {},
    "tags": []
   },
   "outputs": [],
   "source": [
    "url = urllib.parse.quote(string)"
   ]
  },
  {
   "cell_type": "markdown",
   "id": "d3d1a3d3-b21e-493c-8db1-2a76dbff62fe",
   "metadata": {
    "papermill": {},
    "tags": []
   },
   "source": [
    "## Output"
   ]
  },
  {
   "cell_type": "markdown",
   "id": "9a45ecdc-5c4f-458b-b292-a4c05564a6d7",
   "metadata": {
    "papermill": {},
    "tags": []
   },
   "source": [
    "### Display result"
   ]
  },
  {
   "cell_type": "code",
   "execution_count": 4,
   "id": "8439ed05-4a87-4ca5-af92-5f979730bd2e",
   "metadata": {
    "papermill": {},
    "tags": []
   },
   "outputs": [],
   "source": [
    "print(url)"
   ]
  },
  {
   "cell_type": "markdown",
   "id": "8acc17ec-b543-49ef-befb-f57a96c08878",
   "metadata": {
    "papermill": {},
    "tags": []
   },
   "source": [
    " "
   ]
  }
 ],
 "metadata": {
  "kernelspec": {
   "display_name": "Python 3",
   "language": "python",
   "name": "python3"
  },
  "language_info": {
   "codemirror_mode": {
    "name": "ipython",
    "version": 3
   },
   "file_extension": ".py",
   "mimetype": "text/x-python",
   "name": "python",
   "nbconvert_exporter": "python",
   "pygments_lexer": "ipython3",
   "version": "3.9.6"
  },
  "naas": {
   "notebook_id": "8dacf09e80d19c288d77ccdf43ba69339901ed23a093c040857e1e6abdc05eee",
   "notebook_path": "Python/Python_Convert_string_to_URL.ipynb"
  },
  "papermill": {
   "default_parameters": {},
   "environment_variables": {},
   "parameters": {},
   "version": "2.4.0"
  },
  "widgets": {
   "application/vnd.jupyter.widget-state+json": {
    "state": {},
    "version_major": 2,
    "version_minor": 0
   }
  }
 },
 "nbformat": 4,
 "nbformat_minor": 5
}