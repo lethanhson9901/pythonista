{
 "cells": [
  {
   "cell_type": "markdown",
   "id": "3aa858af-067d-4831-9b9a-5f3e918efac3",
   "metadata": {
    "papermill": {},
    "tags": []
   },
   "source": [
    "<img width=\"10%\" alt=\"Naas\" src=\"https://landen.imgix.net/jtci2pxwjczr/assets/5ice39g4.png?w=160\"/>"
   ]
  },
  {
   "cell_type": "markdown",
   "id": "d36356f7-4c3f-4758-a00e-84826514535c",
   "metadata": {
    "papermill": {},
    "tags": []
   },
   "source": [
    "# Python - Save dict to pickle\n",
    "<a href=\"https://app.naas.ai/user-redirect/naas/downloader?url=https://raw.githubusercontent.com/jupyter-naas/awesome-notebooks/master/Python/Python_Save_dict_to_pickle.ipynb\" target=\"_parent\"><img src=\"https://naasai-public.s3.eu-west-3.amazonaws.com/Open_in_Naas_Lab.svg\"/></a><br><br><a href=\"https://bit.ly/3JyWIk6\">Give Feedback</a> | <a href=\"https://github.com/jupyter-naas/awesome-notebooks/issues/new?assignees=&labels=bug&template=bug_report.md&title=Python+-+Save+dict+to+pickle:+Error+short+description\">Bug report</a>"
   ]
  },
  {
   "cell_type": "markdown",
   "id": "c616068c-4b2d-444c-b6d1-311ae7047723",
   "metadata": {
    "papermill": {},
    "tags": []
   },
   "source": [
    "**Tags:** #python #pickle #file #save #data #io"
   ]
  },
  {
   "cell_type": "markdown",
   "id": "3bb73f8f-7dd1-4803-a9e2-b5dd1f31918f",
   "metadata": {
    "papermill": {},
    "tags": []
   },
   "source": [
    "**Author:** [Kaushal Krishna](https://www.linkedin.com/in/kaushal-krishna-a48959153/)"
   ]
  },
  {
   "cell_type": "markdown",
   "id": "47f9b134-8104-4017-b82f-b7f694946d12",
   "metadata": {
    "papermill": {},
    "tags": []
   },
   "source": [
    "**Last update:** 2023-04-12 (Created: 2023-03-13)"
   ]
  },
  {
   "cell_type": "markdown",
   "id": "d3c4f486-789b-4ed6-bc4e-10f42242b425",
   "metadata": {
    "papermill": {},
    "tags": []
   },
   "source": [
    "**Description:** This notebook saves a dictionary to pickle object. Saving a dictionary using pickle is a quick and easy process. With just a few lines of code, you can store your dictionary data in a binary format that can be easily loaded later on."
   ]
  },
  {
   "cell_type": "markdown",
   "id": "f89f9cf2-8555-4461-86a6-da17482c84fc",
   "metadata": {
    "papermill": {},
    "tags": []
   },
   "source": [
    "**References:**\n",
    "- [Python pickle module](https://docs.python.org/3/library/pickle.html)"
   ]
  },
  {
   "cell_type": "markdown",
   "id": "9e80b263-878f-417a-aa26-6f46640781e2",
   "metadata": {
    "papermill": {},
    "tags": []
   },
   "source": [
    "## Input"
   ]
  },
  {
   "cell_type": "markdown",
   "id": "990d6312-352f-4121-a6ba-986f981a6075",
   "metadata": {
    "papermill": {},
    "tags": []
   },
   "source": [
    "### Import libraries"
   ]
  },
  {
   "cell_type": "code",
   "execution_count": null,
   "id": "1a776e43-a2b8-46de-b982-61b1d220402d",
   "metadata": {
    "papermill": {},
    "tags": []
   },
   "outputs": [],
   "source": [
    "import pickle"
   ]
  },
  {
   "cell_type": "markdown",
   "id": "ec5db635-aef2-4cf6-9646-c54173b4f048",
   "metadata": {
    "papermill": {},
    "tags": []
   },
   "source": [
    "### Setup Variables\n",
    "- `data`: a dictionary containing the data to be saved in the json \n",
    "- `output_path`: pickle output"
   ]
  },
  {
   "cell_type": "code",
   "execution_count": null,
   "id": "093a6a77-011a-43b7-bc51-c8609b71c9db",
   "metadata": {
    "papermill": {},
    "tags": []
   },
   "outputs": [],
   "source": [
    "# Inputs\n",
    "data = {\"name\": \"John Doe\", \"age\": 30, \"city\": \"New York\"}\n",
    "\n",
    "# Outputs\n",
    "output_path = \"data.pkl\""
   ]
  },
  {
   "cell_type": "markdown",
   "id": "492ff731-7c1d-421a-8ca8-f9998960985e",
   "metadata": {
    "papermill": {},
    "tags": []
   },
   "source": [
    "## Model"
   ]
  },
  {
   "cell_type": "markdown",
   "id": "ddcea30b-ca37-40d9-bd95-6051a05032d9",
   "metadata": {
    "papermill": {},
    "tags": []
   },
   "source": [
    "### Save dictionary as pickle file"
   ]
  },
  {
   "cell_type": "markdown",
   "id": "42126c8d-c5e9-486c-8eee-e5430032969a",
   "metadata": {
    "papermill": {},
    "tags": []
   },
   "source": [
    "Using the `pickle.dump()` function, the `data` dictionary can be saved to a pickle file."
   ]
  },
  {
   "cell_type": "code",
   "execution_count": null,
   "id": "2000cc5f-9c13-49ef-b52d-8890cd8bad41",
   "metadata": {
    "papermill": {},
    "tags": []
   },
   "outputs": [],
   "source": [
    "with open(output_path, \"wb\") as f:\n",
    "    pickle.dump(data, f)"
   ]
  },
  {
   "cell_type": "markdown",
   "id": "4a3f7a9a-b3f2-4bcf-aabb-abe0d114357a",
   "metadata": {
    "papermill": {},
    "tags": []
   },
   "source": [
    "## Output"
   ]
  },
  {
   "cell_type": "markdown",
   "id": "94485536-9885-4df4-80e6-005d780c6faa",
   "metadata": {
    "papermill": {},
    "tags": []
   },
   "source": [
    "### Display result"
   ]
  },
  {
   "cell_type": "code",
   "execution_count": null,
   "id": "4856f253-ea50-4401-8bd0-9ef634502777",
   "metadata": {
    "papermill": {},
    "tags": []
   },
   "outputs": [],
   "source": [
    "print(\"The pickle file has been saved to:\", output_path)"
   ]
  }
 ],
 "metadata": {
  "kernelspec": {
   "display_name": "Python 3",
   "language": "python",
   "name": "python3"
  },
  "language_info": {
   "codemirror_mode": {
    "name": "ipython",
    "version": 3
   },
   "file_extension": ".py",
   "mimetype": "text/x-python",
   "name": "python",
   "nbconvert_exporter": "python",
   "pygments_lexer": "ipython3",
   "version": "3.9.6"
  },
  "naas": {
   "notebook_id": "2420ecf7c6601531c93fcf5bd3fd74ae7584c3b666889d872cecdd186ac28502",
   "notebook_path": "Python/Python_Save_dict_to_pickle.ipynb"
  },
  "papermill": {
   "default_parameters": {},
   "environment_variables": {},
   "parameters": {},
   "version": "2.4.0"
  },
  "widgets": {
   "application/vnd.jupyter.widget-state+json": {
    "state": {},
    "version_major": 2,
    "version_minor": 0
   }
  }
 },
 "nbformat": 4,
 "nbformat_minor": 5
}