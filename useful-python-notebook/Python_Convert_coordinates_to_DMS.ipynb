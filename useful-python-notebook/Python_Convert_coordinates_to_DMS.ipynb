{
 "cells": [
  {
   "cell_type": "markdown",
   "id": "latin-packing",
   "metadata": {
    "execution": {
     "iopub.execute_input": "2021-02-23T14:22:16.610471Z",
     "iopub.status.busy": "2021-02-23T14:22:16.610129Z",
     "iopub.status.idle": "2021-02-23T14:22:16.627784Z",
     "shell.execute_reply": "2021-02-23T14:22:16.626866Z",
     "shell.execute_reply.started": "2021-02-23T14:22:16.610384Z"
    },
    "papermill": {},
    "tags": []
   },
   "source": [
    "<img width=\"10%\" alt=\"Naas\" src=\"https://landen.imgix.net/jtci2pxwjczr/assets/5ice39g4.png?w=160\"/>"
   ]
  },
  {
   "cell_type": "markdown",
   "id": "compressed-wilson",
   "metadata": {
    "papermill": {},
    "tags": []
   },
   "source": [
    "# Python - Convert coordinates to degrees-minutes-seconds\n",
    "<a href=\"https://app.naas.ai/user-redirect/naas/downloader?url=https://raw.githubusercontent.com/jupyter-naas/awesome-notebooks/master/Python/Python_Convert_coordinates_to_DMS.ipynb\" target=\"_parent\"><img src=\"https://naasai-public.s3.eu-west-3.amazonaws.com/Open_in_Naas_Lab.svg\"/></a><br><br><a href=\"https://bit.ly/3JyWIk6\">Give Feedback</a> | <a href=\"https://github.com/jupyter-naas/awesome-notebooks/issues/new?assignees=&labels=bug&template=bug_report.md&title=Python+-+Convert+coordinates+to+degrees-minutes-seconds:+Error+short+description\">Bug report</a>"
   ]
  },
  {
   "cell_type": "markdown",
   "id": "cbf7f260-f739-4e8f-9074-f070af12b69f",
   "metadata": {
    "papermill": {},
    "tags": []
   },
   "source": [
    "**Tags:** #python #geopy #snippet #navigation"
   ]
  },
  {
   "cell_type": "markdown",
   "id": "8af9aa79",
   "metadata": {
    "papermill": {},
    "tags": []
   },
   "source": [
    "**Author:** [Antonio Georgiev](www.linkedin.com/in/antonio-georgiev-b672a325b)"
   ]
  },
  {
   "cell_type": "markdown",
   "id": "02046497-f618-49f4-a1fe-aec507e98fbc",
   "metadata": {
    "papermill": {},
    "tags": []
   },
   "source": [
    "**Last update:** 2023-07-28 (Created: 2023-07-28)"
   ]
  },
  {
   "cell_type": "markdown",
   "id": "5436984d-1d8d-4c7f-9b4e-82eb0555bca6",
   "metadata": {
    "papermill": {},
    "tags": []
   },
   "source": [
    "**Description:** This notebook shows how to convert coordinates to to Degrees, Minutes, and Seconds (DMS). Converting coordinates to Degrees, Minutes, and Seconds (DMS) can be beneficial for compatibility with systems that use DMS as their standard format. It can also improve precision in fields like surveying or navigation, where accurate measurements are crucial."
   ]
  },
  {
   "cell_type": "markdown",
   "id": "distinguished-truth",
   "metadata": {
    "papermill": {},
    "tags": []
   },
   "source": [
    "## Input"
   ]
  },
  {
   "cell_type": "markdown",
   "id": "141496e0-4ca4-4f54-a095-5742021d066e",
   "metadata": {
    "papermill": {},
    "tags": []
   },
   "source": [
    "### Setup variables\n",
    "- `latitude`: This variable represents the position of a point on Earth's surface in terms of degrees north or south of the equator.\n",
    "- `longitude`: This variable represents the position of a point on Earth's surface in terms of degrees east or west of the Prime Meridian. "
   ]
  },
  {
   "cell_type": "code",
   "execution_count": null,
   "id": "bffaf74b-3e26-408f-9a55-bb495577cdf6",
   "metadata": {
    "papermill": {},
    "tags": []
   },
   "outputs": [],
   "source": [
    "# Variables for decimal degrees to degrees-minutes-seconds\n",
    "latitude = 42.278750\n",
    "longitude = 22.689920"
   ]
  },
  {
   "cell_type": "markdown",
   "id": "registered-showcase",
   "metadata": {
    "papermill": {},
    "tags": []
   },
   "source": [
    "## Model"
   ]
  },
  {
   "cell_type": "markdown",
   "id": "205825c4-d874-4c4c-9ff9-85af6f3e5336",
   "metadata": {
    "papermill": {},
    "tags": []
   },
   "source": [
    "### Convert decimal degrees to degrees-minutes-seconds\n"
   ]
  },
  {
   "cell_type": "code",
   "execution_count": null,
   "id": "75f41700-8714-41bb-be6a-ce0b4d23e2e4",
   "metadata": {
    "papermill": {},
    "tags": []
   },
   "outputs": [],
   "source": [
    "def decimal_to_dms_with_direction(decimal, is_latitude):\n",
    "    degrees = int(decimal)\n",
    "    minutes = int((decimal - degrees) * 60)\n",
    "    seconds = (decimal - degrees - minutes / 60) * 3600\n",
    "    direction = \"North\" if is_latitude and degrees >= 0 else \"South\" if is_latitude else \"East\" if degrees >= 0 else \"West\"\n",
    "    return f\"{degrees}° {minutes}' {seconds:.2f}\\\" {direction}\"\n",
    "\n",
    "latitude_dms = decimal_to_dms_with_direction(latitude, is_latitude=True)\n",
    "longitude_dms = decimal_to_dms_with_direction(longitude, is_latitude=False)\n",
    "coordinates_dms = f\"{latitude_dms}, {longitude_dms}\""
   ]
  },
  {
   "cell_type": "markdown",
   "id": "c1e4c55b",
   "metadata": {
    "papermill": {},
    "tags": []
   },
   "source": [
    "## Output"
   ]
  },
  {
   "cell_type": "markdown",
   "id": "2ee5bfd6-de4f-40c9-a590-7c7afc44b9a0",
   "metadata": {
    "papermill": {},
    "tags": []
   },
   "source": [
    "### Display result"
   ]
  },
  {
   "cell_type": "code",
   "execution_count": null,
   "id": "4af1598f-b4fe-4da2-94f3-1cfb20996fa9",
   "metadata": {
    "papermill": {},
    "tags": []
   },
   "outputs": [],
   "source": [
    "print(\"Coordinates in DMS format with direction:\")\n",
    "print(coordinates_dms)"
   ]
  }
 ],
 "metadata": {
  "kernelspec": {
   "display_name": "Python 3",
   "language": "python",
   "name": "python3"
  },
  "language_info": {
   "codemirror_mode": {
    "name": "ipython",
    "version": 3
   },
   "file_extension": ".py",
   "mimetype": "text/x-python",
   "name": "python",
   "nbconvert_exporter": "python",
   "pygments_lexer": "ipython3",
   "version": "3.9.6"
  },
  "naas": {
   "notebook_id": "efc49f04ec827f01ebc298a6468803093908ebcaa46a2f7fcd8353cf67289731",
   "notebook_path": "Python/Python_Convert_coordinates_to_DMS.ipynb"
  },
  "papermill": {
   "default_parameters": {},
   "environment_variables": {},
   "parameters": {},
   "version": "2.3.3"
  },
  "widgets": {
   "application/vnd.jupyter.widget-state+json": {
    "state": {},
    "version_major": 2,
    "version_minor": 0
   }
  }
 },
 "nbformat": 4,
 "nbformat_minor": 5
}