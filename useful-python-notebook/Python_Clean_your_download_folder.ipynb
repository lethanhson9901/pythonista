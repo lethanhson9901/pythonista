{
 "cells": [
  {
   "cell_type": "markdown",
   "id": "f32d972c-8f35-4076-8406-e3c1754f1a43",
   "metadata": {
    "papermill": {},
    "tags": []
   },
   "source": [
    "<img width=\"10%\" alt=\"Naas\" src=\"https://landen.imgix.net/jtci2pxwjczr/assets/5ice39g4.png?w=160\"/>"
   ]
  },
  {
   "cell_type": "markdown",
   "id": "1edd2260-874f-4133-a2a7-eef45a76b77e",
   "metadata": {
    "papermill": {},
    "tags": []
   },
   "source": [
    "# Python - Clean your download folder\n",
    "<a href=\"https://app.naas.ai/user-redirect/naas/downloader?url=https://raw.githubusercontent.com/jupyter-naas/awesome-notebooks/master/Python/Python_Clean_your_download_folder.ipynb\" target=\"_parent\"><img src=\"https://naasai-public.s3.eu-west-3.amazonaws.com/Open_in_Naas_Lab.svg\"/></a><br><br><a href=\"https://bit.ly/3JyWIk6\">Give Feedback</a> | <a href=\"https://github.com/jupyter-naas/awesome-notebooks/issues/new?assignees=&labels=bug&template=bug_report.md&title=Python+-+Clean+your+download+folder:+Error+short+description\">Bug report</a>"
   ]
  },
  {
   "cell_type": "markdown",
   "id": "2966cc1d-488f-45b1-9a06-dd141ff8982a",
   "metadata": {
    "papermill": {},
    "tags": []
   },
   "source": [
    "**Tags:** #python #automation #clean_folder"
   ]
  },
  {
   "cell_type": "markdown",
   "id": "bcf3af40-9f2c-43ec-b83c-74acdde5078f",
   "metadata": {
    "papermill": {},
    "tags": []
   },
   "source": [
    "**Author:** [Mohit Singh](https://www.linkedin.com/in/mohwits/)"
   ]
  },
  {
   "cell_type": "markdown",
   "id": "7a8e2529-2c45-4b76-8fe4-2187c5b26fb4",
   "metadata": {
    "papermill": {},
    "tags": []
   },
   "source": [
    "**Last update:** 2023-04-12 (Created: 2023-04-01)"
   ]
  },
  {
   "cell_type": "markdown",
   "id": "527545c4-12d7-4a43-b171-c9f76db60f76",
   "metadata": {
    "papermill": {},
    "tags": []
   },
   "source": [
    "**Description:** This notebook will go through your given folder and check each file last modification time, and if it's been more than 30 days it will move those file to new folder 'files_to_delete'"
   ]
  },
  {
   "cell_type": "markdown",
   "id": "ebf22299-b52b-4e31-8199-8851e1a405e0",
   "metadata": {
    "papermill": {},
    "tags": []
   },
   "source": [
    "## Input"
   ]
  },
  {
   "cell_type": "markdown",
   "id": "5ad9a88f-0920-4991-9fc9-f592a3702228",
   "metadata": {
    "execution": {
     "iopub.execute_input": "2023-04-01T12:16:39.309260Z",
     "iopub.status.busy": "2023-04-01T12:16:39.308900Z",
     "iopub.status.idle": "2023-04-01T12:16:39.313019Z",
     "shell.execute_reply": "2023-04-01T12:16:39.312401Z",
     "shell.execute_reply.started": "2023-04-01T12:16:39.309172Z"
    },
    "papermill": {},
    "tags": []
   },
   "source": [
    "### Import libraries"
   ]
  },
  {
   "cell_type": "code",
   "execution_count": null,
   "id": "f1eacf6e-1599-4ab1-8367-b00959936144",
   "metadata": {
    "papermill": {},
    "tags": []
   },
   "outputs": [],
   "source": [
    "import os\n",
    "import shutil\n",
    "from datetime import datetime, timedelta"
   ]
  },
  {
   "cell_type": "markdown",
   "id": "735cce3b-c433-42d7-98f7-b00f4c767bd2",
   "metadata": {
    "papermill": {},
    "tags": []
   },
   "source": [
    "### Setup Variables\n",
    "- `path`: path of folder to be clean"
   ]
  },
  {
   "cell_type": "code",
   "execution_count": null,
   "id": "47990a6d-71a1-453a-a332-0337a9cc1b78",
   "metadata": {
    "papermill": {},
    "tags": []
   },
   "outputs": [],
   "source": [
    "## taking the folder path to be clean\n",
    "path = input(\"Enter the folder path: \")"
   ]
  },
  {
   "cell_type": "code",
   "execution_count": null,
   "id": "61ac8f37-5369-4d88-b053-210cd96b52a0",
   "metadata": {
    "papermill": {},
    "tags": []
   },
   "outputs": [],
   "source": [
    "## path of folder to be clean \n",
    "folder_path = os.path.join(os.path.expanduser('~'), path)\n",
    "## path of new folder\n",
    "to_delete_path = os.path.join(os.path.expanduser('~'), 'files_to_delete')"
   ]
  },
  {
   "cell_type": "code",
   "execution_count": null,
   "id": "b6541827-1535-4a2c-b426-f6e75e1a9133",
   "metadata": {
    "papermill": {},
    "tags": []
   },
   "outputs": [],
   "source": [
    "## creating 'to_delete' folder, if does not exists already\n",
    "if not os.path.exists(to_delete_path):\n",
    "    os.makedirs(to_delete_path)"
   ]
  },
  {
   "cell_type": "markdown",
   "id": "32a49edd-51f4-4f66-8108-47d7fff3aae1",
   "metadata": {
    "papermill": {},
    "tags": []
   },
   "source": [
    "## Model"
   ]
  },
  {
   "cell_type": "code",
   "execution_count": null,
   "id": "386572cc-496f-427f-85f3-2e9ab97cf506",
   "metadata": {
    "papermill": {},
    "tags": []
   },
   "outputs": [],
   "source": [
    "## getting list of all the files \n",
    "files = os.listdir(folder_path)"
   ]
  },
  {
   "cell_type": "code",
   "execution_count": null,
   "id": "cb0ae6f7-9d01-4832-96a0-1830b64edb1b",
   "metadata": {
    "papermill": {},
    "tags": []
   },
   "outputs": [],
   "source": [
    "## getting current time\n",
    "now = datetime.now()"
   ]
  },
  {
   "cell_type": "code",
   "execution_count": null,
   "id": "f36525da-6945-4a26-a61c-77a288ece11a",
   "metadata": {
    "papermill": {},
    "tags": []
   },
   "outputs": [],
   "source": [
    "## iterating over the list of files\n",
    "for file in files:\n",
    "    ## get the file path\n",
    "    file_path = os.path.join(folder_path, file)\n",
    "    \n",
    "    ## get the file modification date\n",
    "    modification_date = datetime.fromtimestamp(os.path.getmtime(file_path))\n",
    "    \n",
    "    ## calculate the time difference\n",
    "    time_difference = now - modification_date\n",
    "    \n",
    "    ## if the file is older than 30 days \n",
    "    ## moving the file to 'to_delete' folder\n",
    "    if time_difference > timedelta(days=30):\n",
    "        shutil.move(file_path, to_delete_path)"
   ]
  },
  {
   "cell_type": "markdown",
   "id": "2718b6de-6b45-4258-a495-6dcabc718090",
   "metadata": {
    "papermill": {},
    "tags": []
   },
   "source": [
    "## Output"
   ]
  },
  {
   "cell_type": "code",
   "execution_count": null,
   "id": "2ceec483-b508-4c08-8bdf-7e03277ff106",
   "metadata": {
    "papermill": {},
    "tags": []
   },
   "outputs": [],
   "source": [
    "print(\"The files has been successfully moved to 'files_to_delete' folder.\")"
   ]
  }
 ],
 "metadata": {
  "kernelspec": {
   "display_name": "Python 3",
   "language": "python",
   "name": "python3"
  },
  "language_info": {
   "codemirror_mode": {
    "name": "ipython",
    "version": 3
   },
   "file_extension": ".py",
   "mimetype": "text/x-python",
   "name": "python",
   "nbconvert_exporter": "python",
   "pygments_lexer": "ipython3",
   "version": "3.9.6"
  },
  "naas": {
   "notebook_id": "03bc3ba50473a4aff2cfca6b15c26f19dd51443a7e99da17d33864435520c19e",
   "notebook_path": "Python/Python_Clean_your_download_folder.ipynb"
  },
  "papermill": {
   "default_parameters": {},
   "environment_variables": {},
   "parameters": {},
   "version": "2.4.0"
  }
 },
 "nbformat": 4,
 "nbformat_minor": 5
}