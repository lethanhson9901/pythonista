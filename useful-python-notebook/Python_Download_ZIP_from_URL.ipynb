{
 "cells": [
  {
   "cell_type": "markdown",
   "id": "4bac09d4-b94e-4fb3-9239-833ef2560f66",
   "metadata": {
    "papermill": {},
    "tags": []
   },
   "source": [
    "<img width=\"10%\" alt=\"Naas\" src=\"https://landen.imgix.net/jtci2pxwjczr/assets/5ice39g4.png?w=160\"/>"
   ]
  },
  {
   "cell_type": "markdown",
   "id": "751987f1-367e-494a-a3a3-608e34f22ed6",
   "metadata": {
    "papermill": {},
    "tags": []
   },
   "source": [
    "# Python - Download ZIP from URL\n",
    "<a href=\"https://app.naas.ai/user-redirect/naas/downloader?url=https://raw.githubusercontent.com/jupyter-naas/awesome-notebooks/master/Python/Python_Download_ZIP_from_URL.ipynb\" target=\"_parent\"><img src=\"https://naasai-public.s3.eu-west-3.amazonaws.com/Open_in_Naas_Lab.svg\"/></a><br><br><a href=\"https://bit.ly/3JyWIk6\">Give Feedback</a> | <a href=\"https://github.com/jupyter-naas/awesome-notebooks/issues/new?assignees=&labels=bug&template=bug_report.md&title=Python+-+Download+ZIP+from+URL:+Error+short+description\">Bug report</a>"
   ]
  },
  {
   "cell_type": "markdown",
   "id": "6189bca8-caec-404c-bd7b-01c1a95d7de4",
   "metadata": {
    "papermill": {},
    "tags": []
   },
   "source": [
    "**Tags:** #python #urllib #download #zip #url #request"
   ]
  },
  {
   "cell_type": "markdown",
   "id": "344558f0-968e-4b2b-aaba-5f46b30c53ff",
   "metadata": {
    "papermill": {},
    "tags": []
   },
   "source": [
    "**Author:** [Hamid Mukhtar](https://www.linkedin.com/in/mukhtar-hamid/)"
   ]
  },
  {
   "cell_type": "markdown",
   "id": "247657aa-b5c8-43d7-9a18-3ceeb0e69e74",
   "metadata": {
    "papermill": {},
    "tags": []
   },
   "source": [
    "**Last update:** 2023-05-04 (Created: 2023-04-11)"
   ]
  },
  {
   "cell_type": "markdown",
   "id": "764ff1c3-7abb-4021-aa31-bf39f728e8a6",
   "metadata": {
    "papermill": {},
    "tags": []
   },
   "source": [
    "**Description:** This notebook will show how to download a ZIP file from a URL using urllib.request."
   ]
  },
  {
   "cell_type": "markdown",
   "id": "f9dcab2a-a719-4f4e-bc4b-62f6d6e902ca",
   "metadata": {
    "papermill": {},
    "tags": []
   },
   "source": [
    "**References:**\n",
    "- [urllib.request documentation](https://docs.python.org/3/library/urllib.request.html)\n",
    "- [urllib.request tutorial](https://www.pythonforbeginners.com/urllib/urllib-tutorial)"
   ]
  },
  {
   "cell_type": "markdown",
   "id": "09e687ef-eded-462a-a40e-ab554fc21b74",
   "metadata": {
    "papermill": {},
    "tags": []
   },
   "source": [
    "## Input"
   ]
  },
  {
   "cell_type": "markdown",
   "id": "514e37e5-6a0f-458f-9fbf-b11644450fa5",
   "metadata": {
    "papermill": {},
    "tags": []
   },
   "source": [
    "### Import libraries"
   ]
  },
  {
   "cell_type": "code",
   "execution_count": null,
   "id": "db578157-5fd9-4bbb-b55e-35720a3e130b",
   "metadata": {
    "papermill": {},
    "tags": []
   },
   "outputs": [],
   "source": [
    "import os\n",
    "import shutil\n",
    "import urllib"
   ]
  },
  {
   "cell_type": "markdown",
   "id": "7c1fd52f-1345-4c25-a2a5-6d0e9fb5d7e5",
   "metadata": {
    "papermill": {},
    "tags": []
   },
   "source": [
    "### Setup Variables\n",
    "- `url`: desired url from which we have to download the zip file\n",
    "- `headers_1`: passing the user agent to surpass the request\n",
    "- `output_path`: path of the file to be save"
   ]
  },
  {
   "cell_type": "code",
   "execution_count": null,
   "id": "81324e86-abab-4902-a083-0e8a9bdfdd75",
   "metadata": {
    "papermill": {},
    "tags": []
   },
   "outputs": [],
   "source": [
    "# Inputs \n",
    "url = 'https://www.learningcontainer.com/wp-content/uploads/2020/05/sample-zip-file.zip'\n",
    "headers_1 = {'User-Agent': 'Mozilla/5.0 (X11; Linux x86_64) AppleWebKit/537.36 (KHTML, like Gecko) Chrome/112.0.0.0 Safari/537.36'}\n",
    "\n",
    "# Outputs\n",
    "output_path = \"MyFile.zip\""
   ]
  },
  {
   "cell_type": "markdown",
   "id": "8787731e-afa0-428c-871c-0591f6d9f5a7",
   "metadata": {
    "papermill": {},
    "tags": []
   },
   "source": [
    "## Model"
   ]
  },
  {
   "cell_type": "markdown",
   "id": "9ceb668c-636a-4146-9331-d9331948806e",
   "metadata": {
    "papermill": {},
    "tags": []
   },
   "source": [
    "### Download zip files\n",
    "In this example, `url` is the path of the ZIP file that we want to download. \n",
    "The with statement is used to ensure that the ZIP file is closed properly after it has been read & written. \n",
    "The urllib.request.Request class is used to request the file. \n",
    "The urllib.request.urlopen method is called to open all the files in the archive to the current working directory. \n",
    "The shutil.copyfileobj class is used to open all the files and copy it in the required file as `MyFile.zp` as f."
   ]
  },
  {
   "cell_type": "code",
   "execution_count": null,
   "id": "c2c2f827-c24b-4c78-802b-ef0818fb8d16",
   "metadata": {
    "papermill": {},
    "tags": []
   },
   "outputs": [],
   "source": [
    "# request the file from website\n",
    "req = urllib.request.Request(url, headers=headers_1)\n",
    "\n",
    "# open it in a file and write it to save it in local\n",
    "with urllib.request.urlopen(req) as response, open(output_path, 'wb') as f:\n",
    "    shutil.copyfileobj(response, f)"
   ]
  },
  {
   "cell_type": "markdown",
   "id": "550705d0-28fb-4c8f-aff4-f4e4cf377c89",
   "metadata": {
    "papermill": {},
    "tags": []
   },
   "source": [
    "## Output"
   ]
  },
  {
   "cell_type": "markdown",
   "id": "114b2cfd-16b4-40ed-8b02-baf4be7b67cf",
   "metadata": {
    "papermill": {},
    "tags": []
   },
   "source": [
    "### Display result"
   ]
  },
  {
   "cell_type": "markdown",
   "id": "e6bc8f59-2dc7-4c9d-a7de-068dbf838f3d",
   "metadata": {
    "papermill": {},
    "tags": []
   },
   "source": [
    "The ZIP file has been downloaded and saved in the current directory."
   ]
  },
  {
   "cell_type": "code",
   "execution_count": null,
   "id": "eb8f65fb-be63-46c4-b39d-5e1db22830d1",
   "metadata": {
    "papermill": {},
    "tags": []
   },
   "outputs": [],
   "source": [
    "print(\"✅ ZIP downloaded on:\", output_path)"
   ]
  },
  {
   "cell_type": "markdown",
   "id": "b0e5130d-c822-4ca8-b887-2b2a5d749456",
   "metadata": {
    "papermill": {},
    "tags": []
   },
   "source": [
    " "
   ]
  },
  {
   "cell_type": "markdown",
   "id": "eb8b08b0-8bda-4c81-b5d2-d73b40f62b8d",
   "metadata": {
    "papermill": {},
    "tags": []
   },
   "source": [
    " "
   ]
  }
 ],
 "metadata": {
  "kernelspec": {
   "display_name": "Python 3",
   "language": "python",
   "name": "python3"
  },
  "language_info": {
   "codemirror_mode": {
    "name": "ipython",
    "version": 3
   },
   "file_extension": ".py",
   "mimetype": "text/x-python",
   "name": "python",
   "nbconvert_exporter": "python",
   "pygments_lexer": "ipython3",
   "version": "3.9.6"
  },
  "naas": {
   "notebook_id": "957c6b7099115e2ae404fdeea269f27e570a97ae941a603faad6a55502ce016f",
   "notebook_path": "Python/Python_Download_ZIP_from_URL.ipynb"
  },
  "papermill": {
   "default_parameters": {},
   "environment_variables": {},
   "parameters": {},
   "version": "2.4.0"
  },
  "widgets": {
   "application/vnd.jupyter.widget-state+json": {
    "state": {},
    "version_major": 2,
    "version_minor": 0
   }
  }
 },
 "nbformat": 4,
 "nbformat_minor": 5
}