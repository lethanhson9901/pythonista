{
 "cells": [
  {
   "cell_type": "markdown",
   "id": "222d6af1-8de3-4ea5-bb80-ddef6086c9d8",
   "metadata": {
    "papermill": {},
    "tags": []
   },
   "source": [
    "<img width=\"10%\" alt=\"Naas\" src=\"https://landen.imgix.net/jtci2pxwjczr/assets/5ice39g4.png?w=160\"/>"
   ]
  },
  {
   "cell_type": "markdown",
   "id": "356bb7c0-acc8-4389-99fe-c4a63c211274",
   "metadata": {
    "papermill": {},
    "tags": []
   },
   "source": [
    "# Python - List specific files from directory and subdirectories\n",
    "<a href=\"https://app.naas.ai/user-redirect/naas/downloader?url=https://raw.githubusercontent.com/jupyter-naas/awesome-notebooks/master/Python/Python_List_specific_files_from_directory_and_subdirectories.ipynb\" target=\"_parent\"><img src=\"https://naasai-public.s3.eu-west-3.amazonaws.com/Open_in_Naas_Lab.svg\"/></a><br><br><a href=\"https://bit.ly/3JyWIk6\">Give Feedback</a> | <a href=\"https://github.com/jupyter-naas/awesome-notebooks/issues/new?assignees=&labels=bug&template=bug_report.md&title=Python+-+List+specific+files+from+directory+and+subdirectories:+Error+short+description\">Bug report</a>"
   ]
  },
  {
   "cell_type": "markdown",
   "id": "2307a742-e542-48a7-b121-561b847dfc70",
   "metadata": {
    "papermill": {},
    "tags": []
   },
   "source": [
    "**Tags:** #python #glob #os #files #directory #subdirectories"
   ]
  },
  {
   "cell_type": "markdown",
   "id": "1d6d7928-7ba9-45c1-abda-76e63c999c7e",
   "metadata": {
    "papermill": {},
    "tags": []
   },
   "source": [
    "**Author:** [Florent Ravenel](https://www.linkedin.com/in/florent-ravenel/)"
   ]
  },
  {
   "cell_type": "markdown",
   "id": "34f03275-f71a-49ca-a3a1-27be3c367d1b",
   "metadata": {
    "papermill": {},
    "tags": []
   },
   "source": [
    "**Last update:** 2023-05-31 (Created: 2023-05-31)"
   ]
  },
  {
   "cell_type": "markdown",
   "id": "5d93e117-10de-4032-b559-7c7cc7e8a870",
   "metadata": {
    "papermill": {},
    "tags": []
   },
   "source": [
    "**Description:** This notebook list all specific files from a directory and its subdirectories using glob and os libraries. It is usefull to quickly list all files from a directory and its subdirectories."
   ]
  },
  {
   "cell_type": "markdown",
   "id": "a479bc5f-55f9-4ada-bc35-2e134efc7f81",
   "metadata": {
    "papermill": {},
    "tags": []
   },
   "source": [
    "**References:**\n",
    "- [glob module to list files of a directory](https://pynative.com/python-list-files-in-a-directory/#h-glob-module-to-list-files-of-a-directory)\n",
    "- [os module to list files of a directory](https://pynative.com/python-list-files-in-a-directory/#h-os-module-to-list-files-of-a-directory)"
   ]
  },
  {
   "cell_type": "markdown",
   "id": "27d01562-7601-43bc-8755-bafab353c40a",
   "metadata": {
    "papermill": {},
    "tags": []
   },
   "source": [
    "## Input"
   ]
  },
  {
   "cell_type": "markdown",
   "id": "81fad996-48b0-47b6-bbeb-b909b62ce66d",
   "metadata": {
    "papermill": {},
    "tags": []
   },
   "source": [
    "### Import libraries"
   ]
  },
  {
   "cell_type": "code",
   "execution_count": null,
   "id": "fe05c036-4f2d-4228-8508-34477e01f83a",
   "metadata": {
    "papermill": {},
    "tags": []
   },
   "outputs": [],
   "source": [
    "import glob\n",
    "import os"
   ]
  },
  {
   "cell_type": "markdown",
   "id": "6ffd2109-dd01-4c19-8a86-6b94c64780a0",
   "metadata": {
    "papermill": {},
    "tags": []
   },
   "source": [
    "### Setup Variables\n",
    "- `directory`: path of the directory to list files\n",
    "- `file_extension`: extension of the files to list"
   ]
  },
  {
   "cell_type": "code",
   "execution_count": null,
   "id": "e1bfd5b3-a0d6-426f-b0d2-beb8c881e385",
   "metadata": {
    "papermill": {},
    "tags": []
   },
   "outputs": [],
   "source": [
    "directory = \"./\"\n",
    "file_extension = \"txt\""
   ]
  },
  {
   "cell_type": "markdown",
   "id": "74b471f1-dff6-4c45-90d4-4c8410b6b6cd",
   "metadata": {
    "papermill": {},
    "tags": []
   },
   "source": [
    "## Model"
   ]
  },
  {
   "cell_type": "markdown",
   "id": "75025fb0-50bb-4054-bab9-21b264add8c4",
   "metadata": {
    "papermill": {},
    "tags": []
   },
   "source": [
    "### List files from directory and subdirectories"
   ]
  },
  {
   "cell_type": "code",
   "execution_count": null,
   "id": "5fad1e63-f772-4678-8ad9-583d194bd3fd",
   "metadata": {
    "papermill": {},
    "tags": []
   },
   "outputs": [],
   "source": [
    "files = glob.glob(os.path.join(directory, \"**/*.\" + file_extension), recursive=True)"
   ]
  },
  {
   "cell_type": "markdown",
   "id": "b7c81bce-43e9-4e4c-86c8-990c2e4cfb2d",
   "metadata": {
    "papermill": {},
    "tags": []
   },
   "source": [
    "## Output"
   ]
  },
  {
   "cell_type": "markdown",
   "id": "a8288225-4003-412a-88ea-1bf6dc44ccee",
   "metadata": {
    "papermill": {},
    "tags": []
   },
   "source": [
    "### Display result"
   ]
  },
  {
   "cell_type": "code",
   "execution_count": null,
   "id": "7191b813-375f-4261-97f2-7908e6f98b8a",
   "metadata": {
    "papermill": {},
    "tags": []
   },
   "outputs": [],
   "source": [
    "files"
   ]
  },
  {
   "cell_type": "markdown",
   "id": "0cd50aea-75d0-48b8-96ac-a01649e6b7fb",
   "metadata": {
    "papermill": {},
    "tags": []
   },
   "source": [
    " "
   ]
  }
 ],
 "metadata": {
  "kernelspec": {
   "display_name": "Python 3",
   "language": "python",
   "name": "python3"
  },
  "language_info": {
   "codemirror_mode": {
    "name": "ipython",
    "version": 3
   },
   "file_extension": ".py",
   "mimetype": "text/x-python",
   "name": "python",
   "nbconvert_exporter": "python",
   "pygments_lexer": "ipython3",
   "version": "3.9.6"
  },
  "naas": {
   "notebook_id": "381a06edafb0d844bae219bab0e7cd6772d3ed58bbb597161a0ffecce70fff53",
   "notebook_path": "Python/Python_List_specific_files_from_directory_and_subdirectories.ipynb"
  },
  "papermill": {
   "default_parameters": {},
   "environment_variables": {},
   "parameters": {},
   "version": "2.4.0"
  },
  "widgets": {
   "application/vnd.jupyter.widget-state+json": {
    "state": {},
    "version_major": 2,
    "version_minor": 0
   }
  }
 },
 "nbformat": 4,
 "nbformat_minor": 5
}