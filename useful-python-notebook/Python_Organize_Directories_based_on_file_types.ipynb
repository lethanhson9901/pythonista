{
 "cells": [
  {
   "cell_type": "markdown",
   "id": "latin-packing",
   "metadata": {
    "execution": {
     "iopub.execute_input": "2021-02-23T14:22:16.610471Z",
     "iopub.status.busy": "2021-02-23T14:22:16.610129Z",
     "iopub.status.idle": "2021-02-23T14:22:16.627784Z",
     "shell.execute_reply": "2021-02-23T14:22:16.626866Z",
     "shell.execute_reply.started": "2021-02-23T14:22:16.610384Z"
    },
    "papermill": {},
    "tags": []
   },
   "source": [
    "<img width=\"10%\" alt=\"Naas\" src=\"https://landen.imgix.net/jtci2pxwjczr/assets/5ice39g4.png?w=160\"/>"
   ]
  },
  {
   "cell_type": "markdown",
   "id": "compressed-wilson",
   "metadata": {
    "papermill": {},
    "tags": []
   },
   "source": [
    "# Python - Organize Directories based on file types\n",
    "<a href=\"https://app.naas.ai/user-redirect/naas/downloader?url=https://raw.githubusercontent.com/jupyter-naas/awesome-notebooks/master/Python/Python_Organize_Directories_based_on_file_types.ipynb\" target=\"_parent\"><img src=\"https://naasai-public.s3.eu-west-3.amazonaws.com/Open_in_Naas_Lab.svg\"/></a><br><br><a href=\"https://bit.ly/3JyWIk6\">Give Feedback</a> | <a href=\"https://github.com/jupyter-naas/awesome-notebooks/issues/new?assignees=&labels=bug&template=bug_report.md&title=Python+-+Organize+Directories+based+on+file+types:+Error+short+description\">Bug report</a>"
   ]
  },
  {
   "cell_type": "markdown",
   "id": "religious-programmer",
   "metadata": {
    "papermill": {},
    "tags": []
   },
   "source": [
    "**Tags:** #organize #files #directories"
   ]
  },
  {
   "cell_type": "markdown",
   "id": "1fe9f56e-561c-4f52-aef8-b861c9462107",
   "metadata": {
    "papermill": {},
    "tags": []
   },
   "source": [
    "**Author:** [Ahmed Mousa](https://www.linkedin.com/in/akmousa/)"
   ]
  },
  {
   "cell_type": "markdown",
   "id": "3216b2ca-230a-4f1b-a01a-4259dc4bb0c2",
   "metadata": {
    "papermill": {},
    "tags": []
   },
   "source": [
    "**Last update:** 2023-04-12 (Created: 2022-11-11)"
   ]
  },
  {
   "cell_type": "markdown",
   "id": "31ea7cdb-e10d-43fc-b026-f69249a59736",
   "metadata": {
    "papermill": {},
    "tags": []
   },
   "source": [
    "**Description:** This notebook organizes your files based on their extensions to directories for data scientists"
   ]
  },
  {
   "cell_type": "markdown",
   "id": "distinguished-truth",
   "metadata": {
    "papermill": {},
    "tags": []
   },
   "source": [
    "## Input"
   ]
  },
  {
   "cell_type": "markdown",
   "id": "numeric-mediterranean",
   "metadata": {
    "papermill": {},
    "tags": []
   },
   "source": [
    "### Import libraries"
   ]
  },
  {
   "cell_type": "code",
   "execution_count": 16,
   "id": "potential-surfing",
   "metadata": {
    "papermill": {},
    "tags": []
   },
   "outputs": [],
   "source": [
    "from shutil import move\n",
    "from os import path\n",
    "import os\n",
    "import glob\n",
    "import pathlib"
   ]
  },
  {
   "cell_type": "markdown",
   "id": "aggressive-trustee",
   "metadata": {
    "papermill": {},
    "tags": []
   },
   "source": [
    "### Variables"
   ]
  },
  {
   "cell_type": "code",
   "execution_count": 2,
   "id": "690d5785-3ff6-403f-aeb3-e6aebb0735eb",
   "metadata": {
    "papermill": {},
    "tags": []
   },
   "outputs": [],
   "source": [
    "files_path = \"\"  # Put the path to where your unorganized files are # Leave it as it's if your files are in the same folder with this notebook"
   ]
  },
  {
   "cell_type": "code",
   "execution_count": 17,
   "id": "2842f0a1-8bfb-4dd0-9a66-6c476c67501d",
   "metadata": {
    "papermill": {},
    "tags": []
   },
   "outputs": [],
   "source": [
    "exclude_files = []  # Add files to exclude from moving as you wish here in this list\n",
    "exclude_files.append(\"Python_Organize_Directories_based_on_file_types.ipynb\")"
   ]
  },
  {
   "cell_type": "code",
   "execution_count": 18,
   "id": "continuous-melbourne",
   "metadata": {
    "papermill": {},
    "tags": []
   },
   "outputs": [],
   "source": [
    "folders_extension = {\n",
    "    \"Programming Files\": [\n",
    "        \"ipynb\",\n",
    "        \"py\",\n",
    "        \"java\",\n",
    "        \"cs\",\n",
    "        \"js\",\n",
    "        \"vsix\",\n",
    "        \"jar\",\n",
    "        \"cc\",\n",
    "        \"ccc\",\n",
    "        \"html\",\n",
    "        \"xml\",\n",
    "        \"kt\",\n",
    "    ],\n",
    "    \"Data\": {\n",
    "        \"Structured Data\": [\n",
    "            \"txt\",\n",
    "            \"pdf\",\n",
    "            \"doc\",\n",
    "            \"pdf\",\n",
    "            \"ppt\",\n",
    "            \"pps\",\n",
    "            \"docx\",\n",
    "            \"pptx\",\n",
    "            \"csv\",\n",
    "            \"xlsx\",\n",
    "            \"xlsm\",\n",
    "            \"xlsb\",\n",
    "            \"xltx\",\n",
    "            \"xltm\",\n",
    "            \"xls\",\n",
    "            \"xlt\",\n",
    "            \"xls\",\n",
    "            \"xml\",\n",
    "            \"xla\",\n",
    "            \"xlam\",\n",
    "            \"xlw\",\n",
    "            \"xlr\",\n",
    "        ],\n",
    "        \"Unstructured Data\": {\n",
    "            \"Images\": [\n",
    "                \"jpeg\",\n",
    "                \"jpg\",\n",
    "                \"png\",\n",
    "                \"gif\",\n",
    "                \"tiff\",\n",
    "                \"raw\",\n",
    "                \"webp\",\n",
    "                \"jfif\",\n",
    "                \"ico\",\n",
    "                \"psd\",\n",
    "                \"svg\",\n",
    "                \"ai\",\n",
    "            ],\n",
    "            \"Videos\": [\n",
    "                \"mp4\",\n",
    "                \"webm\",\n",
    "                \"mkv\",\n",
    "                \"MPG\",\n",
    "                \"MP2\",\n",
    "                \"MPEG\",\n",
    "                \"MPE\",\n",
    "                \"MPV\",\n",
    "                \"OGG\",\n",
    "                \"M4P\",\n",
    "                \"M4V\",\n",
    "                \"WMV\",\n",
    "                \"MOV\",\n",
    "                \"QT\",\n",
    "                \"FLV\",\n",
    "                \"SWF\",\n",
    "                \"AVCHD\",\n",
    "                \"avi\",\n",
    "                \"mpg\",\n",
    "                \"mpe\",\n",
    "                \"mpeg\",\n",
    "                \"asf\",\n",
    "                \"wmv\",\n",
    "                \"mov\",\n",
    "                \"qt\",\n",
    "                \"rm\",\n",
    "            ],\n",
    "            \"Audio\": [\n",
    "                \"mp3\",\n",
    "                \"wav\",\n",
    "                \"wma\",\n",
    "                \"mpa\",\n",
    "                \"ram\",\n",
    "                \"ra\",\n",
    "                \"aac\",\n",
    "                \"aif\",\n",
    "                \"m4a\",\n",
    "                \"tsa\",\n",
    "            ],\n",
    "        },\n",
    "        \"Compressed\": [\n",
    "            \"zip\",\n",
    "            \"rar\",\n",
    "            \"arj\",\n",
    "            \"gz\",\n",
    "            \"sit\",\n",
    "            \"sitx\",\n",
    "            \"sea\",\n",
    "            \"ace\",\n",
    "            \"bz2\",\n",
    "            \"7z\",\n",
    "        ],\n",
    "    },\n",
    "}"
   ]
  },
  {
   "cell_type": "markdown",
   "id": "registered-showcase",
   "metadata": {
    "papermill": {},
    "tags": []
   },
   "source": [
    "## Model"
   ]
  },
  {
   "cell_type": "code",
   "execution_count": 19,
   "id": "97b4d342-c57b-4137-b86a-5f8119ac28d6",
   "metadata": {
    "papermill": {},
    "tags": []
   },
   "outputs": [],
   "source": [
    "def create_folder(folder_name):\n",
    "    if not os.path.exists(folder_name):\n",
    "        os.makedirs(folder_name)"
   ]
  },
  {
   "cell_type": "code",
   "execution_count": 23,
   "id": "5ce440f4-f949-43e4-8d9d-edd7c476459a",
   "metadata": {
    "papermill": {},
    "tags": []
   },
   "outputs": [],
   "source": [
    "def move_file(file_path, desired_folder_path):\n",
    "    if not file_path in exclude_files:\n",
    "        create_folder(desired_folder_path)\n",
    "        move(file_path, desired_folder_path)\n",
    "        print(f\"Moved file: {file_path}, to {desired_folder_path}\")"
   ]
  },
  {
   "cell_type": "code",
   "execution_count": 24,
   "id": "crude-louisville",
   "metadata": {
    "papermill": {},
    "tags": []
   },
   "outputs": [],
   "source": [
    "def organize_files():\n",
    "    for file in glob.glob(files_path + \"*\"):\n",
    "        if os.path.isdir(file):\n",
    "            continue\n",
    "        file_name_path = file\n",
    "        file_extiension = pathlib.Path(file).suffix.replace(\".\", \"\")\n",
    "        for folder in folders_extension.keys():\n",
    "            if isinstance(folders_extension[folder], list):\n",
    "                if file_extiension in folders_extension[folder]:\n",
    "                    target_folder_path = os.path.join(files_path, folder)\n",
    "                    move_file(file, target_folder_path)\n",
    "            else:\n",
    "                if isinstance(folders_extension[folder], list):\n",
    "                    for sub_folder in folders_extension[folder]:\n",
    "                        if file_extiension in folders_extension[folder][sub_folder]:\n",
    "                            target_folder_path = os.path.join(\n",
    "                                files_path, folder, sub_folder\n",
    "                            )\n",
    "                            move_file(file, target_folder_path)\n",
    "                else:\n",
    "                    for sub_folder in folders_extension[folder]:\n",
    "                        if isinstance(folders_extension[folder][sub_folder], list):\n",
    "                            if file_extiension in folders_extension[folder][sub_folder]:\n",
    "                                target_folder_path = os.path.join(\n",
    "                                    files_path, folder, sub_folder\n",
    "                                )\n",
    "                                move_file(file, target_folder_path)\n",
    "                        else:\n",
    "                            for ssub_folder in folders_extension[folder][sub_folder]:\n",
    "                                if (\n",
    "                                    file_extiension\n",
    "                                    in folders_extension[folder][sub_folder][\n",
    "                                        ssub_folder\n",
    "                                    ]\n",
    "                                ):\n",
    "                                    target_folder_path = os.path.join(\n",
    "                                        files_path, folder, sub_folder, ssub_folder\n",
    "                                    )\n",
    "                                    move_file(file, target_folder_path)"
   ]
  },
  {
   "cell_type": "markdown",
   "id": "lonely-pacific",
   "metadata": {
    "execution": {
     "iopub.execute_input": "2021-07-02T23:32:10.789097Z",
     "iopub.status.busy": "2021-07-02T23:32:10.788829Z",
     "iopub.status.idle": "2021-07-02T23:32:10.796900Z",
     "shell.execute_reply": "2021-07-02T23:32:10.796358Z",
     "shell.execute_reply.started": "2021-07-02T23:32:10.789033Z"
    },
    "papermill": {},
    "tags": []
   },
   "source": [
    "## Output"
   ]
  },
  {
   "cell_type": "code",
   "execution_count": 25,
   "id": "9c4e3b7b-6440-4844-8054-265f1aec65eb",
   "metadata": {
    "papermill": {},
    "tags": []
   },
   "outputs": [],
   "source": [
    "organize_files()"
   ]
  }
 ],
 "metadata": {
  "kernelspec": {
   "display_name": "Python 3",
   "language": "python",
   "name": "python3"
  },
  "language_info": {
   "codemirror_mode": {
    "name": "ipython",
    "version": 3
   },
   "file_extension": ".py",
   "mimetype": "text/x-python",
   "name": "python",
   "nbconvert_exporter": "python",
   "pygments_lexer": "ipython3",
   "version": "3.9.6"
  },
  "naas": {
   "notebook_id": "0ab9494e481d7f7c2fdead13ca4b8a0d8c8caca6cc43f1c1386eeaa60915720b",
   "notebook_path": "Python/Python_Organize_Directories_based_on_file_types.ipynb"
  },
  "papermill": {
   "default_parameters": {},
   "environment_variables": {},
   "parameters": {},
   "version": "2.3.3"
  },
  "widgets": {
   "application/vnd.jupyter.widget-state+json": {
    "state": {},
    "version_major": 2,
    "version_minor": 0
   }
  }
 },
 "nbformat": 4,
 "nbformat_minor": 5
}