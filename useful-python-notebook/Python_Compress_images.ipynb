{
 "cells": [
  {
   "cell_type": "markdown",
   "id": "817efca2-d964-4caa-8e89-8e27a4a2c1e5",
   "metadata": {
    "papermill": {},
    "tags": []
   },
   "source": [
    "<img width=\"10%\" alt=\"Naas\" src=\"https://landen.imgix.net/jtci2pxwjczr/assets/5ice39g4.png?w=160\"/>"
   ]
  },
  {
   "cell_type": "markdown",
   "id": "59a27ad7-cd54-47a7-a7dc-595d81a82f93",
   "metadata": {
    "papermill": {},
    "tags": []
   },
   "source": [
    "# Python - Compress images\n",
    "<a href=\"https://app.naas.ai/user-redirect/naas/downloader?url=https://raw.githubusercontent.com/jupyter-naas/awesome-notebooks/master/Python/Python_Compress_images.ipynb\" target=\"_parent\"><img src=\"https://naasai-public.s3.eu-west-3.amazonaws.com/Open_in_Naas_Lab.svg\"/></a><br><br><a href=\"https://bit.ly/3JyWIk6\">Give Feedback</a> | <a href=\"https://github.com/jupyter-naas/awesome-notebooks/issues/new?assignees=&labels=bug&template=bug_report.md&title=Python+-+Compress+images:+Error+short+description\">Bug report</a>"
   ]
  },
  {
   "cell_type": "markdown",
   "id": "a77cb0a6-0b48-4062-a584-f1f05e2cb38d",
   "metadata": {
    "papermill": {},
    "tags": []
   },
   "source": [
    "**Tags:** #python #PIL #images #compress"
   ]
  },
  {
   "cell_type": "markdown",
   "id": "6ae7c471-225f-453e-85be-abbfe1f2d756",
   "metadata": {
    "papermill": {},
    "tags": []
   },
   "source": [
    "**Author:** [Mohit Singh](https://www.linkedin.com/in/mohwits/)"
   ]
  },
  {
   "cell_type": "markdown",
   "id": "744300df-bf05-4884-a357-61e68c328a4f",
   "metadata": {
    "papermill": {},
    "tags": []
   },
   "source": [
    "**Last update:** 2023-05-23 (Created: 2023-05-23)"
   ]
  },
  {
   "cell_type": "markdown",
   "id": "0557601e-abde-4cb1-85c0-eb9eb0e49004",
   "metadata": {
    "papermill": {},
    "tags": []
   },
   "source": [
    "**Description:** This notebook uses PIL library to compress the image."
   ]
  },
  {
   "cell_type": "markdown",
   "id": "5bb129f4-e252-4402-9cca-50873d1225cb",
   "metadata": {
    "papermill": {},
    "tags": []
   },
   "source": [
    "## Input"
   ]
  },
  {
   "cell_type": "markdown",
   "id": "d2abc9a3-c2d2-4a6b-86eb-eddd47b591b1",
   "metadata": {
    "papermill": {},
    "tags": []
   },
   "source": [
    "### Import libraries"
   ]
  },
  {
   "cell_type": "code",
   "execution_count": null,
   "id": "497068f3-4493-451e-a040-7dcd963d4508",
   "metadata": {
    "papermill": {},
    "tags": []
   },
   "outputs": [],
   "source": [
    "try:\n",
    "    from PIL import Image\n",
    "except:\n",
    "    !pip install PIL\n",
    "    from PIL import Image\n",
    "import os\n",
    "import requests"
   ]
  },
  {
   "cell_type": "markdown",
   "id": "52b23a99-4c86-43f1-a0ab-8b77a7234919",
   "metadata": {
    "papermill": {},
    "tags": []
   },
   "source": [
    "### Setup Variables"
   ]
  },
  {
   "cell_type": "markdown",
   "id": "e85a8301-08ba-47d7-8582-325ecfb05381",
   "metadata": {
    "papermill": {},
    "tags": []
   },
   "source": [
    "- `image_url`: address of the image file"
   ]
  },
  {
   "cell_type": "code",
   "execution_count": null,
   "id": "f46255ab-b2e5-4e78-9cf2-039958e10513",
   "metadata": {
    "papermill": {},
    "tags": []
   },
   "outputs": [],
   "source": [
    "image_url = \"https://source.unsplash.com/user/c_v_r/1900x800\""
   ]
  },
  {
   "cell_type": "markdown",
   "id": "274e470f-c437-4f84-9764-26397a2d8315",
   "metadata": {
    "papermill": {},
    "tags": []
   },
   "source": [
    "## Model"
   ]
  },
  {
   "cell_type": "markdown",
   "id": "fab5ab3f-eca2-4f77-9f59-f3b5a4e9705e",
   "metadata": {
    "papermill": {},
    "tags": []
   },
   "source": [
    "### Saving the image "
   ]
  },
  {
   "cell_type": "code",
   "execution_count": null,
   "id": "293f1040-ce59-453a-9040-23e524ed3f84",
   "metadata": {
    "papermill": {},
    "tags": []
   },
   "outputs": [],
   "source": [
    "response = requests.get(image_url)\n",
    "open(\"image.jpg\", \"wb\").write(response.content)"
   ]
  },
  {
   "cell_type": "code",
   "execution_count": null,
   "id": "60379201-c5e3-4271-8960-b4431fb6c6a1",
   "metadata": {
    "papermill": {},
    "tags": []
   },
   "outputs": [],
   "source": [
    "## opening the image to work on\n",
    "image = Image.open(\"image.jpg\")"
   ]
  },
  {
   "cell_type": "code",
   "execution_count": null,
   "id": "30b3479d-da20-4528-867e-7e42845f3881",
   "metadata": {
    "papermill": {},
    "tags": []
   },
   "outputs": [],
   "source": [
    "## getting height and width of image\n",
    "height, width = image.size"
   ]
  },
  {
   "cell_type": "markdown",
   "id": "150c352d-020a-4471-b5d9-73cb527dbac3",
   "metadata": {
    "papermill": {},
    "tags": []
   },
   "source": [
    "### Compressing image"
   ]
  },
  {
   "cell_type": "code",
   "execution_count": null,
   "id": "c94f22d2-b608-4e86-8ae6-564384030db7",
   "metadata": {
    "papermill": {},
    "tags": []
   },
   "outputs": [],
   "source": [
    "compressed_image = image.resize((height, width), Image.ANTIALIAS)"
   ]
  },
  {
   "cell_type": "code",
   "execution_count": null,
   "id": "4f545e9f-9db4-48fa-a420-e21cdfbc06ac",
   "metadata": {
    "papermill": {},
    "tags": []
   },
   "outputs": [],
   "source": [
    "## saving compressed image\n",
    "compressed_image.save(\"compressed_image.jpg\", optimize=True, quality=9)"
   ]
  },
  {
   "cell_type": "markdown",
   "id": "862ff6d8-e55a-4eef-95f2-b3476ca8b704",
   "metadata": {
    "papermill": {},
    "tags": []
   },
   "source": [
    "## Output"
   ]
  },
  {
   "cell_type": "code",
   "execution_count": null,
   "id": "864e1b8f-f41c-4751-8d30-f876323a1b09",
   "metadata": {
    "papermill": {},
    "tags": []
   },
   "outputs": [],
   "source": [
    "## print the size in bytes of original and compressed image\n",
    "print(\"Size of original image in bytes:\",os.stat('image.jpg').st_size)\n",
    "print(\"Size of compressed image in bytes:\",os.stat('compressed_image.jpg').st_size)"
   ]
  }
 ],
 "metadata": {
  "kernelspec": {
   "display_name": "Python 3",
   "language": "python",
   "name": "python3"
  },
  "language_info": {
   "codemirror_mode": {
    "name": "ipython",
    "version": 3
   },
   "file_extension": ".py",
   "mimetype": "text/x-python",
   "name": "python",
   "nbconvert_exporter": "python",
   "pygments_lexer": "ipython3",
   "version": "3.9.6"
  },
  "naas": {
   "notebook_id": "6803ffcd1c5475d13f4ef26dd7761f41d317f9a20677f2e8e30352537c2c9cf5",
   "notebook_path": "Python/Python_Compress_images.ipynb"
  },
  "papermill": {
   "default_parameters": {},
   "environment_variables": {},
   "parameters": {},
   "version": "2.4.0"
  }
 },
 "nbformat": 4,
 "nbformat_minor": 5
}