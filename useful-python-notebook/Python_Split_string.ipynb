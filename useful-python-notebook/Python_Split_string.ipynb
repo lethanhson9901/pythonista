{
 "cells": [
  {
   "cell_type": "markdown",
   "id": "a375df46-3e8d-496c-b9f2-956a649ee2b0",
   "metadata": {
    "papermill": {},
    "tags": []
   },
   "source": [
    "<img width=\"10%\" alt=\"Naas\" src=\"https://landen.imgix.net/jtci2pxwjczr/assets/5ice39g4.png?w=160\"/>"
   ]
  },
  {
   "cell_type": "markdown",
   "id": "7da76030-0b3c-4c2f-9e7b-36043d3cd1a1",
   "metadata": {
    "papermill": {},
    "tags": []
   },
   "source": [
    "# Python - Split string\n",
    "<a href=\"https://app.naas.ai/user-redirect/naas/downloader?url=https://raw.githubusercontent.com/jupyter-naas/awesome-notebooks/master/Python/Python_Split_string.ipynb\" target=\"_parent\"><img src=\"https://naasai-public.s3.eu-west-3.amazonaws.com/Open_in_Naas_Lab.svg\"/></a><br><br><a href=\"https://bit.ly/3JyWIk6\">Give Feedback</a> | <a href=\"https://github.com/jupyter-naas/awesome-notebooks/issues/new?assignees=&labels=bug&template=bug_report.md&title=Python+-+Split+string:+Error+short+description\">Bug report</a>"
   ]
  },
  {
   "cell_type": "markdown",
   "id": "a783de75-d983-43ac-8323-a92bca66a8c3",
   "metadata": {
    "papermill": {},
    "tags": []
   },
   "source": [
    "**Tags:** #python #file #string #url #split #snippet #operations"
   ]
  },
  {
   "cell_type": "markdown",
   "id": "e502ab4b-f881-47fa-a199-1d9604807537",
   "metadata": {
    "papermill": {},
    "tags": []
   },
   "source": [
    "**Author:** [Benjamin Filly](https://www.linkedin.com/in/benjamin-filly-05427727a/)"
   ]
  },
  {
   "cell_type": "markdown",
   "id": "849c36c9-ca8a-4571-b962-c499d91789a7",
   "metadata": {
    "papermill": {},
    "tags": []
   },
   "source": [
    "**Last update:** 2023-06-09 (Created: 2023-06-08)"
   ]
  },
  {
   "cell_type": "markdown",
   "id": "b447e3a8-ced8-4831-bbfc-ca5a7466df6f",
   "metadata": {
    "papermill": {},
    "tags": []
   },
   "source": [
    "**Description:** This notebook shows you how to split a string object. The `split()` function in Python is useful for dividing a string into smaller parts based on a specified delimiter. It enables efficient string parsing, data cleaning, user input processing, and tokenization in natural language processing tasks."
   ]
  },
  {
   "cell_type": "markdown",
   "id": "8848fad9-b586-4662-bb43-19c52e25967a",
   "metadata": {
    "papermill": {},
    "tags": []
   },
   "source": [
    "**References:**\n",
    "- [Python Tutorial String split](https://www.geeksforgeeks.org/python-string-split/)"
   ]
  },
  {
   "cell_type": "markdown",
   "id": "be71fe01-3f32-4bef-b52f-14559736a10e",
   "metadata": {
    "papermill": {},
    "tags": []
   },
   "source": [
    "## Input"
   ]
  },
  {
   "cell_type": "markdown",
   "id": "71db5801-b569-4661-8a73-7ab6674a643a",
   "metadata": {
    "papermill": {},
    "tags": []
   },
   "source": [
    "### Setup Variables\n",
    "- `string`: string to divide\n",
    "- `separator` : This is a delimiter. The string splits at this specified separator. If is not provided then any white space is a separator.\n",
    "- `maxsplit`: It is a number, which tells us to split the string into maximum of provided number of times. If it is not provided then the default is -1 that means there is no limit."
   ]
  },
  {
   "cell_type": "code",
   "execution_count": 1,
   "id": "56811afa-732c-46fd-b3a8-f04e4baada05",
   "metadata": {
    "papermill": {},
    "tags": []
   },
   "outputs": [],
   "source": [
    "string = \"/home/user/Documents/example.txt\" #the file path or URL you want to separate\n",
    "separator = \"/\"\n",
    "maxsplit = -1"
   ]
  },
  {
   "cell_type": "markdown",
   "id": "f2ad5c91-6389-4bd2-8537-7e0088b93533",
   "metadata": {
    "papermill": {},
    "tags": []
   },
   "source": [
    "## Model"
   ]
  },
  {
   "cell_type": "markdown",
   "id": "4b1df285-3221-458d-899d-bd2a0bf3fe0a",
   "metadata": {
    "papermill": {},
    "tags": []
   },
   "source": [
    "### Split file path or URL"
   ]
  },
  {
   "cell_type": "code",
   "execution_count": 2,
   "id": "72a0a05f-2935-4505-8a09-3602e791774c",
   "metadata": {
    "papermill": {},
    "tags": []
   },
   "outputs": [],
   "source": [
    "result = string.split(separator, maxsplit)"
   ]
  },
  {
   "cell_type": "markdown",
   "id": "d3d1a3d3-b21e-493c-8db1-2a76dbff62fe",
   "metadata": {
    "papermill": {},
    "tags": []
   },
   "source": [
    "## Output"
   ]
  },
  {
   "cell_type": "markdown",
   "id": "9a45ecdc-5c4f-458b-b292-a4c05564a6d7",
   "metadata": {
    "papermill": {},
    "tags": []
   },
   "source": [
    "### Display result"
   ]
  },
  {
   "cell_type": "code",
   "execution_count": 3,
   "id": "8439ed05-4a87-4ca5-af92-5f979730bd2e",
   "metadata": {
    "papermill": {},
    "tags": []
   },
   "outputs": [],
   "source": [
    "print(result)"
   ]
  },
  {
   "cell_type": "markdown",
   "id": "8acc17ec-b543-49ef-befb-f57a96c08878",
   "metadata": {
    "papermill": {},
    "tags": []
   },
   "source": [
    " "
   ]
  }
 ],
 "metadata": {
  "kernelspec": {
   "display_name": "Python 3",
   "language": "python",
   "name": "python3"
  },
  "language_info": {
   "codemirror_mode": {
    "name": "ipython",
    "version": 3
   },
   "file_extension": ".py",
   "mimetype": "text/x-python",
   "name": "python",
   "nbconvert_exporter": "python",
   "pygments_lexer": "ipython3",
   "version": "3.9.6"
  },
  "naas": {
   "notebook_id": "cd0eb2047f4ba6ff6d26c2a2842f93e989014f5a4902b69592fd075bbb6859e4",
   "notebook_path": "Python/Python_Split_string.ipynb"
  },
  "papermill": {
   "default_parameters": {},
   "environment_variables": {},
   "parameters": {},
   "version": "2.4.0"
  },
  "widgets": {
   "application/vnd.jupyter.widget-state+json": {
    "state": {},
    "version_major": 2,
    "version_minor": 0
   }
  }
 },
 "nbformat": 4,
 "nbformat_minor": 5
}