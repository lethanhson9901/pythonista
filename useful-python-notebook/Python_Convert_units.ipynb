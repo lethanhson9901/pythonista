{
 "cells": [
  {
   "cell_type": "markdown",
   "id": "a375df46-3e8d-496c-b9f2-956a649ee2b0",
   "metadata": {
    "papermill": {},
    "tags": []
   },
   "source": [
    "<img width=\"10%\" alt=\"Naas\" src=\"https://landen.imgix.net/jtci2pxwjczr/assets/5ice39g4.png?w=160\"/>"
   ]
  },
  {
   "cell_type": "markdown",
   "id": "7da76030-0b3c-4c2f-9e7b-36043d3cd1a1",
   "metadata": {
    "papermill": {},
    "tags": []
   },
   "source": [
    "# Python - Convert units\n",
    "<a href=\"https://app.naas.ai/user-redirect/naas/downloader?url=https://raw.githubusercontent.com/jupyter-naas/awesome-notebooks/master/Python/Python_Convert_units.ipynb\" target=\"_parent\"><img src=\"https://naasai-public.s3.eu-west-3.amazonaws.com/Open_in_Naas_Lab.svg\"/></a><br><br><a href=\"https://bit.ly/3JyWIk6\">Give Feedback</a> | <a href=\"https://github.com/jupyter-naas/awesome-notebooks/issues/new?assignees=&labels=bug&template=bug_report.md&title=Python+-+Convert+units:+Error+short+description\">Bug report</a>"
   ]
  },
  {
   "cell_type": "markdown",
   "id": "a783de75-d983-43ac-8323-a92bca66a8c3",
   "metadata": {
    "papermill": {},
    "tags": []
   },
   "source": [
    "**Tags:** #python #convert #units #snippet #operations #length #temperature #weight #time #volume #speed"
   ]
  },
  {
   "cell_type": "markdown",
   "id": "e502ab4b-f881-47fa-a199-1d9604807537",
   "metadata": {
    "papermill": {},
    "tags": []
   },
   "source": [
    "**Author:** [Benjamin Filly](https://www.linkedin.com/in/benjamin-filly-05427727a/)"
   ]
  },
  {
   "cell_type": "markdown",
   "id": "65f52e28-4542-45d1-8b51-54e8d81fe85c",
   "metadata": {
    "papermill": {},
    "tags": []
   },
   "source": [
    "**Last update:** 2023-06-19 (Created: 2023-06-19)"
   ]
  },
  {
   "cell_type": "markdown",
   "id": "b447e3a8-ced8-4831-bbfc-ca5a7466df6f",
   "metadata": {
    "papermill": {},
    "tags": []
   },
   "source": [
    "**Description:** This notebook shows you how to convert units (length, temperature, weight, time, volume, speed) using Python."
   ]
  },
  {
   "cell_type": "markdown",
   "id": "8848fad9-b586-4662-bb43-19c52e25967a",
   "metadata": {
    "papermill": {},
    "tags": []
   },
   "source": [
    "**References:**\n",
    "- [Python Unit converter example](https://stackoverflow.com/questions/32091117/simple-unit-converter-in-python)"
   ]
  },
  {
   "cell_type": "markdown",
   "id": "be71fe01-3f32-4bef-b52f-14559736a10e",
   "metadata": {
    "papermill": {},
    "tags": []
   },
   "source": [
    "## Input"
   ]
  },
  {
   "cell_type": "markdown",
   "id": "71db5801-b569-4661-8a73-7ab6674a643a",
   "metadata": {
    "papermill": {},
    "tags": []
   },
   "source": [
    "### Setup Variables\n",
    "[Unit Available symbols](https://github.com/Benjifilly/My_notebooks/wiki/Unit-symbols)\n",
    "- `value`: starting unit value\n",
    "- `from_unit` : is the unit of the starting value, the one you want to convert\n",
    "- `to_unit`: this is the unit we want to achieve with this script\n",
    "- `category`: the category to which the units belong"
   ]
  },
  {
   "cell_type": "code",
   "execution_count": null,
   "id": "56811afa-732c-46fd-b3a8-f04e4baada05",
   "metadata": {
    "papermill": {},
    "tags": []
   },
   "outputs": [],
   "source": [
    "value = 20\n",
    "from_unit = 'C'\n",
    "to_unit = 'F'\n",
    "category = 'temperature'"
   ]
  },
  {
   "cell_type": "markdown",
   "id": "f2ad5c91-6389-4bd2-8537-7e0088b93533",
   "metadata": {
    "papermill": {},
    "tags": []
   },
   "source": [
    "## Model"
   ]
  },
  {
   "cell_type": "markdown",
   "id": "4b1df285-3221-458d-899d-bd2a0bf3fe0a",
   "metadata": {
    "papermill": {},
    "tags": []
   },
   "source": [
    "### Unit available"
   ]
  },
  {
   "cell_type": "code",
   "execution_count": null,
   "id": "72a0a05f-2935-4505-8a09-3602e791774c",
   "metadata": {
    "papermill": {},
    "tags": []
   },
   "outputs": [],
   "source": [
    "def convert_length(value, from_unit, to_unit):\n",
    "    units = {\n",
    "        'mm': 0.001,\n",
    "        'cm': 0.01,\n",
    "        'm': 1.0,\n",
    "        'km': 1000.0,\n",
    "        'in': 0.0254,\n",
    "        'ft': 0.3048,\n",
    "        'yd': 0.9144,\n",
    "        'mi': 1609.34,\n",
    "        'nm': 1e-9,\n",
    "        'μm': 1e-6,\n",
    "        'mil': 0.0254 / 1000,\n",
    "        'fm': 1e-15\n",
    "        # Add other length units here\n",
    "    }\n",
    "\n",
    "    if from_unit not in units or to_unit not in units:\n",
    "        raise ValueError(\"Invalid unit.\")\n",
    "\n",
    "    return value * units[from_unit] / units[to_unit]\n",
    "\n",
    "\n",
    "def convert_temperature(value, from_unit, to_unit):\n",
    "    units = {\n",
    "        'C': {\n",
    "            'C': lambda x: x,\n",
    "            'F': lambda x: x * 9 / 5 + 32,\n",
    "            'K': lambda x: x + 273.15\n",
    "        },\n",
    "        'F': {\n",
    "            'C': lambda x: (x - 32) * 5 / 9,\n",
    "            'F': lambda x: x,\n",
    "            'K': lambda x: (x + 459.67) * 5 / 9\n",
    "        },\n",
    "        'K': {\n",
    "            'C': lambda x: x - 273.15,\n",
    "            'F': lambda x: x * 9 / 5 - 459.67,\n",
    "            'K': lambda x: x\n",
    "        }\n",
    "    }\n",
    "\n",
    "    if from_unit not in units or to_unit not in units[from_unit]:\n",
    "        raise ValueError(\"Invalid unit.\")\n",
    "\n",
    "    return units[from_unit][to_unit](value)\n",
    "\n",
    "\n",
    "def convert_weight(value, from_unit, to_unit):\n",
    "    units = {\n",
    "        'mg': 0.001,\n",
    "        'g': 1.0,\n",
    "        'kg': 1000.0,\n",
    "        'lb': 453.592,\n",
    "        'oz': 28.3495,\n",
    "        't': 1000000.0,\n",
    "        'st': 6350.29318,\n",
    "        'carat': 0.2,\n",
    "        'grain': 0.06479891\n",
    "        # Add other weight units here\n",
    "    }\n",
    "\n",
    "    if from_unit not in units or to_unit not in units:\n",
    "        raise ValueError(\"Invalid unit.\")\n",
    "\n",
    "    return value * units[from_unit] / units[to_unit]\n",
    "\n",
    "\n",
    "def convert_time(value, from_unit, to_unit):\n",
    "    units = {\n",
    "        's': 1.0,\n",
    "        'min': 60.0,\n",
    "        'h': 3600.0,\n",
    "        'day': 86400.0,\n",
    "        'week': 604800.0,\n",
    "        'month': 2628000.0,\n",
    "        'year': 31536000.0\n",
    "        # Add other time units here\n",
    "    }\n",
    "\n",
    "    if from_unit not in units or to_unit not in units:\n",
    "        raise ValueError(\"Invalid unit.\")\n",
    "\n",
    "    return value * units[from_unit] / units[to_unit]\n",
    "\n",
    "\n",
    "def convert_volume(value, from_unit, to_unit):\n",
    "    units = {\n",
    "        'mL': 0.001,\n",
    "        'L': 1.0,\n",
    "        'gal': 3.78541,\n",
    "        'qt': 0.946353,\n",
    "        'pt': 0.473176,\n",
    "        'fl oz': 0.0295735,\n",
    "        'm3': 1000.0\n",
    "        # Add other volume units here\n",
    "    }\n",
    "\n",
    "    if from_unit not in units or to_unit not in units:\n",
    "        raise ValueError(\"Invalid unit.\")\n",
    "\n",
    "    return value * units[from_unit] / units[to_unit]\n",
    "\n",
    "\n",
    "def convert_speed(value, from_unit, to_unit):\n",
    "    units = {\n",
    "        'm/s': 1.0,\n",
    "        'km/h': 1 / 3.6,\n",
    "        'mph': 0.44704,\n",
    "        'knot': 0.514444\n",
    "        # Add other speed units here\n",
    "    }\n",
    "\n",
    "    if from_unit not in units or to_unit not in units:\n",
    "        raise ValueError(\"Invalid unit.\")\n",
    "\n",
    "    return value * units[from_unit] / units[to_unit]"
   ]
  },
  {
   "cell_type": "markdown",
   "id": "8258fc57-f4b3-4424-a296-4eb21832b2c6",
   "metadata": {
    "papermill": {},
    "tags": []
   },
   "source": [
    "### Converting"
   ]
  },
  {
   "cell_type": "code",
   "execution_count": null,
   "id": "c5ce84e7-3c0a-4644-8802-a11895c16fc6",
   "metadata": {
    "papermill": {},
    "tags": []
   },
   "outputs": [],
   "source": [
    "def convert_units(value, from_unit, to_unit, category):\n",
    "    if from_unit == to_unit:\n",
    "        return value\n",
    "\n",
    "    if category == 'length':\n",
    "        return convert_length(value, from_unit, to_unit)\n",
    "\n",
    "    elif category == 'temperature':\n",
    "        return convert_temperature(value, from_unit, to_unit)\n",
    "\n",
    "    elif category == 'weight':\n",
    "        return convert_weight(value, from_unit, to_unit)\n",
    "\n",
    "    elif category == 'time':\n",
    "        return convert_time(value, from_unit, to_unit)\n",
    "\n",
    "    elif category == 'volume':\n",
    "        return convert_volume(value, from_unit, to_unit)\n",
    "\n",
    "    elif category == 'speed':\n",
    "        return convert_speed(value, from_unit, to_unit)\n",
    "\n",
    "    else:\n",
    "        raise ValueError(\"Unsupported unit category.\")"
   ]
  },
  {
   "cell_type": "markdown",
   "id": "d3d1a3d3-b21e-493c-8db1-2a76dbff62fe",
   "metadata": {
    "papermill": {},
    "tags": []
   },
   "source": [
    "## Output"
   ]
  },
  {
   "cell_type": "markdown",
   "id": "9a45ecdc-5c4f-458b-b292-a4c05564a6d7",
   "metadata": {
    "papermill": {},
    "tags": []
   },
   "source": [
    "### Display result"
   ]
  },
  {
   "cell_type": "code",
   "execution_count": null,
   "id": "8439ed05-4a87-4ca5-af92-5f979730bd2e",
   "metadata": {
    "papermill": {},
    "tags": []
   },
   "outputs": [],
   "source": [
    "result = convert_units(value, from_unit, to_unit, category)\n",
    "print(\"{} {} to {} = {}\".format(value, from_unit, to_unit, result))"
   ]
  },
  {
   "cell_type": "markdown",
   "id": "8acc17ec-b543-49ef-befb-f57a96c08878",
   "metadata": {
    "papermill": {},
    "tags": []
   },
   "source": [
    " "
   ]
  }
 ],
 "metadata": {
  "kernelspec": {
   "display_name": "Python 3",
   "language": "python",
   "name": "python3"
  },
  "language_info": {
   "codemirror_mode": {
    "name": "ipython",
    "version": 3
   },
   "file_extension": ".py",
   "mimetype": "text/x-python",
   "name": "python",
   "nbconvert_exporter": "python",
   "pygments_lexer": "ipython3",
   "version": "3.9.6"
  },
  "naas": {
   "notebook_id": "e124d5cbb19b3fbe5b868dcf46bb16fa5e5b8c2d1caf34e712fd11ce10360bf5",
   "notebook_path": "Python/Python_Convert_units.ipynb"
  },
  "papermill": {
   "default_parameters": {},
   "environment_variables": {},
   "parameters": {},
   "version": "2.4.0"
  },
  "widgets": {
   "application/vnd.jupyter.widget-state+json": {
    "state": {},
    "version_major": 2,
    "version_minor": 0
   }
  }
 },
 "nbformat": 4,
 "nbformat_minor": 5
}