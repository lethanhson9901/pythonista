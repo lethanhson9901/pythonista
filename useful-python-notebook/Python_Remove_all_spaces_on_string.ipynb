{
 "cells": [
  {
   "cell_type": "markdown",
   "id": "06edff60-d722-49a9-9a9a-57fa5a1030f7",
   "metadata": {
    "papermill": {},
    "tags": []
   },
   "source": [
    "<img width=\"10%\" alt=\"Naas\" src=\"https://landen.imgix.net/jtci2pxwjczr/assets/5ice39g4.png?w=160\"/>"
   ]
  },
  {
   "cell_type": "markdown",
   "id": "1ec8683d-431e-46ef-8d0f-9e9b265b48d4",
   "metadata": {
    "papermill": {},
    "tags": []
   },
   "source": [
    "# Python - Remove all spaces on string\n",
    "<a href=\"https://app.naas.ai/user-redirect/naas/downloader?url=https://raw.githubusercontent.com/jupyter-naas/awesome-notebooks/master/Python/Python_Remove_all_spaces_on_string.ipynb\" target=\"_parent\"><img src=\"https://naasai-public.s3.eu-west-3.amazonaws.com/Open_in_Naas_Lab.svg\"/></a><br><br><a href=\"https://bit.ly/3JyWIk6\">Give Feedback</a> | <a href=\"https://github.com/jupyter-naas/awesome-notebooks/issues/new?assignees=&labels=bug&template=bug_report.md&title=Python+-+Remove+all+spaces+on+string:+Error+short+description\">Bug report</a>"
   ]
  },
  {
   "cell_type": "markdown",
   "id": "33ae0e14-bc12-4d8b-90bb-c278ac7332ea",
   "metadata": {
    "papermill": {},
    "tags": []
   },
   "source": [
    "**Tags:** #python #remove #string #space "
   ]
  },
  {
   "cell_type": "markdown",
   "id": "edc5d3f5-3ed0-4e52-93c8-5c8a8be873f5",
   "metadata": {
    "papermill": {},
    "tags": []
   },
   "source": [
    "**Author:** [Benjamin Filly](https://www.linkedin.com/in/benjamin-filly-05427727a/)"
   ]
  },
  {
   "cell_type": "markdown",
   "id": "5fe82720-b183-4e19-9d9c-a943e4e99079",
   "metadata": {
    "papermill": {},
    "tags": []
   },
   "source": [
    "**Last update:** 2023-06-13 (Created: 2023-06-13)"
   ]
  },
  {
   "cell_type": "markdown",
   "id": "1a718131-46f1-4166-a074-3c331656581b",
   "metadata": {
    "papermill": {},
    "tags": []
   },
   "source": [
    "**Description:** This notebook shows how to remove all spaces from a string using two different methods "
   ]
  },
  {
   "cell_type": "markdown",
   "id": "9250d183-8abd-47b9-a7e1-f5ff8739aadd",
   "metadata": {
    "papermill": {},
    "tags": []
   },
   "source": [
    "**References:**\n",
    "- [Python tutorial: deleting spaces](https://www.geeksforgeeks.org/python-remove-spaces-from-a-string/)\n"
   ]
  },
  {
   "cell_type": "markdown",
   "id": "34f53255-a268-4b8b-ac25-3d400b0d0d77",
   "metadata": {
    "papermill": {},
    "tags": []
   },
   "source": [
    "## Input"
   ]
  },
  {
   "cell_type": "markdown",
   "id": "73ebbe13-bcf7-4464-a69c-4b500edc5126",
   "metadata": {
    "papermill": {},
    "tags": []
   },
   "source": [
    "### Setup Variables\n",
    "- `string`: character string space you want to remove"
   ]
  },
  {
   "cell_type": "code",
   "execution_count": null,
   "id": "54dcd911-33cc-433b-86fb-d3ebe4291be0",
   "metadata": {
    "papermill": {},
    "tags": []
   },
   "outputs": [],
   "source": [
    "string = \"Hello, world! This is a string with spaces.\""
   ]
  },
  {
   "cell_type": "markdown",
   "id": "ddf92068-753c-4c1e-b186-771aa9a5dffe",
   "metadata": {
    "papermill": {},
    "tags": []
   },
   "source": [
    "## Model"
   ]
  },
  {
   "cell_type": "markdown",
   "id": "402485b0-365a-4c1a-bca7-c2cfb82678a0",
   "metadata": {
    "papermill": {},
    "tags": []
   },
   "source": [
    "### Method 1 : Delete all space using replace\n",
    "In this example, the `replace()` method is called on the `string` variable. It takes two arguments: the substring to be replaced (\" \") and the new substring to replace it with (\"\").\n",
    "\n",
    "Note that the `replace()`method returns a new string with the replacements made, while the original string remains unchanged."
   ]
  },
  {
   "cell_type": "code",
   "execution_count": null,
   "id": "18ec53e0-7e69-43a9-a61c-1ae3dd95872a",
   "metadata": {
    "papermill": {},
    "tags": []
   },
   "outputs": [],
   "source": [
    "string_without_spaces1 = string.replace(\" \", \"\")\n",
    "string_without_spaces1"
   ]
  },
  {
   "cell_type": "markdown",
   "id": "3cf19770-28d0-411e-a066-3c83fd2e2100",
   "metadata": {
    "papermill": {},
    "tags": []
   },
   "source": [
    "### Method 2: Using join and split method "
   ]
  },
  {
   "cell_type": "markdown",
   "id": "38d4f44e-9f36-4670-b4a5-eeb85eb9ec8e",
   "metadata": {
    "papermill": {},
    "tags": []
   },
   "source": [
    "- `string.split()` : The`split()`method is called on the `string`variable without any arguments. It divides the string into a list of substrings, using space characters (spaces, tabs or line breaks) as delimiters.\n",
    "- `\"\".join` : The `join()` method is called on an empty string `\"\"` and takes the result of `string.split()` as argument. It concatenates the substrings of the list together, using the empty string as separator.\n",
    "\n"
   ]
  },
  {
   "cell_type": "code",
   "execution_count": null,
   "id": "99eb6c8f-4beb-437d-b12d-a3cc26ae3105",
   "metadata": {
    "papermill": {},
    "tags": []
   },
   "outputs": [],
   "source": [
    "string_without_spaces2 = \"\".join(string.split())\n",
    "string_without_spaces2"
   ]
  },
  {
   "cell_type": "markdown",
   "id": "4a2b6c57-b052-480f-9f58-f059d5f8ba32",
   "metadata": {
    "papermill": {},
    "tags": []
   },
   "source": [
    "## Output"
   ]
  },
  {
   "cell_type": "markdown",
   "id": "e0610a9d-4d04-462c-85ea-510c7a71c048",
   "metadata": {
    "papermill": {},
    "tags": []
   },
   "source": [
    "### Display result 1"
   ]
  },
  {
   "cell_type": "code",
   "execution_count": null,
   "id": "8f896329-633a-4151-86f7-0feb1f4a58d7",
   "metadata": {
    "papermill": {},
    "tags": []
   },
   "outputs": [],
   "source": [
    "print(\"String without spaces:\", string_without_spaces1)"
   ]
  },
  {
   "cell_type": "markdown",
   "id": "3c4d88b4-0fad-4196-ba7d-d5fc2e90b173",
   "metadata": {
    "papermill": {},
    "tags": []
   },
   "source": [
    " "
   ]
  },
  {
   "cell_type": "markdown",
   "id": "8ca73b6e-47ea-42eb-8cc2-8fd252e5d20f",
   "metadata": {
    "papermill": {},
    "tags": []
   },
   "source": [
    "### Display result 2"
   ]
  },
  {
   "cell_type": "code",
   "execution_count": null,
   "id": "e99e4599-da42-4888-9c14-679c8995e742",
   "metadata": {
    "papermill": {},
    "tags": []
   },
   "outputs": [],
   "source": [
    "print(\"String without spaces:\", string_without_spaces2)"
   ]
  }
 ],
 "metadata": {
  "kernelspec": {
   "display_name": "Python 3",
   "language": "python",
   "name": "python3"
  },
  "language_info": {
   "codemirror_mode": {
    "name": "ipython",
    "version": 3
   },
   "file_extension": ".py",
   "mimetype": "text/x-python",
   "name": "python",
   "nbconvert_exporter": "python",
   "pygments_lexer": "ipython3",
   "version": "3.9.6"
  },
  "naas": {
   "notebook_id": "0d78a6b4a629c2de8f39bc5862abe5d91077ed048c9ae5b3df5277f419395f72",
   "notebook_path": "Python/Python_Remove_all_spaces_on_string.ipynb"
  },
  "papermill": {
   "default_parameters": {},
   "environment_variables": {},
   "parameters": {},
   "version": "2.4.0"
  },
  "widgets": {
   "application/vnd.jupyter.widget-state+json": {
    "state": {},
    "version_major": 2,
    "version_minor": 0
   }
  }
 },
 "nbformat": 4,
 "nbformat_minor": 5
}